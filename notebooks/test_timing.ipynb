{
 "cells": [
  {
   "cell_type": "code",
   "execution_count": 1,
   "metadata": {},
   "outputs": [],
   "source": [
    "import numpy as np\n",
    "from mflex.model.field.utility.poloidal import (phi_hypgeo, phi, dphidz, dphidz_hypgeo)"
   ]
  },
  {
   "cell_type": "code",
   "execution_count": 2,
   "metadata": {},
   "outputs": [],
   "source": [
    "xmin = 0.0\n",
    "ymin = 0.0\n",
    "zmin = 0.0\n",
    "xmax = 2.0\n",
    "ymax = 2.0\n",
    "zmax = 2.0\n",
    "\n",
    "nresol_x = 200\n",
    "nresol_y = 200\n",
    "nresol_z = 300\n",
    "nf_max = 200\n",
    "\n",
    "pixelsize_x = (xmax - xmin) / nresol_x\n",
    "pixelsize_y = (ymax - ymin) / nresol_y\n",
    "pixelsize_z = (zmax - zmin) / nresol_z\n",
    "\n",
    "z0 = 0.2\n",
    "b = 1.0\n",
    "\n",
    "length_scale = 2.0\n",
    "length_scale_x = 1.0 * nresol_x * float(pixelsize_x)\n",
    "length_scale_y = 1.0 * nresol_y * float(pixelsize_y)\n",
    "length_scale_x_norm = length_scale_x / length_scale\n",
    "length_scale_y_norm = length_scale_y / length_scale\n",
    "x_arr = np.arange(nresol_x) * (xmax - xmin) / (nresol_x - 1) + xmin\n",
    "y_arr = np.arange(nresol_y) * (ymax - ymin) / (nresol_y - 1) + ymin\n",
    "z_arr = np.arange(nresol_z) * (zmax - zmin) / (nresol_z - 1) + zmin\n",
    "\n",
    "kx_arr = np.arange(nf_max) * np.pi / length_scale_x_norm  # [0:nf_max]\n",
    "ky_arr = np.arange(nf_max) * np.pi / length_scale_y_norm  # [0:nf_max]\n",
    "\n",
    "one_arr = 0.0 * np.arange(nf_max) + 1.0\n",
    "ky_grid = np.outer(ky_arr, one_arr)  # [0:nf_max, 0:nf_max]\n",
    "kx_grid = np.outer(one_arr, kx_arr)  # [0:nf_max, 0:nf_max]\n",
    "k2_arr = np.outer(ky_arr**2, one_arr) + np.outer(one_arr, kx_arr**2)\n",
    "k2_arr[0, 0] = (np.pi / length_scale) ** 2 + (np.pi / length_scale) ** 2\n",
    "\n",
    "deltaz = z0 / 10.0\n"
   ]
  },
  {
   "cell_type": "code",
   "execution_count": 3,
   "metadata": {},
   "outputs": [],
   "source": [
    "a = 0.22\n",
    "alpha = 0.25\n",
    "ratiodzls = deltaz / length_scale"
   ]
  },
  {
   "cell_type": "code",
   "execution_count": 4,
   "metadata": {},
   "outputs": [],
   "source": [
    "p_arr = 0.5 * ratiodzls * np.sqrt(k2_arr * (1.0 - a - a * b) - alpha**2)\n",
    "q_arr = 0.5 * ratiodzls * np.sqrt(k2_arr * (1.0 - a + a * b) - alpha**2)"
   ]
  },
  {
   "cell_type": "code",
   "execution_count": 5,
   "metadata": {},
   "outputs": [],
   "source": [
    "phi_asymp = np.zeros((nf_max, nf_max, nresol_z))\n",
    "phi_hyp = np.zeros((nf_max, nf_max, nresol_z))\n",
    "dphi_asymp = np.zeros((nf_max, nf_max, nresol_z))\n",
    "dphi_hyp = np.zeros((nf_max, nf_max, nresol_z))"
   ]
  },
  {
   "cell_type": "code",
   "execution_count": 6,
   "metadata": {},
   "outputs": [],
   "source": [
    "def check_runtime_pa():\n",
    "    for iz, z in enumerate(z_arr):\n",
    "        phi_asymp[:, :, iz] = phi(z, p_arr, q_arr, z0, deltaz)"
   ]
  },
  {
   "cell_type": "code",
   "execution_count": 7,
   "metadata": {},
   "outputs": [],
   "source": [
    "def check_runtime_ph():\n",
    "    for iz, z in enumerate(z_arr):\n",
    "        phi_hyp[:, :, iz] = phi_hypgeo(z, p_arr, q_arr, z0, deltaz)"
   ]
  },
  {
   "cell_type": "code",
   "execution_count": 8,
   "metadata": {},
   "outputs": [],
   "source": [
    "def check_runtime_dpa():\n",
    "    for iz, z in enumerate(z_arr):\n",
    "        dphi_asymp[:, :, iz] = dphidz(z, p_arr, q_arr, z0, deltaz)"
   ]
  },
  {
   "cell_type": "code",
   "execution_count": 9,
   "metadata": {},
   "outputs": [],
   "source": [
    "def check_runtime_dph():\n",
    "    for iz, z in enumerate(z_arr):\n",
    "        dphi_hyp[:, :, iz] = dphidz_hypgeo(z, p_arr, q_arr, z0, deltaz)"
   ]
  },
  {
   "cell_type": "code",
   "execution_count": 10,
   "metadata": {},
   "outputs": [
    {
     "name": "stdout",
     "output_type": "stream",
     "text": [
      "151 ms ± 5.44 ms per loop (mean ± std. dev. of 1000 runs, 1 loop each)\n"
     ]
    }
   ],
   "source": [
    "%timeit -r 1000 check_runtime_pa()"
   ]
  },
  {
   "cell_type": "code",
   "execution_count": 11,
   "metadata": {},
   "outputs": [
    {
     "name": "stdout",
     "output_type": "stream",
     "text": [
      "2.85 s ± 75.5 ms per loop (mean ± std. dev. of 1000 runs, 1 loop each)\n"
     ]
    }
   ],
   "source": [
    "%timeit -r 1000 check_runtime_ph()"
   ]
  },
  {
   "cell_type": "code",
   "execution_count": 12,
   "metadata": {},
   "outputs": [
    {
     "name": "stdout",
     "output_type": "stream",
     "text": [
      "159 ms ± 4.89 ms per loop (mean ± std. dev. of 1000 runs, 1 loop each)\n"
     ]
    }
   ],
   "source": [
    "%timeit -r 1000 check_runtime_dpa()"
   ]
  },
  {
   "cell_type": "code",
   "execution_count": 13,
   "metadata": {},
   "outputs": [
    {
     "name": "stdout",
     "output_type": "stream",
     "text": [
      "3.84 s ± 93.3 ms per loop (mean ± std. dev. of 1000 runs, 1 loop each)\n"
     ]
    }
   ],
   "source": [
    "%timeit -r 1000 check_runtime_dph()"
   ]
  },
  {
   "cell_type": "code",
   "execution_count": null,
   "metadata": {},
   "outputs": [],
   "source": []
  }
 ],
 "metadata": {
  "kernelspec": {
   "display_name": ".venv",
   "language": "python",
   "name": "python3"
  },
  "language_info": {
   "codemirror_mode": {
    "name": "ipython",
    "version": 3
   },
   "file_extension": ".py",
   "mimetype": "text/x-python",
   "name": "python",
   "nbconvert_exporter": "python",
   "pygments_lexer": "ipython3",
   "version": "3.12.3"
  }
 },
 "nbformat": 4,
 "nbformat_minor": 2
}
