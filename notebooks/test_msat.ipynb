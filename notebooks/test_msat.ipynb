{
 "cells": [
  {
   "cell_type": "code",
   "execution_count": 3,
   "metadata": {},
   "outputs": [
    {
     "name": "stdout",
     "output_type": "stream",
     "text": [
      "The autoreload extension is already loaded. To reload it, use:\n",
      "  %reload_ext autoreload\n"
     ]
    }
   ],
   "source": [
    "%load_ext autoreload\n",
    "%autoreload 2"
   ]
  },
  {
   "cell_type": "code",
   "execution_count": 4,
   "metadata": {},
   "outputs": [],
   "source": [
    "import numpy as np\n",
    "from mflex.model.field.save import msatformat\n",
    "from mflex.model.field.bfield_model import magnetic_field\n",
    "from mflex.simulate.simulate_boundary import dipole, dalmatian"
   ]
  },
  {
   "cell_type": "code",
   "execution_count": 5,
   "metadata": {},
   "outputs": [
    {
     "name": "stdout",
     "output_type": "stream",
     "text": [
      "0.0 0.0 0.0\n",
      "2.0 2.0 2.0\n",
      "0.01 0.01 0.005\n"
     ]
    }
   ],
   "source": [
    "nresol_x = 200\n",
    "nresol_y = 200\n",
    "nresol_z = 400\n",
    "xmin = 0.0\n",
    "xmax = 2.0  # in units of 10^4 km, therefore corresponds to 20Mm\n",
    "ymin = 0.0\n",
    "ymax = 2.0\n",
    "zmin = 0.0\n",
    "zmax = 2.0\n",
    "pixelsize_x = (xmax - xmin) / nresol_x\n",
    "pixelsize_y = (ymax - ymin) / nresol_y\n",
    "pixelsize_z = (zmax - zmin) / nresol_z\n",
    "nf_max = 200\n",
    "L = 1.0\n",
    "print(xmin, ymin, zmin)\n",
    "print(xmax, ymax, zmax)\n",
    "print(pixelsize_x, pixelsize_y, pixelsize_z)\n",
    "\n",
    "# Background atmosphere parameters\n",
    "z0 = 0.2\n",
    "deltaz = 0.02\n",
    "\n",
    "b = 1.0\n",
    "\n",
    "x_arr = np.arange(nresol_x) * (xmax - xmin) / (nresol_x - 1) + xmin\n",
    "y_arr = np.arange(nresol_y) * (ymax - ymin) / (nresol_y - 1) + ymin\n",
    "z_arr = np.arange(nresol_z) * (zmax - zmin) / (nresol_z - 1) + zmin\n",
    "\n",
    "data_bz = np.zeros((nresol_y, nresol_x))\n",
    "\n",
    "x_plot = np.outer(y_arr, np.ones(nresol_x))\n",
    "y_plot = np.outer(x_arr, np.ones(nresol_y)).T\n",
    "\n",
    "for ix in range(0, nresol_x):\n",
    "    for iy in range(0, nresol_y):\n",
    "        x = x_arr[ix]\n",
    "        y = y_arr[iy]\n",
    "        data_bz[iy, ix] = dalmatian(x, y)"
   ]
  },
  {
   "cell_type": "code",
   "execution_count": 6,
   "metadata": {},
   "outputs": [
    {
     "name": "stdout",
     "output_type": "stream",
     "text": [
      "length scale 2.0\n",
      "length scale x 4.0\n",
      "length scale y 4.0\n",
      "length scale x norm 2.0\n",
      "length scale y norm 2.0\n",
      "xmin, xmax, ymin, ymax, zmin, zmax  0.0 2.0 0.0 2.0 0.0 2.0\n"
     ]
    }
   ],
   "source": [
    "a = 0.0\n",
    "alpha = 0.0\n",
    "\n",
    "mfield, dmfield = magnetic_field(\n",
    "    data_bz,\n",
    "    z0,\n",
    "    deltaz,\n",
    "    a,\n",
    "    b,\n",
    "    alpha,\n",
    "    xmin,\n",
    "    xmax,\n",
    "    ymin,\n",
    "    ymax,\n",
    "    zmin,\n",
    "    zmax,\n",
    "    nresol_x,\n",
    "    nresol_y,\n",
    "    nresol_z,\n",
    "    pixelsize_x,\n",
    "    pixelsize_y,\n",
    "    nf_max,\n",
    "    L,\n",
    ")"
   ]
  },
  {
   "cell_type": "code",
   "execution_count": 7,
   "metadata": {},
   "outputs": [],
   "source": [
    "Bx = mfield[nresol_y : 2 * nresol_y, nresol_x : 2 * nresol_x, :, 1]\n",
    "By = mfield[nresol_y : 2 * nresol_y, nresol_x : 2 * nresol_x, :, 0]\n",
    "Bz = mfield[nresol_y : 2 * nresol_y, nresol_x : 2 * nresol_x, :, 2]"
   ]
  },
  {
   "cell_type": "code",
   "execution_count": 8,
   "metadata": {},
   "outputs": [
    {
     "name": "stdout",
     "output_type": "stream",
     "text": [
      "200 200 400\n"
     ]
    }
   ],
   "source": [
    "print(nresol_x, nresol_y, nresol_z)"
   ]
  },
  {
   "cell_type": "code",
   "execution_count": 9,
   "metadata": {},
   "outputs": [
    {
     "name": "stdout",
     "output_type": "stream",
     "text": [
      "200 200 400\n"
     ]
    }
   ],
   "source": [
    "print(len(x_arr), len(y_arr), len(z_arr))"
   ]
  },
  {
   "cell_type": "code",
   "execution_count": 10,
   "metadata": {},
   "outputs": [
    {
     "name": "stdout",
     "output_type": "stream",
     "text": [
      "(200, 200, 400)\n",
      "(200, 200, 400)\n",
      "(200, 200, 400)\n"
     ]
    }
   ],
   "source": [
    "print(Bx.shape)\n",
    "print(By.shape)\n",
    "print(Bz.shape)"
   ]
  },
  {
   "cell_type": "code",
   "execution_count": 19,
   "metadata": {},
   "outputs": [],
   "source": [
    "filename = \"data/magfield.dat\"\n",
    "\n",
    "msatformat(nresol_x, nresol_y, nresol_z, Bx, By, Bz, x_arr, y_arr, z_arr, filename)"
   ]
  },
  {
   "cell_type": "code",
   "execution_count": 23,
   "metadata": {},
   "outputs": [],
   "source": [
    "from msat.pyvis.model3d import Model3D\n",
    "import mayavi.mlab as ml"
   ]
  },
  {
   "cell_type": "code",
   "execution_count": 34,
   "metadata": {},
   "outputs": [
    {
     "name": "stdout",
     "output_type": "stream",
     "text": [
      "Using cartesian coordinates\n",
      "Adding nulls\n",
      "Adding box\n"
     ]
    },
    {
     "data": {
      "text/plain": [
       "<mayavi.core.scene.Scene at 0x312b0f410>"
      ]
     },
     "execution_count": 34,
     "metadata": {},
     "output_type": "execute_result"
    },
    {
     "ename": "",
     "evalue": "",
     "output_type": "error",
     "traceback": [
      "\u001b[1;31mThe Kernel crashed while executing code in the current cell or a previous cell. \n",
      "\u001b[1;31mPlease review the code in the cell(s) to identify a possible cause of the failure. \n",
      "\u001b[1;31mClick <a href='https://aka.ms/vscodeJupyterKernelCrash'>here</a> for more info. \n",
      "\u001b[1;31mView Jupyter <a href='command:jupyter.viewOutput'>log</a> for further details."
     ]
    }
   ],
   "source": [
    "model = Model3D(\"data/magfield.dat\", [\"nulls\", \"sepsurf\"], outdir=\"/Users/lilli/Desktop/mflex/output\")"
   ]
  },
  {
   "cell_type": "code",
   "execution_count": 14,
   "metadata": {},
   "outputs": [],
   "source": []
  },
  {
   "cell_type": "code",
   "execution_count": null,
   "metadata": {},
   "outputs": [],
   "source": []
  }
 ],
 "metadata": {
  "kernelspec": {
   "display_name": "mflex-cNoQEf_u-py3.12",
   "language": "python",
   "name": "python3"
  },
  "language_info": {
   "codemirror_mode": {
    "name": "ipython",
    "version": 3
   },
   "file_extension": ".py",
   "mimetype": "text/x-python",
   "name": "python",
   "nbconvert_exporter": "python",
   "pygments_lexer": "ipython3",
   "version": "3.12.4"
  }
 },
 "nbformat": 4,
 "nbformat_minor": 2
}
