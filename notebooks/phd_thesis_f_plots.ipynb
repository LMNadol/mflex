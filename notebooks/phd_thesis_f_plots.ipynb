{
 "cells": [
  {
   "cell_type": "code",
   "execution_count": 2,
   "metadata": {},
   "outputs": [],
   "source": [
    "from mflex.model.field.utility.height_profile import f_low, f\n",
    "import matplotlib.pyplot as plt\n",
    "import numpy as np"
   ]
  },
  {
   "cell_type": "code",
   "execution_count": 3,
   "metadata": {},
   "outputs": [
    {
     "name": "stdout",
     "output_type": "stream",
     "text": [
      "0.0 0.0 0.0\n",
      "2.0 2.0 2.0\n",
      "0.01 0.01 0.005\n"
     ]
    }
   ],
   "source": [
    "nresol_x = 200\n",
    "nresol_y = 200\n",
    "nresol_z = 400\n",
    "xmin = 0.0\n",
    "xmax = 2.0  # in units of 10^4 km, therefore corresponds to 20Mm\n",
    "ymin = 0.0\n",
    "ymax = 2.0\n",
    "zmin = 0.0\n",
    "zmax = 2.0\n",
    "pixelsize_x = (xmax - xmin) / nresol_x\n",
    "pixelsize_y = (ymax - ymin) / nresol_y\n",
    "pixelsize_z = (zmax - zmin) / nresol_z\n",
    "nf_max = 200\n",
    "L = 1.0\n",
    "print(xmin, ymin, zmin)\n",
    "print(xmax, ymax, zmax)\n",
    "print(pixelsize_x, pixelsize_y, pixelsize_z)\n",
    "\n",
    "# Background atmosphere parameters\n",
    "z0 = 0.2\n",
    "deltaz = 0.02\n",
    "\n",
    "b = 1.0\n",
    "\n",
    "# Magnitc field parameters\n",
    "z0_b = 0.2\n",
    "deltaz_b = 0.02"
   ]
  },
  {
   "cell_type": "code",
   "execution_count": 6,
   "metadata": {},
   "outputs": [],
   "source": [
    "# Height profile f parameters\n",
    "a = 0.22\n",
    "alpha = 0.25\n",
    "a_low = a * (1 - np.tanh(-z0 / deltaz))\n",
    "kappa = -np.log(a / a_low) /z0\n",
    "kappa = 1/z0\n",
    "\n",
    "# Figure 1\n",
    "z_arr: np.ndarray[np.float64, np.dtype[np.float64]] = (\n",
    "    np.arange(nresol_z) * (zmax - zmin) / (nresol_z - 1) + zmin\n",
    ")\n",
    "\n",
    "f_const = np.zeros(nresol_z)\n",
    "f_exp = np.zeros(nresol_z)\n",
    "f_tanh = np.zeros(nresol_z)\n",
    "\n",
    "for iz in range(0, nresol_z):\n",
    "    z = z_arr[iz]\n",
    "    f_const[iz] = a * (1 - np.tanh(-z0 / deltaz_b))\n",
    "    f_exp[iz] = f_low(z, a_low, kappa)\n",
    "    f_tanh[iz] = f(z, z0, deltaz, a, b)"
   ]
  },
  {
   "cell_type": "code",
   "execution_count": 7,
   "metadata": {},
   "outputs": [
    {
     "name": "stderr",
     "output_type": "stream",
     "text": [
      "No artists with labels found to put in legend.  Note that artists whose label start with an underscore are ignored when legend() is called with no argument.\n"
     ]
    },
    {
     "data": {
      "image/png": "[encoded data removed]",
      "text/plain": [
       "<Figure size 640x480 with 1 Axes>"
      ]
     },
     "metadata": {},
     "output_type": "display_data"
    }
   ],
   "source": [
    "plt.plot(\n",
    "    z_arr,\n",
    "    f_exp,\n",
    "    linewidth=0.5,\n",
    "    color=\"black\",\n",
    "    linestyle=\"dashed\",\n",
    ")\n",
    "plt.plot(\n",
    "    z_arr,\n",
    "    f_tanh,\n",
    "    linewidth=0.5,\n",
    "    color=\"black\",\n",
    "    linestyle=\"solid\",\n",
    ")\n",
    "plt.plot(\n",
    "    z_arr,\n",
    "    f_const,\n",
    "    linewidth=0.5,\n",
    "    color=\"black\",\n",
    "    linestyle=\"dashed\",\n",
    ")\n",
    "plt.axvline(x=z0_b, color=\"black\", linestyle=\"solid\", linewidth=0.25)\n",
    "plt.legend()\n",
    "plt.xlabel(\"z\")\n",
    "plt.ylabel(\"f(z)\")\n",
    "plt.xticks([])\n",
    "plt.yticks([])\n",
    "plt.xlim([0, 3 * z0])\n",
    "plt.ylim([0, 2.5 * a])\n",
    "# plotname = \"/Users/lilli/Desktop/Thesis_vonNeu/heightprofiles.png\"\n",
    "# plt.savefig(plotname, dpi=300)\n",
    "plt.show()"
   ]
  },
  {
   "cell_type": "code",
   "execution_count": null,
   "metadata": {},
   "outputs": [],
   "source": []
  }
 ],
 "metadata": {
  "kernelspec": {
   "display_name": ".venv",
   "language": "python",
   "name": "python3"
  },
  "language_info": {
   "codemirror_mode": {
    "name": "ipython",
    "version": 3
   },
   "file_extension": ".py",
   "mimetype": "text/x-python",
   "name": "python",
   "nbconvert_exporter": "python",
   "pygments_lexer": "ipython3",
   "version": "3.11.1"
  }
 },
 "nbformat": 4,
 "nbformat_minor": 2
}
