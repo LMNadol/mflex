{
 "cells": [
  {
   "cell_type": "code",
   "execution_count": 1,
   "metadata": {},
   "outputs": [],
   "source": [
    "%load_ext autoreload\n",
    "%autoreload 2"
   ]
  },
  {
   "cell_type": "code",
   "execution_count": 2,
   "metadata": {},
   "outputs": [
    {
     "name": "stderr",
     "output_type": "stream",
     "text": [
      "/Users/lilli/Library/Caches/pypoetry/virtualenvs/mflex-cNoQEf_u-py3.12/lib/python3.12/site-packages/tqdm/auto.py:21: TqdmWarning: IProgress not found. Please update jupyter and ipywidgets. See https://ipywidgets.readthedocs.io/en/stable/user_install.html\n",
      "  from .autonotebook import tqdm as notebook_tqdm\n"
     ]
    }
   ],
   "source": [
    "from __future__ import annotations\n",
    "import numpy as np\n",
    "\n",
    "from mflex.simulate.simulate_boundary import dalmatian\n",
    "\n",
    "from mhsflex.field2d import Field2dData\n",
    "from mhsflex.field3d import Field3dData, calculate_magfield\n",
    "from mhsflex.vis import plot, plot_plasma_parameters, show_poles, show_footpoints\n",
    "from mhsflex.metrics import compare_field3d\n",
    "\n",
    "from matplotlib import rc, colors\n",
    "import matplotlib.pyplot as plt\n",
    "from scipy.io import readsav\n",
    "\n",
    "\n",
    "rc(\"font\", **{\"family\": \"serif\", \"serif\": [\"Times\"]})\n",
    "rc(\"text\", usetex=True)\n",
    "\n",
    "c4 = (1.000, 0.224, 0.376)\n",
    "c1 = (0.439, 0.788, 1.000)\n",
    "c3 = \"black\"\n",
    "c2 = (0.420, 0.502, 1.000)\n",
    "\n",
    "cmap = colors.LinearSegmentedColormap.from_list(\n",
    "    \"cmap\",\n",
    "    (\n",
    "        (0.000, (0.000, 0.000, 0.000)),\n",
    "        (0.500, (0.659, 0.659, 0.659)),\n",
    "        (1.000, (1.000, 1.000, 1.000)),\n",
    "    ),\n",
    ")\n",
    "\n",
    "cmap2 = colors.LinearSegmentedColormap.from_list(\n",
    "    \"cmap2\", ((0.000, (0.984, 1.000, 0.000)), (1.000, (1.000, 0.988, 0.761)))\n",
    ")"
   ]
  },
  {
   "cell_type": "code",
   "execution_count": 39,
   "metadata": {},
   "outputs": [
    {
     "name": "stdout",
     "output_type": "stream",
     "text": [
      "--------------------------------------------------\n",
      "Date: Tue Sep  6 15:16:46 2022\n",
      "User: xszhu\n",
      "Host: HR30\n",
      "--------------------------------------------------\n",
      "Format: 9\n",
      "Architecture: x86_64\n",
      "Operating System: linux\n",
      "IDL Version: 7.1.1\n",
      "--------------------------------------------------\n",
      "Successfully read 33 records of which:\n",
      " - 1 are of type TIMESTAMP\n",
      " - 1 are of type VERSION\n",
      " - 1 are of type NOTICE\n",
      " - 29 are of type VARIABLE\n",
      "--------------------------------------------------\n",
      "Available variables:\n",
      " - b2dx1 [<class 'numpy.ndarray'>]\n",
      " - b2dy1 [<class 'numpy.ndarray'>]\n",
      " - b2dz1 [<class 'numpy.ndarray'>]\n",
      " - d2d1 [<class 'numpy.ndarray'>]\n",
      " - b2dx2 [<class 'numpy.ndarray'>]\n",
      " - b2dy2 [<class 'numpy.ndarray'>]\n",
      " - b2dz2 [<class 'numpy.ndarray'>]\n",
      " - d2d2 [<class 'numpy.ndarray'>]\n",
      " - b2dx3 [<class 'numpy.ndarray'>]\n",
      " - b2dy3 [<class 'numpy.ndarray'>]\n",
      " - b2dz3 [<class 'numpy.ndarray'>]\n",
      " - d2d3 [<class 'numpy.ndarray'>]\n",
      " - b2dx4 [<class 'numpy.ndarray'>]\n",
      " - b2dy4 [<class 'numpy.ndarray'>]\n",
      " - b2dz4 [<class 'numpy.ndarray'>]\n",
      " - d2d4 [<class 'numpy.ndarray'>]\n",
      " - b2dx5 [<class 'numpy.ndarray'>]\n",
      " - b2dy5 [<class 'numpy.ndarray'>]\n",
      " - b2dz5 [<class 'numpy.ndarray'>]\n",
      " - d2d5 [<class 'numpy.ndarray'>]\n",
      " - b2dx6 [<class 'numpy.ndarray'>]\n",
      " - b2dy6 [<class 'numpy.ndarray'>]\n",
      " - b2dz6 [<class 'numpy.ndarray'>]\n",
      " - d2d6 [<class 'numpy.ndarray'>]\n",
      " - h3d [<class 'numpy.ndarray'>]\n",
      " - info_unit [<class 'bytes'>]\n",
      " - info_pixel [<class 'bytes'>]\n",
      " - info_boundary [<class 'bytes'>]\n",
      " - info_array [<class 'bytes'>]\n",
      "--------------------------------------------------\n"
     ]
    }
   ],
   "source": [
    "path = \"/Users/lilli/Desktop/mflex/data/Analytic_boundary_data.sav\"\n",
    "\n",
    "data = readsav(path, python_dict=True, verbose=True)"
   ]
  },
  {
   "cell_type": "code",
   "execution_count": 40,
   "metadata": {},
   "outputs": [
    {
     "name": "stdout",
     "output_type": "stream",
     "text": [
      "xmax_Mm, ymax_Mm, zmax_Mm 3.2 3.2 2.0\n",
      "nresol_x, nresol_y, nresol_z 80 80 50\n",
      "pixelsize_x 0.04\n",
      "pixelsize_y 0.04\n",
      "pixelsize_z 0.04\n"
     ]
    }
   ],
   "source": [
    "data_bz = data[\"b2dz5\"]\n",
    "data_bx = data[\"b2dx5\"]\n",
    "data_by = data[\"b2dy5\"]\n",
    "\n",
    "nresol_x = data_bz.shape[1]\n",
    "nresol_y = data_bz.shape[0]\n",
    "\n",
    "pixelsize_z_Mm = 40.0 * 10**-3  # Convert pixelsize from km into Mm\n",
    "pixelsize_x_Mm = 40.0 * 10**-3\n",
    "pixelsize_y_Mm = 40.0 * 10**-3\n",
    "\n",
    "xmin = np.float64(0.0)  # Minimum value of x in data length scale, not in Mm\n",
    "ymin = np.float64(0.0)  # Minimum value of y in data length scale, not in Mm\n",
    "zmin = np.float64(0.0)  # Minimum value of z in data length scale, not in Mm\n",
    "\n",
    "xmax_Mm = nresol_x * pixelsize_x_Mm\n",
    "ymax_Mm = nresol_y * pixelsize_y_Mm\n",
    "zmax_Mm = 2000.0 * 10**-3\n",
    "\n",
    "nresol_z = int(np.floor(zmax_Mm / pixelsize_z_Mm))\n",
    "\n",
    "z0 = 2000.0 * 10**-3\n",
    "\n",
    "nf_max = min(nresol_x, nresol_y)\n",
    "\n",
    "print(\"xmax_Mm, ymax_Mm, zmax_Mm\", xmax_Mm, ymax_Mm, zmax_Mm)\n",
    "print(\"nresol_x, nresol_y, nresol_z\", nresol_x, nresol_y, nresol_z)\n",
    "print(\"pixelsize_x\", pixelsize_x_Mm)\n",
    "print(\"pixelsize_y\", pixelsize_y_Mm)\n",
    "print(\"pixelsize_z\", pixelsize_z_Mm)\n",
    "\n",
    "x_arr = np.arange(nresol_x) * (xmax_Mm - xmin) / (nresol_x - 1) + xmin\n",
    "y_arr = np.arange(nresol_y) * (ymax_Mm - ymin) / (nresol_y - 1) + ymin\n",
    "z_arr = np.arange(nresol_z) * (zmax_Mm - zmin) / (nresol_z - 1) + zmin\n",
    "x_grid, y_grid = np.meshgrid(x_arr, y_arr)"
   ]
  },
  {
   "cell_type": "code",
   "execution_count": 6,
   "metadata": {},
   "outputs": [
    {
     "name": "stdout",
     "output_type": "stream",
     "text": [
      "--------------------------------------------------\n",
      "Date: Tue Sep  6 15:11:11 2022\n",
      "User: xszhu\n",
      "Host: HR30\n",
      "--------------------------------------------------\n",
      "Format: 9\n",
      "Architecture: x86_64\n",
      "Operating System: linux\n",
      "IDL Version: 7.1.1\n",
      "--------------------------------------------------\n",
      "Successfully read 12 records of which:\n",
      " - 1 are of type TIMESTAMP\n",
      " - 1 are of type VERSION\n",
      " - 1 are of type NOTICE\n",
      " - 8 are of type VARIABLE\n",
      "--------------------------------------------------\n",
      "Available variables:\n",
      " - b3dx [<class 'numpy.ndarray'>]\n",
      " - b3dy [<class 'numpy.ndarray'>]\n",
      " - b3dz [<class 'numpy.ndarray'>]\n",
      " - p3d [<class 'numpy.ndarray'>]\n",
      " - d3d [<class 'numpy.ndarray'>]\n",
      " - info_unit [<class 'bytes'>]\n",
      " - info_pixel [<class 'bytes'>]\n",
      " - info_array [<class 'bytes'>]\n",
      "--------------------------------------------------\n"
     ]
    }
   ],
   "source": [
    "path3dref = \"/Users/lilli/Desktop/mflex/data/Analytic_3D_data.sav\"\n",
    "data3dref = readsav(path3dref, python_dict=True, verbose=True)\n",
    "\n",
    "bx_ref = data3dref[\"b3dx\"]\n",
    "by_ref = data3dref[\"b3dy\"]\n",
    "bz_ref = data3dref[\"b3dz\"]\n",
    "\n",
    "presref = data3dref[\"p3d\"] * 10**-1\n",
    "denref = data3dref[\"d3d\"] * 10**3\n",
    "\n",
    "issi_bx = np.zeros((nresol_y, nresol_x, nresol_z))\n",
    "issi_by = np.zeros_like(issi_bx)\n",
    "issi_bz = np.zeros_like(issi_bx)\n",
    "\n",
    "for i in range(0, nresol_y):\n",
    "    for j in range(0, nresol_x):\n",
    "        for k in range(0, nresol_z):\n",
    "            issi_bx[i, j, k] = bx_ref[k, i, j]\n",
    "            issi_by[i, j, k] = by_ref[k, i, j]\n",
    "            issi_bz[i, j, k] = bz_ref[k, i, j]\n",
    "\n",
    "B_ref = np.array((issi_by, issi_bx, issi_bz))"
   ]
  },
  {
   "cell_type": "code",
   "execution_count": 7,
   "metadata": {},
   "outputs": [
    {
     "name": "stdout",
     "output_type": "stream",
     "text": [
      "(3, 80, 80, 50)\n"
     ]
    }
   ],
   "source": [
    "print(B_ref.shape)"
   ]
  },
  {
   "cell_type": "code",
   "execution_count": 9,
   "metadata": {},
   "outputs": [],
   "source": [
    "B_ref_See = np.zeros((nresol_y, nresol_x, nresol_z, 3))\n",
    "\n",
    "for iz in range(0, nresol_z):\n",
    "    for ix in range(0, nresol_x):\n",
    "        for iy in range(0, nresol_y):\n",
    "            for id in range(0, 3):\n",
    "                B_ref_See[iy, ix, iz, id] = B_ref[id, iy, ix, iz]"
   ]
  },
  {
   "cell_type": "code",
   "execution_count": 10,
   "metadata": {},
   "outputs": [
    {
     "name": "stdout",
     "output_type": "stream",
     "text": [
      "(80, 80, 50, 3)\n"
     ]
    }
   ],
   "source": [
    "print(B_ref_See.shape)"
   ]
  },
  {
   "cell_type": "code",
   "execution_count": 15,
   "metadata": {},
   "outputs": [],
   "source": [
    "from msat.pyvis.fieldline3d import fieldline3d"
   ]
  },
  {
   "cell_type": "code",
   "execution_count": 16,
   "metadata": {},
   "outputs": [],
   "source": [
    "sinks = B_ref_See[:, :, 0, 2].copy()\n",
    "sources = B_ref_See[:, :, 0, 2].copy()\n",
    "\n",
    "maxmask = sources < sources.max() * 0.4\n",
    "sources[maxmask != 0] = 0\n",
    "\n",
    "minmask = sinks < sinks.min() * 0.4\n",
    "sinks[minmask == 0] = 0"
   ]
  },
  {
   "cell_type": "code",
   "execution_count": 19,
   "metadata": {},
   "outputs": [],
   "source": [
    "xmin, xmax, ymin, ymax, zmin, zmax = (\n",
    "        x_big[0],\n",
    "        x_big[-1],\n",
    "        y_big[0],\n",
    "        y_big[-1],\n",
    "        z_arr[0],\n",
    "        z_arr[-1],\n",
    "    )\n",
    "\n",
    "h1 = 1.0 / 100.0  # Initial step length for fieldline3D\n",
    "eps = 1.0e-8\n",
    "# Tolerance to which we require point on field line known for fieldline3D\n",
    "hmin = 0.0  # Minimum step length for fieldline3D\n",
    "hmax = 1.0  # Maximum step length for fieldline3D\n",
    "\n",
    "# Limit fieldline plot to original data size (rather than Seehafer size)\n",
    "boxedges = np.zeros((2, 3))\n",
    "\n",
    "# # Y boundaries must come first, X second due to switched order explained above\n",
    "boxedges[0, 0] = ymin\n",
    "boxedges[1, 0] = ymax\n",
    "boxedges[0, 1] = xmin\n",
    "boxedges[1, 1] = xmax\n",
    "boxedges[0, 2] = zmin\n",
    "boxedges[1, 2] = zmax"
   ]
  },
  {
   "cell_type": "code",
   "execution_count": 38,
   "metadata": {},
   "outputs": [
    {
     "data": {
      "image/png": "[encoded data removed]",
      "text/plain": [
       "<Figure size 640x480 with 1 Axes>"
      ]
     },
     "metadata": {},
     "output_type": "display_data"
    }
   ],
   "source": [
    "fig = plt.figure()\n",
    "ax = fig.figure.add_subplot(111, projection=\"3d\")\n",
    "\n",
    "x_big = np.arange(nresol_x) * 3.2 / (nresol_x - 1) \n",
    "y_big = np.arange(nresol_y) * 3.2 / (nresol_y - 1) \n",
    "\n",
    "x_grid, y_grid = np.meshgrid(x_big, y_big)\n",
    "ax.contourf(\n",
    "    x_grid,\n",
    "    y_grid,\n",
    "    B_ref_See[:, :, 0, 2],\n",
    "    1000,\n",
    "    # norm=norm,\n",
    "    cmap=cmap,\n",
    "    offset=0.0,\n",
    ")\n",
    "for ix in range(0, nresol_x, int(nresol_x / 20)):\n",
    "        for iy in range(0, nresol_y, int(nresol_y / 20)):\n",
    "            if sources[iy, ix] != 0 or sinks[iy, ix] != 0:\n",
    "\n",
    "                x_start = ix / (nresol_x / xmax)\n",
    "                y_start = iy / (nresol_y / ymax)\n",
    "\n",
    "                if B_ref_See[int(y_start), int(x_start), 0, 2] < 0.0:\n",
    "                    h1 = -h1\n",
    "\n",
    "                ystart = [y_start, x_start, 0.0]\n",
    "\n",
    "                fieldline = fieldline3d(\n",
    "                    ystart,\n",
    "                    B_ref_See,\n",
    "                    y_big,\n",
    "                    x_big,\n",
    "                    z_arr,\n",
    "                    h1,\n",
    "                    hmin,\n",
    "                    hmax,\n",
    "                    eps,\n",
    "                    oneway=False,\n",
    "                    boxedge=boxedges,\n",
    "                    gridcoord=False,\n",
    "                    coordsystem=\"cartesian\",\n",
    "                )  # , periodicity='xy')\n",
    "\n",
    "                if np.isclose(fieldline[:, 2][-1], 0.0) and np.isclose(\n",
    "                    fieldline[:, 2][0], 0.0\n",
    "                ):\n",
    "                    # Need to give row direction first/ Y, then column direction/ X\n",
    "                    ax.plot(\n",
    "                        fieldline[:, 1],\n",
    "                        fieldline[:, 0],\n",
    "                        fieldline[:, 2],\n",
    "                        color=c2,\n",
    "                        linewidth=0.5,\n",
    "                        zorder=4000,\n",
    "                    )\n",
    "                else:\n",
    "                    ax.plot(\n",
    "                        fieldline[:, 1],\n",
    "                        fieldline[:, 0],\n",
    "                        fieldline[:, 2],\n",
    "                        color=c2,\n",
    "                        linewidth=0.5,\n",
    "                        zorder=4000,\n",
    "                    )\n",
    "\n",
    "ax.view_init(30, 240, 0)  # type: ignore\n",
    "ax.view_init(0, -90) \n",
    "ax.set_xlabel(\"x\", labelpad=5)\n",
    "ax.set_zlabel(\"z\", labelpad=10)  # type: ignore\n",
    "\n",
    "ax.set_xticks(np.arange(0, xmax + 1.0 * 10**-8, xmax / 5))\n",
    "ax.set_zticks(np.arange(0, zmax + 1.0 * 10**-8, zmax / 5))  # type: ignore\n",
    "\n",
    "ax.set_yticklabels([])  # type: ignore\n",
    "ax.set_ylabel(\"\")\n",
    "\n",
    "[t.set_va(\"center\") for t in ax.get_xticklabels()]  # type: ignore\n",
    "[t.set_ha(\"center\") for t in ax.get_xticklabels()]  # type: ignore\n",
    "\n",
    "[t.set_va(\"center\") for t in ax.get_zticklabels()]  # type: ignore\n",
    "[t.set_ha(\"center\") for t in ax.get_zticklabels()]  # type: ignore\n",
    "ax.set_xlabel(\"x\")\n",
    "ax.set_ylabel(\"y\")\n",
    "ax.set_zlabel(\"z\")  # type: ignore\n",
    "ax.grid(False)\n",
    "ax.set_zlim(zmin, zmax)  # type: ignore\n",
    "ax.set_xlim(xmin, xmax)\n",
    "ax.set_ylim(ymin, ymax)\n",
    "ax.set_box_aspect((xmax, ymax, zmax))"
   ]
  },
  {
   "cell_type": "code",
   "execution_count": null,
   "metadata": {},
   "outputs": [],
   "source": []
  }
 ],
 "metadata": {
  "kernelspec": {
   "display_name": "mflex-cNoQEf_u-py3.12",
   "language": "python",
   "name": "python3"
  },
  "language_info": {
   "codemirror_mode": {
    "name": "ipython",
    "version": 3
   },
   "file_extension": ".py",
   "mimetype": "text/x-python",
   "name": "python",
   "nbconvert_exporter": "python",
   "pygments_lexer": "ipython3",
   "version": "3.12.4"
  }
 },
 "nbformat": 4,
 "nbformat_minor": 2
}
