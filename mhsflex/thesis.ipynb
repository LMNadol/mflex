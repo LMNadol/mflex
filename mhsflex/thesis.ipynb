{
 "cells": [
  {
   "cell_type": "markdown",
   "metadata": {},
   "source": [
    "#### Notebook to create plots for doctoral thesis \n",
    "\n",
    "Coded in a way, that only first cell needs to be edited. Rest should be atomated.\n",
    "Does calculations for a specific boundary condition and different parameter configurations: LFF and two MHS solutions. \n",
    "Need to edit:\n",
    "- path to boundary condition data\n",
    "- path to folder where plots are saved\n",
    "- value choices for alpha and a\n"
   ]
  },
  {
   "cell_type": "code",
   "execution_count": 1,
   "metadata": {},
   "outputs": [],
   "source": [
    "%load_ext autoreload\n",
    "%autoreload 2"
   ]
  },
  {
   "cell_type": "code",
   "execution_count": 2,
   "metadata": {},
   "outputs": [
    {
     "name": "stderr",
     "output_type": "stream",
     "text": [
      "/Users/lilli/Library/Caches/pypoetry/virtualenvs/mflex-cNoQEf_u-py3.12/lib/python3.12/site-packages/tqdm/auto.py:21: TqdmWarning: IProgress not found. Please update jupyter and ipywidgets. See https://ipywidgets.readthedocs.io/en/stable/user_install.html\n",
      "  from .autonotebook import tqdm as notebook_tqdm\n"
     ]
    }
   ],
   "source": [
    "from __future__ import annotations\n",
    "import numpy as np\n",
    "\n",
    "from mflex.simulate.simulate_boundary import dalmatian\n",
    "\n",
    "from mhsflex.field2d import Field2dData\n",
    "from mhsflex.field3d import Field3dData, calculate_magfield\n",
    "from mhsflex.vis import plot, plot_plasma_parameters\n",
    "from mhsflex.metrics import compare_field3d\n",
    "\n",
    "from matplotlib import rc, colors\n",
    "import matplotlib.pyplot as plt\n",
    "\n",
    "\n",
    "rc(\"font\", **{\"family\": \"serif\", \"serif\": [\"Times\"]})\n",
    "rc(\"text\", usetex=True)\n",
    "\n",
    "c4 = (1.000, 0.224, 0.376)\n",
    "c1 = (0.439, 0.788, 1.000)\n",
    "c3 = \"black\"\n",
    "c2 = (0.420, 0.502, 1.000)\n",
    "\n",
    "cmap = colors.LinearSegmentedColormap.from_list(\n",
    "    \"cmap\",\n",
    "    (\n",
    "        (0.000, (0.000, 0.000, 0.000)),\n",
    "        (0.500, (0.659, 0.659, 0.659)),\n",
    "        (1.000, (1.000, 1.000, 1.000)),\n",
    "    ),\n",
    ")\n",
    "\n",
    "cmap2 = colors.LinearSegmentedColormap.from_list(\n",
    "    \"cmap2\", ((0.000, (0.984, 1.000, 0.000)), (1.000, (1.000, 0.988, 0.761)))\n",
    ")"
   ]
  },
  {
   "cell_type": "markdown",
   "metadata": {},
   "source": [
    "### For example from analytical expression"
   ]
  },
  {
   "cell_type": "code",
   "execution_count": 3,
   "metadata": {},
   "outputs": [],
   "source": [
    "nresol_x = 200\n",
    "nresol_y = 200\n",
    "nresol_z = 400\n",
    "xmin = 0.0\n",
    "xmax = 2.0  # in units of 10^4 km, therefore corresponds to 20Mm\n",
    "ymin = 0.0\n",
    "ymax = 2.0\n",
    "zmin = 0.0\n",
    "zmax = 2.0\n",
    "pixelsize_x = (xmax - xmin) / nresol_x\n",
    "pixelsize_y = (ymax - ymin) / nresol_y\n",
    "pixelsize_z = (zmax - zmin) / nresol_z\n",
    "\n",
    "z0 = 0.2\n",
    "deltaz = 0.02\n",
    "\n",
    "z_arr = np.arange(nresol_z) * (zmax - zmin) / (nresol_z - 1) + zmin\n",
    "x_arr = np.arange(nresol_x) * (xmax - xmin) / (nresol_x - 1) + xmin\n",
    "y_arr = np.arange(nresol_y) * (ymax - ymin) / (nresol_y - 1) + ymin\n",
    "\n",
    "data_bz = np.zeros((nresol_y, nresol_x))\n",
    "\n",
    "for ix in range(0, nresol_x):\n",
    "    for iy in range(0, nresol_y):\n",
    "        x = x_arr[ix]\n",
    "        y = y_arr[iy]\n",
    "        data_bz[iy, ix] = dalmatian(x, y)\n",
    "\n",
    "data2d = Field2dData(nresol_x, nresol_y, nresol_z, nresol_x, pixelsize_x, pixelsize_y, pixelsize_z, x_arr, y_arr, z_arr, data_bz)"
   ]
  },
  {
   "cell_type": "markdown",
   "metadata": {},
   "source": [
    "### SDO Example"
   ]
  },
  {
   "cell_type": "code",
   "execution_count": null,
   "metadata": {},
   "outputs": [],
   "source": [
    "path = (\n",
    "    \"/Users/lilli/Desktop/SOAR/obs/solo_L2_phi-hrt-blos_20220307T000609_V01.fits\"\n",
    ")\n",
    "data2d = Field2dData.from_fits_SDO(path)\n",
    "\n",
    "z0 = 2.0\n",
    "deltaz = 0.2\n"
   ]
  },
  {
   "cell_type": "markdown",
   "metadata": {},
   "source": [
    "### SOAR Example"
   ]
  },
  {
   "cell_type": "code",
   "execution_count": null,
   "metadata": {},
   "outputs": [],
   "source": [
    "path = (\n",
    "    \"/Users/lilli/Desktop/SOAR/obs/solo_L2_phi-hrt-blos_20220307T000609_V01.fits\"\n",
    ")\n",
    "data2d = Field2dData.from_fits_SolOr(path)\n",
    "\n",
    "z0 = 2.0\n",
    "deltaz = 0.2"
   ]
  },
  {
   "cell_type": "markdown",
   "metadata": {},
   "source": [
    "### Independent from here"
   ]
  },
  {
   "cell_type": "code",
   "execution_count": 4,
   "metadata": {},
   "outputs": [],
   "source": [
    "# Background atmosphere parameters\n",
    "b = 1.0\n",
    "\n",
    "alphalff = 0.0\n",
    "alpha = 0.5\n",
    "\n",
    "alff = 0.0\n",
    "amhs1 = 0.22\n",
    "amhs2 = 0.44"
   ]
  },
  {
   "cell_type": "code",
   "execution_count": 5,
   "metadata": {},
   "outputs": [],
   "source": [
    "# Calculate magnetic field data\n",
    "\n",
    "data3dlff = calculate_magfield(data2d, alff, b, alphalff, z0, deltaz)\n",
    "data3dmhs1 = calculate_magfield(data2d, amhs1, b, alpha, z0, deltaz)\n",
    "data3dmhs2 = calculate_magfield(data2d, amhs2, b, alpha, z0, deltaz)"
   ]
  },
  {
   "cell_type": "code",
   "execution_count": 7,
   "metadata": {},
   "outputs": [],
   "source": [
    "path2saveLFF = \"/Users/lilli/Desktop/mflex/mulitpole/LFF\"\n",
    "path2saveMHS2 = \"/Users/lilli/Desktop/mflex/mulitpole/MHS2\"\n",
    "path2saveMHS1 = \"/Users/lilli/Desktop/mflex/mulitpole/MHS1\"\n",
    "\n",
    "data3dlff.save(path2saveLFF)\n",
    "data3dmhs1.save(path2saveMHS1)\n",
    "data3dmhs2.save(path2saveMHS2)"
   ]
  },
  {
   "cell_type": "code",
   "execution_count": null,
   "metadata": {},
   "outputs": [],
   "source": [
    "data3dlffrecon = Field3dData.load(path2save)"
   ]
  },
  {
   "cell_type": "code",
   "execution_count": null,
   "metadata": {},
   "outputs": [],
   "source": [
    "plot(data3dlffrecon, \"los\", False, True, path=folder)\n",
    "plot(data3dlffrecon, \"side\", False, True, path=folder)\n",
    "plot(data3dlffrecon, \"angular\", False, True, path=folder)"
   ]
  },
  {
   "cell_type": "code",
   "execution_count": null,
   "metadata": {},
   "outputs": [],
   "source": [
    "# Plot field lines\n",
    "\n",
    "plot(data3dlff, \"los\", False, True, path=folder)\n",
    "plot(data3dlff, \"side\", False,True,path=folder)\n",
    "plot(data3dlff, \"angular\", False,True,path=folder)\n",
    "\n",
    "plot(data3dmhs1,\"los\", False,True,path=folder)\n",
    "plot(data3dmhs1,\"side\", False,True,path=folder)\n",
    "plot(data3dmhs1, \"angular\", False,True,path=folder)\n",
    "\n",
    "plot(data3dmhs2, \"los\", False,True,path=folder)\n",
    "plot(data3dmhs2, \"side\", False,True,path=folder)\n",
    "plot(data3dmhs2, \"angular\", False,True,path=folder)"
   ]
  },
  {
   "cell_type": "code",
   "execution_count": null,
   "metadata": {},
   "outputs": [],
   "source": [
    "# Plot pressure and density where Bz is maximal on the photopshere\n",
    "\n",
    "ix_max = np.unravel_index(data3dlff.bz.argmax(), data3dlff.bz.shape)[1]\n",
    "iy_max = np.unravel_index(data3dlff.bz.argmax(), data3dlff.bz.shape)[0]\n",
    "\n",
    "plt.plot(\n",
    "    data3dlff.z,\n",
    "    data3dlff.dpressure[iy_max, ix_max, :],\n",
    "    linewidth=0.5,\n",
    "    linestyle=\"solid\",\n",
    "    color=c3,\n",
    "    label=\"LFF\",\n",
    ")\n",
    "plt.plot(\n",
    "    data3dmhs1.z,\n",
    "    data3dmhs1.dpressure[iy_max, ix_max, :],\n",
    "    linewidth=0.5,\n",
    "    linestyle=\"solid\",\n",
    "    color=c2,\n",
    "    label=\"MHS A\",\n",
    ")\n",
    "plt.plot(\n",
    "    data3dmhs2.z,\n",
    "    data3dmhs2.dpressure[iy_max, ix_max, :],\n",
    "    linewidth=0.5,\n",
    "    linestyle=\"solid\",\n",
    "    color=c4,\n",
    "    label=\"MHS B\",\n",
    ")\n",
    "plt.ylabel(r\"$\\Delta p$\")\n",
    "plt.xlabel(\"z\")\n",
    "plt.xlim([0, 2*z0])\n",
    "plt.legend(frameon=False)\n",
    "plt.tick_params(direction=\"in\", length=2, width=0.5)\n",
    "plotname = folder + \"/dpres.png\"\n",
    "plt.savefig(plotname, dpi=600, bbox_inches=\"tight\", pad_inches=0.1)\n",
    "plt.show()\n",
    "\n",
    "plt.plot(\n",
    "    data3dlff.z,\n",
    "    data3dlff.ddensity[iy_max, ix_max, :],\n",
    "    linewidth=0.5,\n",
    "    linestyle=\"solid\",\n",
    "    color=c3,\n",
    "    label=\"LFF\",\n",
    ")\n",
    "plt.plot(\n",
    "    data3dmhs1.z,\n",
    "    data3dmhs1.ddensity[iy_max, ix_max, :],\n",
    "    linewidth=0.5,\n",
    "    linestyle=\"solid\",\n",
    "    color=c2,\n",
    "    label=\"MHS A\",\n",
    ")\n",
    "plt.plot(\n",
    "    data3dmhs2.z,\n",
    "    data3dmhs2.ddensity[iy_max, ix_max, :],\n",
    "    linewidth=0.5,\n",
    "    linestyle=\"solid\",\n",
    "    color=c4,\n",
    "    label=\"MHS B\",\n",
    ")\n",
    "plt.ylabel(r\"$\\Delta \\rho$\")\n",
    "plt.xlabel(\"z\")\n",
    "plt.legend(frameon=False)\n",
    "plt.xlim([0, 2*z0])\n",
    "plt.tick_params(direction=\"in\", length=2, width=0.5)\n",
    "plotname = folder + \"/dden.png\"\n",
    "plt.savefig(plotname, dpi=600, bbox_inches=\"tight\", pad_inches=0.1)\n",
    "plt.show()\n",
    "\n",
    "plt.plot(\n",
    "    data3dlff.z,\n",
    "    data3dlff.fpressure[iy_max, ix_max, :],\n",
    "    linewidth=0.5,\n",
    "    linestyle=\"solid\",\n",
    "    color=c3,\n",
    "    label=\"LFF\",\n",
    ")\n",
    "plt.plot(\n",
    "    data3dmhs1.z,\n",
    "    data3dmhs1.fpressure[iy_max, ix_max, :],\n",
    "    linewidth=0.5,\n",
    "    linestyle=\"solid\",\n",
    "    color=c2,\n",
    "    label=\"MHS A\",\n",
    ")\n",
    "plt.plot(\n",
    "    data3dmhs2.z,\n",
    "    data3dmhs2.fpressure[iy_max, ix_max, :],\n",
    "    linewidth=0.5,\n",
    "    linestyle=\"solid\",\n",
    "    color=c4,\n",
    "    label=\"MHS B\",\n",
    ")\n",
    "plt.ylabel(r\"$p$\")\n",
    "plt.xlabel(\"z\")\n",
    "plt.legend(frameon=False)\n",
    "plt.xlim([0, 2*z0])\n",
    "plt.tick_params(direction=\"in\", length=2, width=0.5)\n",
    "plotname = folder + \"/fpres.png\"\n",
    "plt.savefig(plotname, dpi=600, bbox_inches=\"tight\", pad_inches=0.1)\n",
    "plt.show()\n",
    "\n",
    "plt.plot(\n",
    "    data3dlff.z,\n",
    "    data3dlff.fdensity[iy_max, ix_max, :],\n",
    "    linewidth=0.5,\n",
    "    linestyle=\"solid\",\n",
    "    color=c3,\n",
    "    label=\"LFF\",\n",
    ")\n",
    "plt.plot(\n",
    "    data3dmhs1.z,\n",
    "    data3dmhs1.fdensity[iy_max, ix_max, :],\n",
    "    linewidth=0.5,\n",
    "    linestyle=\"solid\",\n",
    "    color=c2,\n",
    "    label=\"MHS A\",\n",
    ")\n",
    "plt.plot(\n",
    "    data3dmhs2.z,\n",
    "    data3dmhs2.fdensity[iy_max, ix_max, :],\n",
    "    linewidth=0.5,\n",
    "    linestyle=\"solid\",\n",
    "    color=c4,\n",
    "    label=\"MHS B\",\n",
    ")\n",
    "plt.ylabel(r\"$\\rho$\")\n",
    "plt.xlabel(\"z\")\n",
    "plt.legend(frameon=False)\n",
    "plt.xlim([0, 2*z0])\n",
    "plt.tick_params(direction=\"in\", length=2, width=0.5)\n",
    "plotname = folder + \"/fden.png\"\n",
    "plt.savefig(plotname, dpi=600, bbox_inches=\"tight\", pad_inches=0.1)\n",
    "plt.show()"
   ]
  },
  {
   "cell_type": "code",
   "execution_count": null,
   "metadata": {},
   "outputs": [],
   "source": [
    "# Metric comparisons to LFF field\n",
    "\n",
    "compare_field3d(data3dlff, data3dmhs1)"
   ]
  },
  {
   "cell_type": "code",
   "execution_count": null,
   "metadata": {},
   "outputs": [],
   "source": [
    "compare_field3d(data3dlff, data3dmhs2)"
   ]
  },
  {
   "cell_type": "code",
   "execution_count": null,
   "metadata": {},
   "outputs": [],
   "source": [
    "compare_field3d(data3dmhs1, data3dmhs2)"
   ]
  }
 ],
 "metadata": {
  "kernelspec": {
   "display_name": "mflex-cNoQEf_u-py3.12",
   "language": "python",
   "name": "python3"
  },
  "language_info": {
   "codemirror_mode": {
    "name": "ipython",
    "version": 3
   },
   "file_extension": ".py",
   "mimetype": "text/x-python",
   "name": "python",
   "nbconvert_exporter": "python",
   "pygments_lexer": "ipython3",
   "version": "3.12.4"
  }
 },
 "nbformat": 4,
 "nbformat_minor": 2
}
