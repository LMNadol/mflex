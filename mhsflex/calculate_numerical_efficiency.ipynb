{
 "cells": [
  {
   "cell_type": "code",
   "execution_count": 1,
   "metadata": {},
   "outputs": [],
   "source": [
    "%load_ext autoreload\n",
    "%autoreload 2"
   ]
  },
  {
   "cell_type": "code",
   "execution_count": 79,
   "metadata": {},
   "outputs": [],
   "source": [
    "from __future__ import annotations\n",
    "import numpy as np\n",
    "\n",
    "from mflex.simulate.simulate_boundary import dipole\n",
    "\n",
    "from mhsflex.field2d import Field2dData\n",
    "from mhsflex.field3d import Field3dData, calculate_magfield, lf3d, j3d\n",
    "from mhsflex.vis import plot\n",
    "from mhsflex.metrics import compare_field3d\n",
    "import scipy\n",
    "from matplotlib import rc, colors\n",
    "import matplotlib.pyplot as plt\n",
    "\n",
    "from mhsflex.poloidal import (\n",
    "    phi,\n",
    "    phi_low,\n",
    "    phi_hypgeo,\n",
    "    dphidz_hypgeo,\n",
    "    dphidz,\n",
    "    dphidz_low,\n",
    ")\n",
    "\n",
    "from mhsflex.b3d import b3d\n",
    "\n",
    "from mhsflex.fluxbalance import b3d_fb\n",
    "\n",
    "rc(\"font\", **{\"family\": \"serif\", \"serif\": [\"Times\"]})\n",
    "rc(\"text\", usetex=True)\n",
    "c1 = (0.439, 0.788, 1.000)\n",
    "c2 = (0.420, 0.502, 1.000)\n",
    "c3 = \"black\"\n",
    "c4 = (1.000, 0.224, 0.376)\n",
    "c5 = (0.784, 0.231, 0.576)\n",
    "c7 = (0.992, 0.251, 0.733)\n",
    "c8 = (0.867, 0.871, 0.184)\n",
    "c9 = (0.949, 0.922, 0.678)\n",
    "c10 = (0.984, 0.455, 0.231)\n",
    "c11 = (0.765, 0.835, 0.922)\n",
    "c12 = (0.965, 0.694, 0.486)\n",
    "c13 = (0.992, 0.584, 0.820)"
   ]
  },
  {
   "cell_type": "code",
   "execution_count": 11,
   "metadata": {},
   "outputs": [],
   "source": [
    "nresol_x = 400\n",
    "nresol_y = nresol_x\n",
    "nresol_z = 400\n",
    "xmin = 0.0\n",
    "xmax = 20.0  # in units of 10^4 km, therefore corresponds to 20Mm\n",
    "ymin = 0.0\n",
    "ymax = 20.0\n",
    "zmin = 0.0\n",
    "zmax = 20.0\n",
    "pixelsize_x = (xmax - xmin) / nresol_x\n",
    "pixelsize_y = (ymax - ymin) / nresol_y\n",
    "pixelsize_z = (zmax - zmin) / nresol_z\n",
    "\n",
    "z0 = 2.0\n",
    "\n",
    "nf_max = nresol_x\n",
    "\n",
    "z_arr = np.arange(nresol_z) * (zmax - zmin) / (nresol_z - 1) + zmin\n",
    "x_arr = np.arange(nresol_x) * (xmax - xmin) / (nresol_x - 1) + xmin\n",
    "y_arr = np.arange(nresol_y) * (ymax - ymin) / (nresol_y - 1) + ymin\n",
    "B_PHOTO = 500\n",
    "data_bz = np.zeros((nresol_y, nresol_x))\n",
    "\n",
    "for ix in range(0, nresol_x):\n",
    "    for iy in range(0, nresol_y):\n",
    "        x = x_arr[ix]\n",
    "        y = y_arr[iy]\n",
    "        data_bz[iy, ix] = dipole(x, y) * B_PHOTO\n",
    "\n",
    "data2d = Field2dData(\n",
    "    nresol_x,\n",
    "    nresol_y,\n",
    "    nresol_z,\n",
    "    nresol_x,\n",
    "    pixelsize_x,\n",
    "    pixelsize_y,\n",
    "    pixelsize_z,\n",
    "    x_arr,\n",
    "    y_arr,\n",
    "    z_arr,\n",
    "    data_bz,\n",
    ")"
   ]
  },
  {
   "cell_type": "code",
   "execution_count": 3,
   "metadata": {},
   "outputs": [],
   "source": [
    "a = 0.22\n",
    "alpha = 0.05\n",
    "b = 1.0\n",
    "z0 = 2.0\n",
    "deltaz = 0.2"
   ]
  },
  {
   "cell_type": "code",
   "execution_count": 13,
   "metadata": {},
   "outputs": [],
   "source": [
    "length_scale = float(2.0)  # Normalising length scale for Seehafer\n",
    "\n",
    "length_scale_x = 2.0 * nresol_x * data2d.px\n",
    "length_scale_y = 2.0 * nresol_y * data2d.py\n",
    "\n",
    "length_scale_x_norm = length_scale_x / length_scale\n",
    "length_scale_y_norm = length_scale_y / length_scale\n",
    "\n",
    "kx_arr = np.arange(data2d.nf) * np.pi / length_scale_x_norm  # [0:nf_max]\n",
    "ky_arr = np.arange(data2d.nf) * np.pi / length_scale_y_norm  # [0:nf_max]\n",
    "one_arr = 0.0 * np.arange(data2d.nf) + 1.0\n",
    "\n",
    "ky_grid = np.outer(ky_arr, one_arr)  # [0:nf_max, 0:nf_max]\n",
    "kx_grid = np.outer(one_arr, kx_arr)  # [0:nf_max, 0:nf_max]\n",
    "\n",
    "# kx^2 + ky^2\n",
    "\n",
    "k2_arr = np.outer(ky_arr**2, one_arr) + np.outer(one_arr, kx_arr**2)\n",
    "k2_arr[0, 0] = (np.pi / length_scale_x_norm) ** 2 + (np.pi / length_scale_y_norm) ** 2\n",
    "k2_arr[1, 0] = (np.pi / length_scale_x_norm) ** 2 + (np.pi / length_scale_y_norm) ** 2\n",
    "k2_arr[0, 1] = (np.pi / length_scale_x_norm) ** 2 + (np.pi / length_scale_y_norm) ** 2\n",
    "\n",
    "# Need k^2 > alpha^2/(1-2a) and k^2 > alpha^2\n",
    "\n",
    "limit = (k2_arr - alpha**2) / (2 * k2_arr)"
   ]
  },
  {
   "cell_type": "code",
   "execution_count": 6,
   "metadata": {},
   "outputs": [],
   "source": [
    "phi_asymp = np.zeros((nf_max, nf_max, nresol_z))\n",
    "dphidz_asymp = np.zeros((nf_max, nf_max, nresol_z))\n",
    "phi_hyper = np.zeros((nf_max, nf_max, nresol_z))\n",
    "dphidz_hyper = np.zeros((nf_max, nf_max, nresol_z))"
   ]
  },
  {
   "cell_type": "code",
   "execution_count": 7,
   "metadata": {},
   "outputs": [],
   "source": [
    "deltaz = 0.2\n",
    "\n",
    "p_arr = (\n",
    "    0.5 * deltaz * np.sqrt(k2_arr[0:nf_max, 0:nf_max] * (1.0 - a - a * b) - alpha**2)\n",
    ")\n",
    "q_arr = (\n",
    "    0.5 * deltaz * np.sqrt(k2_arr[0:nf_max, 0:nf_max] * (1.0 - a + a * b) - alpha**2)\n",
    ")"
   ]
  },
  {
   "cell_type": "code",
   "execution_count": 8,
   "metadata": {},
   "outputs": [],
   "source": [
    "def check_runtime_pa():\n",
    "    for iz, z in enumerate(z_arr):\n",
    "        phi_asymp[:, :, iz] = phi(z, p_arr, q_arr, z0, deltaz)"
   ]
  },
  {
   "cell_type": "code",
   "execution_count": null,
   "metadata": {},
   "outputs": [],
   "source": [
    "%timeit -n 100 -r 10 check_runtime_pa()"
   ]
  },
  {
   "cell_type": "code",
   "execution_count": 12,
   "metadata": {},
   "outputs": [],
   "source": [
    "def check_runtime_ph():\n",
    "    for iz, z in enumerate(z_arr):\n",
    "        phi_hyper[:, :, iz] = phi_hypgeo(z, p_arr, q_arr, z0, deltaz)"
   ]
  },
  {
   "cell_type": "code",
   "execution_count": null,
   "metadata": {},
   "outputs": [],
   "source": [
    "%timeit -n 100 -r 10 check_runtime_ph()"
   ]
  },
  {
   "cell_type": "code",
   "execution_count": 10,
   "metadata": {},
   "outputs": [],
   "source": [
    "def check_runtime_dpa():\n",
    "    for iz, z in enumerate(z_arr):\n",
    "        dphidz_asymp[:, :, iz] = dphidz(z, p_arr, q_arr, z0, deltaz)"
   ]
  },
  {
   "cell_type": "code",
   "execution_count": null,
   "metadata": {},
   "outputs": [],
   "source": [
    "%timeit -n 100 -r 10 check_runtime_dpa()"
   ]
  },
  {
   "cell_type": "code",
   "execution_count": 11,
   "metadata": {},
   "outputs": [],
   "source": [
    "def check_runtime_dph():\n",
    "    for iz, z in enumerate(z_arr):\n",
    "        dphidz_hyper[:, :, iz] = dphidz_hypgeo(z, p_arr, q_arr, z0, deltaz)"
   ]
  },
  {
   "cell_type": "code",
   "execution_count": null,
   "metadata": {},
   "outputs": [],
   "source": [
    "%timeit -n 100 -r 10 check_runtime_dph()"
   ]
  },
  {
   "cell_type": "code",
   "execution_count": 4,
   "metadata": {},
   "outputs": [],
   "source": [
    "def check_runtime_b_asymptotic_seehafer():\n",
    "    b3d(data2d, a, b, alpha, z0, deltaz, asymptotic=True, tanh=True)"
   ]
  },
  {
   "cell_type": "code",
   "execution_count": 5,
   "metadata": {},
   "outputs": [],
   "source": [
    "def check_runtime_b_asymptotic_balanced():\n",
    "    b3d_fb(data2d, a, b, alpha, z0, deltaz, asymptotic=True, tanh=True)"
   ]
  },
  {
   "cell_type": "code",
   "execution_count": 6,
   "metadata": {},
   "outputs": [],
   "source": [
    "def check_runtime_b_nw_seehafer():\n",
    "    b3d(data2d, a, b, alpha, z0, deltaz, asymptotic=False, tanh=True)"
   ]
  },
  {
   "cell_type": "code",
   "execution_count": 7,
   "metadata": {},
   "outputs": [],
   "source": [
    "def check_runtime_b_nw_balanced():\n",
    "    b3d_fb(data2d, a, b, alpha, z0, deltaz, asymptotic=False, tanh=True)"
   ]
  },
  {
   "cell_type": "code",
   "execution_count": 8,
   "metadata": {},
   "outputs": [],
   "source": [
    "nresol_x = 2048\n",
    "nresol_y = nresol_x\n",
    "nresol_z = 200\n",
    "xmin = 0.0\n",
    "xmax = 20.0  # in units of 10^4 km, therefore corresponds to 20Mm\n",
    "ymin = 0.0\n",
    "ymax = 20.0\n",
    "zmin = 0.0\n",
    "zmax = 20.0\n",
    "pixelsize_x = (xmax - xmin) / nresol_x\n",
    "pixelsize_y = (ymax - ymin) / nresol_y\n",
    "pixelsize_z = (zmax - zmin) / nresol_z\n",
    "\n",
    "z0 = 2.0\n",
    "\n",
    "nf_max = nresol_x\n",
    "\n",
    "z_arr = np.arange(nresol_z) * (zmax - zmin) / (nresol_z - 1) + zmin\n",
    "x_arr = np.arange(nresol_x) * (xmax - xmin) / (nresol_x - 1) + xmin\n",
    "y_arr = np.arange(nresol_y) * (ymax - ymin) / (nresol_y - 1) + ymin\n",
    "B_PHOTO = 500\n",
    "data_bz = np.zeros((nresol_y, nresol_x))\n",
    "\n",
    "for ix in range(0, nresol_x):\n",
    "    for iy in range(0, nresol_y):\n",
    "        x = x_arr[ix]\n",
    "        y = y_arr[iy]\n",
    "        data_bz[iy, ix] = dipole(x, y) * B_PHOTO\n",
    "\n",
    "data2d = Field2dData(\n",
    "    nresol_x,\n",
    "    nresol_y,\n",
    "    nresol_z,\n",
    "    nresol_x,\n",
    "    pixelsize_x,\n",
    "    pixelsize_y,\n",
    "    pixelsize_z,\n",
    "    x_arr,\n",
    "    y_arr,\n",
    "    z_arr,\n",
    "    data_bz,\n",
    ")"
   ]
  },
  {
   "cell_type": "code",
   "execution_count": 9,
   "metadata": {},
   "outputs": [
    {
     "name": "stdout",
     "output_type": "stream",
     "text": [
      "310 ms ± 32.5 ms per loop (mean ± std. dev. of 5 runs, 5 loops each)\n"
     ]
    }
   ],
   "source": [
    "%timeit -n 5 -r 5 check_runtime_b_asymptotic_seehafer()"
   ]
  },
  {
   "cell_type": "code",
   "execution_count": 10,
   "metadata": {},
   "outputs": [
    {
     "name": "stdout",
     "output_type": "stream",
     "text": [
      "694 ms ± 136 ms per loop (mean ± std. dev. of 5 runs, 5 loops each)\n"
     ]
    }
   ],
   "source": [
    "%timeit -n 5 -r 5 check_runtime_b_nw_seehafer()"
   ]
  },
  {
   "cell_type": "code",
   "execution_count": 11,
   "metadata": {},
   "outputs": [
    {
     "name": "stdout",
     "output_type": "stream",
     "text": [
      "66.9 ms ± 9.13 ms per loop (mean ± std. dev. of 5 runs, 5 loops each)\n"
     ]
    }
   ],
   "source": [
    "%timeit -n 5 -r 5 check_runtime_b_asymptotic_balanced()"
   ]
  },
  {
   "cell_type": "code",
   "execution_count": 12,
   "metadata": {},
   "outputs": [
    {
     "name": "stdout",
     "output_type": "stream",
     "text": [
      "144 ms ± 141 µs per loop (mean ± std. dev. of 5 runs, 5 loops each)\n"
     ]
    }
   ],
   "source": [
    "%timeit -n 5 -r 5 check_runtime_b_nw_balanced()"
   ]
  },
  {
   "cell_type": "code",
   "execution_count": 8,
   "metadata": {},
   "outputs": [],
   "source": [
    "nresol_x = 300\n",
    "nresol_y = nresol_x\n",
    "nresol_z = 200\n",
    "xmin = 0.0\n",
    "xmax = 20.0  # in units of 10^4 km, therefore corresponds to 20Mm\n",
    "ymin = 0.0\n",
    "ymax = 20.0\n",
    "zmin = 0.0\n",
    "zmax = 20.0\n",
    "pixelsize_x = (xmax - xmin) / nresol_x\n",
    "pixelsize_y = (ymax - ymin) / nresol_y\n",
    "pixelsize_z = (zmax - zmin) / nresol_z\n",
    "\n",
    "z0 = 2.0\n",
    "\n",
    "nf_max = nresol_x\n",
    "\n",
    "z_arr = np.arange(nresol_z) * (zmax - zmin) / (nresol_z - 1) + zmin\n",
    "x_arr = np.arange(nresol_x) * (xmax - xmin) / (nresol_x - 1) + xmin\n",
    "y_arr = np.arange(nresol_y) * (ymax - ymin) / (nresol_y - 1) + ymin\n",
    "B_PHOTO = 500\n",
    "data_bz = np.zeros((nresol_y, nresol_x))\n",
    "\n",
    "for ix in range(0, nresol_x):\n",
    "    for iy in range(0, nresol_y):\n",
    "        x = x_arr[ix]\n",
    "        y = y_arr[iy]\n",
    "        data_bz[iy, ix] = dipole(x, y) * B_PHOTO\n",
    "\n",
    "data2d = Field2dData(\n",
    "    nresol_x,\n",
    "    nresol_y,\n",
    "    nresol_z,\n",
    "    nresol_x,\n",
    "    pixelsize_x,\n",
    "    pixelsize_y,\n",
    "    pixelsize_z,\n",
    "    x_arr,\n",
    "    y_arr,\n",
    "    z_arr,\n",
    "    data_bz,\n",
    ")"
   ]
  },
  {
   "cell_type": "code",
   "execution_count": 9,
   "metadata": {},
   "outputs": [
    {
     "name": "stdout",
     "output_type": "stream",
     "text": [
      "17.8 s ± 1.15 s per loop (mean ± std. dev. of 5 runs, 5 loops each)\n"
     ]
    }
   ],
   "source": [
    "%timeit -n 5 -r 5 check_runtime_b_asymptotic_seehafer()"
   ]
  },
  {
   "cell_type": "code",
   "execution_count": 10,
   "metadata": {},
   "outputs": [
    {
     "name": "stdout",
     "output_type": "stream",
     "text": [
      "29.2 s ± 962 ms per loop (mean ± std. dev. of 5 runs, 5 loops each)\n"
     ]
    }
   ],
   "source": [
    "%timeit -n 5 -r 5 check_runtime_b_nw_seehafer()"
   ]
  },
  {
   "cell_type": "code",
   "execution_count": 11,
   "metadata": {},
   "outputs": [
    {
     "name": "stdout",
     "output_type": "stream",
     "text": [
      "9.67 s ± 720 ms per loop (mean ± std. dev. of 5 runs, 5 loops each)\n"
     ]
    }
   ],
   "source": [
    "%timeit -n 5 -r 5 check_runtime_b_asymptotic_balanced()"
   ]
  },
  {
   "cell_type": "code",
   "execution_count": 12,
   "metadata": {},
   "outputs": [
    {
     "name": "stdout",
     "output_type": "stream",
     "text": [
      "10.2 s ± 797 ms per loop (mean ± std. dev. of 5 runs, 5 loops each)\n"
     ]
    }
   ],
   "source": [
    "%timeit -n 5 -r 5 check_runtime_b_nw_balanced()"
   ]
  },
  {
   "cell_type": "code",
   "execution_count": 13,
   "metadata": {},
   "outputs": [],
   "source": [
    "nresol_x = 350\n",
    "nresol_y = nresol_x\n",
    "nresol_z = 200\n",
    "xmin = 0.0\n",
    "xmax = 20.0  # in units of 10^4 km, therefore corresponds to 20Mm\n",
    "ymin = 0.0\n",
    "ymax = 20.0\n",
    "zmin = 0.0\n",
    "zmax = 20.0\n",
    "pixelsize_x = (xmax - xmin) / nresol_x\n",
    "pixelsize_y = (ymax - ymin) / nresol_y\n",
    "pixelsize_z = (zmax - zmin) / nresol_z\n",
    "\n",
    "z0 = 2.0\n",
    "\n",
    "nf_max = nresol_x\n",
    "\n",
    "z_arr = np.arange(nresol_z) * (zmax - zmin) / (nresol_z - 1) + zmin\n",
    "x_arr = np.arange(nresol_x) * (xmax - xmin) / (nresol_x - 1) + xmin\n",
    "y_arr = np.arange(nresol_y) * (ymax - ymin) / (nresol_y - 1) + ymin\n",
    "B_PHOTO = 500\n",
    "data_bz = np.zeros((nresol_y, nresol_x))\n",
    "\n",
    "for ix in range(0, nresol_x):\n",
    "    for iy in range(0, nresol_y):\n",
    "        x = x_arr[ix]\n",
    "        y = y_arr[iy]\n",
    "        data_bz[iy, ix] = dipole(x, y) * B_PHOTO\n",
    "\n",
    "data2d = Field2dData(\n",
    "    nresol_x,\n",
    "    nresol_y,\n",
    "    nresol_z,\n",
    "    nresol_x,\n",
    "    pixelsize_x,\n",
    "    pixelsize_y,\n",
    "    pixelsize_z,\n",
    "    x_arr,\n",
    "    y_arr,\n",
    "    z_arr,\n",
    "    data_bz,\n",
    ")"
   ]
  },
  {
   "cell_type": "code",
   "execution_count": 14,
   "metadata": {},
   "outputs": [
    {
     "name": "stdout",
     "output_type": "stream",
     "text": [
      "22.6 s ± 1.02 s per loop (mean ± std. dev. of 5 runs, 5 loops each)\n"
     ]
    }
   ],
   "source": [
    "%timeit -n 5 -r 5 check_runtime_b_asymptotic_seehafer()"
   ]
  },
  {
   "cell_type": "code",
   "execution_count": 15,
   "metadata": {},
   "outputs": [
    {
     "name": "stdout",
     "output_type": "stream",
     "text": [
      "36 s ± 500 ms per loop (mean ± std. dev. of 5 runs, 5 loops each)\n"
     ]
    }
   ],
   "source": [
    "%timeit -n 5 -r 5 check_runtime_b_nw_seehafer()"
   ]
  },
  {
   "cell_type": "code",
   "execution_count": 16,
   "metadata": {},
   "outputs": [
    {
     "name": "stdout",
     "output_type": "stream",
     "text": [
      "10.9 s ± 375 ms per loop (mean ± std. dev. of 5 runs, 5 loops each)\n"
     ]
    }
   ],
   "source": [
    "%timeit -n 5 -r 5 check_runtime_b_asymptotic_balanced()"
   ]
  },
  {
   "cell_type": "code",
   "execution_count": 17,
   "metadata": {},
   "outputs": [
    {
     "name": "stdout",
     "output_type": "stream",
     "text": [
      "14.4 s ± 350 ms per loop (mean ± std. dev. of 5 runs, 5 loops each)\n"
     ]
    }
   ],
   "source": [
    "%timeit -n 5 -r 5 check_runtime_b_nw_balanced()"
   ]
  },
  {
   "cell_type": "code",
   "execution_count": 18,
   "metadata": {},
   "outputs": [],
   "source": [
    "nresol_x = 550\n",
    "nresol_y = nresol_x\n",
    "nresol_z = 200\n",
    "xmin = 0.0\n",
    "xmax = 20.0  # in units of 10^4 km, therefore corresponds to 20Mm\n",
    "ymin = 0.0\n",
    "ymax = 20.0\n",
    "zmin = 0.0\n",
    "zmax = 20.0\n",
    "pixelsize_x = (xmax - xmin) / nresol_x\n",
    "pixelsize_y = (ymax - ymin) / nresol_y\n",
    "pixelsize_z = (zmax - zmin) / nresol_z\n",
    "\n",
    "z0 = 2.0\n",
    "\n",
    "nf_max = nresol_x\n",
    "\n",
    "z_arr = np.arange(nresol_z) * (zmax - zmin) / (nresol_z - 1) + zmin\n",
    "x_arr = np.arange(nresol_x) * (xmax - xmin) / (nresol_x - 1) + xmin\n",
    "y_arr = np.arange(nresol_y) * (ymax - ymin) / (nresol_y - 1) + ymin\n",
    "B_PHOTO = 500\n",
    "data_bz = np.zeros((nresol_y, nresol_x))\n",
    "\n",
    "for ix in range(0, nresol_x):\n",
    "    for iy in range(0, nresol_y):\n",
    "        x = x_arr[ix]\n",
    "        y = y_arr[iy]\n",
    "        data_bz[iy, ix] = dipole(x, y) * B_PHOTO\n",
    "\n",
    "data2d = Field2dData(\n",
    "    nresol_x,\n",
    "    nresol_y,\n",
    "    nresol_z,\n",
    "    nresol_x,\n",
    "    pixelsize_x,\n",
    "    pixelsize_y,\n",
    "    pixelsize_z,\n",
    "    x_arr,\n",
    "    y_arr,\n",
    "    z_arr,\n",
    "    data_bz,\n",
    ")"
   ]
  },
  {
   "cell_type": "code",
   "execution_count": 19,
   "metadata": {},
   "outputs": [
    {
     "ename": "KeyboardInterrupt",
     "evalue": "",
     "output_type": "error",
     "traceback": [
      "\u001b[0;31m---------------------------------------------------------------------------\u001b[0m",
      "\u001b[0;31mKeyboardInterrupt\u001b[0m                         Traceback (most recent call last)",
      "Cell \u001b[0;32mIn[19], line 1\u001b[0m\n\u001b[0;32m----> 1\u001b[0m \u001b[43mget_ipython\u001b[49m\u001b[43m(\u001b[49m\u001b[43m)\u001b[49m\u001b[38;5;241;43m.\u001b[39;49m\u001b[43mrun_line_magic\u001b[49m\u001b[43m(\u001b[49m\u001b[38;5;124;43m'\u001b[39;49m\u001b[38;5;124;43mtimeit\u001b[39;49m\u001b[38;5;124;43m'\u001b[39;49m\u001b[43m,\u001b[49m\u001b[43m \u001b[49m\u001b[38;5;124;43m'\u001b[39;49m\u001b[38;5;124;43m-n 5 -r 5 check_runtime_b_asymptotic_seehafer()\u001b[39;49m\u001b[38;5;124;43m'\u001b[39;49m\u001b[43m)\u001b[49m\n",
      "File \u001b[0;32m~/Library/Caches/pypoetry/virtualenvs/mflex-cNoQEf_u-py3.12/lib/python3.12/site-packages/IPython/core/interactiveshell.py:2480\u001b[0m, in \u001b[0;36mInteractiveShell.run_line_magic\u001b[0;34m(self, magic_name, line, _stack_depth)\u001b[0m\n\u001b[1;32m   2478\u001b[0m     kwargs[\u001b[38;5;124m'\u001b[39m\u001b[38;5;124mlocal_ns\u001b[39m\u001b[38;5;124m'\u001b[39m] \u001b[38;5;241m=\u001b[39m \u001b[38;5;28mself\u001b[39m\u001b[38;5;241m.\u001b[39mget_local_scope(stack_depth)\n\u001b[1;32m   2479\u001b[0m \u001b[38;5;28;01mwith\u001b[39;00m \u001b[38;5;28mself\u001b[39m\u001b[38;5;241m.\u001b[39mbuiltin_trap:\n\u001b[0;32m-> 2480\u001b[0m     result \u001b[38;5;241m=\u001b[39m \u001b[43mfn\u001b[49m\u001b[43m(\u001b[49m\u001b[38;5;241;43m*\u001b[39;49m\u001b[43margs\u001b[49m\u001b[43m,\u001b[49m\u001b[43m \u001b[49m\u001b[38;5;241;43m*\u001b[39;49m\u001b[38;5;241;43m*\u001b[39;49m\u001b[43mkwargs\u001b[49m\u001b[43m)\u001b[49m\n\u001b[1;32m   2482\u001b[0m \u001b[38;5;66;03m# The code below prevents the output from being displayed\u001b[39;00m\n\u001b[1;32m   2483\u001b[0m \u001b[38;5;66;03m# when using magics with decorator @output_can_be_silenced\u001b[39;00m\n\u001b[1;32m   2484\u001b[0m \u001b[38;5;66;03m# when the last Python token in the expression is a ';'.\u001b[39;00m\n\u001b[1;32m   2485\u001b[0m \u001b[38;5;28;01mif\u001b[39;00m \u001b[38;5;28mgetattr\u001b[39m(fn, magic\u001b[38;5;241m.\u001b[39mMAGIC_OUTPUT_CAN_BE_SILENCED, \u001b[38;5;28;01mFalse\u001b[39;00m):\n",
      "File \u001b[0;32m~/Library/Caches/pypoetry/virtualenvs/mflex-cNoQEf_u-py3.12/lib/python3.12/site-packages/IPython/core/magics/execution.py:1189\u001b[0m, in \u001b[0;36mExecutionMagics.timeit\u001b[0;34m(self, line, cell, local_ns)\u001b[0m\n\u001b[1;32m   1186\u001b[0m         \u001b[38;5;28;01mif\u001b[39;00m time_number \u001b[38;5;241m>\u001b[39m\u001b[38;5;241m=\u001b[39m \u001b[38;5;241m0.2\u001b[39m:\n\u001b[1;32m   1187\u001b[0m             \u001b[38;5;28;01mbreak\u001b[39;00m\n\u001b[0;32m-> 1189\u001b[0m all_runs \u001b[38;5;241m=\u001b[39m \u001b[43mtimer\u001b[49m\u001b[38;5;241;43m.\u001b[39;49m\u001b[43mrepeat\u001b[49m\u001b[43m(\u001b[49m\u001b[43mrepeat\u001b[49m\u001b[43m,\u001b[49m\u001b[43m \u001b[49m\u001b[43mnumber\u001b[49m\u001b[43m)\u001b[49m\n\u001b[1;32m   1190\u001b[0m best \u001b[38;5;241m=\u001b[39m \u001b[38;5;28mmin\u001b[39m(all_runs) \u001b[38;5;241m/\u001b[39m number\n\u001b[1;32m   1191\u001b[0m worst \u001b[38;5;241m=\u001b[39m \u001b[38;5;28mmax\u001b[39m(all_runs) \u001b[38;5;241m/\u001b[39m number\n",
      "File \u001b[0;32m/opt/homebrew/Cellar/python@3.12/3.12.4/Frameworks/Python.framework/Versions/3.12/lib/python3.12/timeit.py:208\u001b[0m, in \u001b[0;36mTimer.repeat\u001b[0;34m(self, repeat, number)\u001b[0m\n\u001b[1;32m    206\u001b[0m r \u001b[38;5;241m=\u001b[39m []\n\u001b[1;32m    207\u001b[0m \u001b[38;5;28;01mfor\u001b[39;00m i \u001b[38;5;129;01min\u001b[39;00m \u001b[38;5;28mrange\u001b[39m(repeat):\n\u001b[0;32m--> 208\u001b[0m     t \u001b[38;5;241m=\u001b[39m \u001b[38;5;28;43mself\u001b[39;49m\u001b[38;5;241;43m.\u001b[39;49m\u001b[43mtimeit\u001b[49m\u001b[43m(\u001b[49m\u001b[43mnumber\u001b[49m\u001b[43m)\u001b[49m\n\u001b[1;32m    209\u001b[0m     r\u001b[38;5;241m.\u001b[39mappend(t)\n\u001b[1;32m    210\u001b[0m \u001b[38;5;28;01mreturn\u001b[39;00m r\n",
      "File \u001b[0;32m~/Library/Caches/pypoetry/virtualenvs/mflex-cNoQEf_u-py3.12/lib/python3.12/site-packages/IPython/core/magics/execution.py:173\u001b[0m, in \u001b[0;36mTimer.timeit\u001b[0;34m(self, number)\u001b[0m\n\u001b[1;32m    171\u001b[0m gc\u001b[38;5;241m.\u001b[39mdisable()\n\u001b[1;32m    172\u001b[0m \u001b[38;5;28;01mtry\u001b[39;00m:\n\u001b[0;32m--> 173\u001b[0m     timing \u001b[38;5;241m=\u001b[39m \u001b[38;5;28;43mself\u001b[39;49m\u001b[38;5;241;43m.\u001b[39;49m\u001b[43minner\u001b[49m\u001b[43m(\u001b[49m\u001b[43mit\u001b[49m\u001b[43m,\u001b[49m\u001b[43m \u001b[49m\u001b[38;5;28;43mself\u001b[39;49m\u001b[38;5;241;43m.\u001b[39;49m\u001b[43mtimer\u001b[49m\u001b[43m)\u001b[49m\n\u001b[1;32m    174\u001b[0m \u001b[38;5;28;01mfinally\u001b[39;00m:\n\u001b[1;32m    175\u001b[0m     \u001b[38;5;28;01mif\u001b[39;00m gcold:\n",
      "File \u001b[0;32m<magic-timeit>:1\u001b[0m, in \u001b[0;36minner\u001b[0;34m(_it, _timer)\u001b[0m\n",
      "Cell \u001b[0;32mIn[4], line 2\u001b[0m, in \u001b[0;36mcheck_runtime_b_asymptotic_seehafer\u001b[0;34m()\u001b[0m\n\u001b[1;32m      1\u001b[0m \u001b[38;5;28;01mdef\u001b[39;00m \u001b[38;5;21mcheck_runtime_b_asymptotic_seehafer\u001b[39m():\n\u001b[0;32m----> 2\u001b[0m     \u001b[43mb3d\u001b[49m\u001b[43m(\u001b[49m\u001b[43mdata2d\u001b[49m\u001b[43m,\u001b[49m\u001b[43m \u001b[49m\u001b[43ma\u001b[49m\u001b[43m,\u001b[49m\u001b[43m \u001b[49m\u001b[43mb\u001b[49m\u001b[43m,\u001b[49m\u001b[43m \u001b[49m\u001b[43malpha\u001b[49m\u001b[43m,\u001b[49m\u001b[43m \u001b[49m\u001b[43mz0\u001b[49m\u001b[43m,\u001b[49m\u001b[43m \u001b[49m\u001b[43mdeltaz\u001b[49m\u001b[43m,\u001b[49m\u001b[43m \u001b[49m\u001b[43masymptotic\u001b[49m\u001b[38;5;241;43m=\u001b[39;49m\u001b[38;5;28;43;01mTrue\u001b[39;49;00m\u001b[43m,\u001b[49m\u001b[43m \u001b[49m\u001b[43mtanh\u001b[49m\u001b[38;5;241;43m=\u001b[39;49m\u001b[38;5;28;43;01mTrue\u001b[39;49;00m\u001b[43m)\u001b[49m\n",
      "File \u001b[0;32m~/Desktop/mflex/mhsflex/b3d.py:296\u001b[0m, in \u001b[0;36mb3d\u001b[0;34m(field, a, b, alpha, z0, deltaz, asymptotic, tanh)\u001b[0m\n\u001b[1;32m    290\u001b[0m     dbz[:, :, iz, \u001b[38;5;241m1\u001b[39m] \u001b[38;5;241m=\u001b[39m np\u001b[38;5;241m.\u001b[39mmatmul(sin_y\u001b[38;5;241m.\u001b[39mT, np\u001b[38;5;241m.\u001b[39mmatmul(coeffs6, cos_x))\n\u001b[1;32m    292\u001b[0m     coeffs7 \u001b[38;5;241m=\u001b[39m np\u001b[38;5;241m.\u001b[39mmultiply(\n\u001b[1;32m    293\u001b[0m         np\u001b[38;5;241m.\u001b[39mmultiply(np\u001b[38;5;241m.\u001b[39mmultiply(k2, phi[:, :, iz]), anm),\n\u001b[1;32m    294\u001b[0m         ky_grid,\n\u001b[1;32m    295\u001b[0m     )\n\u001b[0;32m--> 296\u001b[0m     dbz[:, :, iz, \u001b[38;5;241m0\u001b[39m] \u001b[38;5;241m=\u001b[39m np\u001b[38;5;241m.\u001b[39mmatmul(cos_y\u001b[38;5;241m.\u001b[39mT, np\u001b[38;5;241m.\u001b[39mmatmul(coeffs7, sin_x))\n\u001b[1;32m    298\u001b[0m \u001b[38;5;28;01mreturn\u001b[39;00m bfield, dbz\n",
      "\u001b[0;31mKeyboardInterrupt\u001b[0m: "
     ]
    }
   ],
   "source": [
    "%timeit -n 5 -r 5 check_runtime_b_asymptotic_seehafer()"
   ]
  },
  {
   "cell_type": "code",
   "execution_count": 25,
   "metadata": {},
   "outputs": [
    {
     "name": "stdout",
     "output_type": "stream",
     "text": [
      "10.6 s ± 524 ms per loop (mean ± std. dev. of 5 runs, 5 loops each)\n"
     ]
    }
   ],
   "source": [
    "%timeit -n 5 -r 5 check_runtime_b_nw_seehafer()"
   ]
  },
  {
   "cell_type": "code",
   "execution_count": 26,
   "metadata": {},
   "outputs": [
    {
     "name": "stdout",
     "output_type": "stream",
     "text": [
      "2.7 s ± 207 ms per loop (mean ± std. dev. of 5 runs, 5 loops each)\n"
     ]
    }
   ],
   "source": [
    "%timeit -n 5 -r 5 check_runtime_b_asymptotic_balanced()"
   ]
  },
  {
   "cell_type": "code",
   "execution_count": 27,
   "metadata": {},
   "outputs": [
    {
     "name": "stdout",
     "output_type": "stream",
     "text": [
      "3.73 s ± 230 ms per loop (mean ± std. dev. of 5 runs, 5 loops each)\n"
     ]
    }
   ],
   "source": [
    "%timeit -n 5 -r 5 check_runtime_b_nw_balanced()"
   ]
  },
  {
   "cell_type": "code",
   "execution_count": 28,
   "metadata": {},
   "outputs": [],
   "source": [
    "nresol_x = 600\n",
    "nresol_y = nresol_x\n",
    "nresol_z = 200\n",
    "xmin = 0.0\n",
    "xmax = 20.0  # in units of 10^4 km, therefore corresponds to 20Mm\n",
    "ymin = 0.0\n",
    "ymax = 20.0\n",
    "zmin = 0.0\n",
    "zmax = 20.0\n",
    "pixelsize_x = (xmax - xmin) / nresol_x\n",
    "pixelsize_y = (ymax - ymin) / nresol_y\n",
    "pixelsize_z = (zmax - zmin) / nresol_z\n",
    "\n",
    "z0 = 2.0\n",
    "\n",
    "nf_max = nresol_x\n",
    "\n",
    "z_arr = np.arange(nresol_z) * (zmax - zmin) / (nresol_z - 1) + zmin\n",
    "x_arr = np.arange(nresol_x) * (xmax - xmin) / (nresol_x - 1) + xmin\n",
    "y_arr = np.arange(nresol_y) * (ymax - ymin) / (nresol_y - 1) + ymin\n",
    "B_PHOTO = 500\n",
    "data_bz = np.zeros((nresol_y, nresol_x))\n",
    "\n",
    "for ix in range(0, nresol_x):\n",
    "    for iy in range(0, nresol_y):\n",
    "        x = x_arr[ix]\n",
    "        y = y_arr[iy]\n",
    "        data_bz[iy, ix] = dipole(x, y) * B_PHOTO\n",
    "\n",
    "data2d = Field2dData(\n",
    "    nresol_x,\n",
    "    nresol_y,\n",
    "    nresol_z,\n",
    "    nresol_x,\n",
    "    pixelsize_x,\n",
    "    pixelsize_y,\n",
    "    pixelsize_z,\n",
    "    x_arr,\n",
    "    y_arr,\n",
    "    z_arr,\n",
    "    data_bz,\n",
    ")"
   ]
  },
  {
   "cell_type": "code",
   "execution_count": 29,
   "metadata": {},
   "outputs": [
    {
     "name": "stdout",
     "output_type": "stream",
     "text": [
      "9.97 s ± 159 ms per loop (mean ± std. dev. of 5 runs, 5 loops each)\n"
     ]
    }
   ],
   "source": [
    "%timeit -n 5 -r 5 check_runtime_b_asymptotic_seehafer()"
   ]
  },
  {
   "cell_type": "code",
   "execution_count": 30,
   "metadata": {},
   "outputs": [
    {
     "name": "stdout",
     "output_type": "stream",
     "text": [
      "16.9 s ± 133 ms per loop (mean ± std. dev. of 5 runs, 5 loops each)\n"
     ]
    }
   ],
   "source": [
    "%timeit -n 5 -r 5 check_runtime_b_nw_seehafer()"
   ]
  },
  {
   "cell_type": "code",
   "execution_count": 31,
   "metadata": {},
   "outputs": [
    {
     "name": "stdout",
     "output_type": "stream",
     "text": [
      "4.51 s ± 237 ms per loop (mean ± std. dev. of 5 runs, 5 loops each)\n"
     ]
    }
   ],
   "source": [
    "%timeit -n 5 -r 5 check_runtime_b_asymptotic_balanced()"
   ]
  },
  {
   "cell_type": "code",
   "execution_count": 32,
   "metadata": {},
   "outputs": [
    {
     "name": "stdout",
     "output_type": "stream",
     "text": [
      "6.31 s ± 216 ms per loop (mean ± std. dev. of 5 runs, 5 loops each)\n"
     ]
    }
   ],
   "source": [
    "%timeit -n 5 -r 5 check_runtime_b_nw_balanced()"
   ]
  },
  {
   "cell_type": "code",
   "execution_count": 115,
   "metadata": {},
   "outputs": [],
   "source": [
    "resolution = np.array((50, 100, 150, 200, 250, 300, 350, 400, 450, 500)) ** 2 * 200"
   ]
  },
  {
   "cell_type": "code",
   "execution_count": 116,
   "metadata": {},
   "outputs": [],
   "source": [
    "asymp_see = np.array((0.31, 1.1, 3.02, 5.6, 9.97, 17.8, 22.6, 30.9, 41.3, 78.0))"
   ]
  },
  {
   "cell_type": "code",
   "execution_count": 117,
   "metadata": {},
   "outputs": [],
   "source": [
    "e1, d1, a1, b1 = np.polyfit(resolution, asymp_see, 3)"
   ]
  },
  {
   "cell_type": "code",
   "execution_count": 118,
   "metadata": {},
   "outputs": [],
   "source": [
    "f1 = scipy.interpolate.interp1d(resolution, asymp_see)\n",
    "xnew = np.arange(50**2 * 200, 500**2 * 200, 10)\n",
    "ynew1 = f1(xnew)"
   ]
  },
  {
   "cell_type": "code",
   "execution_count": 119,
   "metadata": {},
   "outputs": [],
   "source": [
    "hyp_see = np.array((0.694, 2.15, 5.81, 10.6, 16.9, 29.2, 36.0, 49.9, 69.0, 163.0))"
   ]
  },
  {
   "cell_type": "code",
   "execution_count": 120,
   "metadata": {},
   "outputs": [],
   "source": [
    "e2, d2, a2, b2 = np.polyfit(resolution, hyp_see, 3)"
   ]
  },
  {
   "cell_type": "code",
   "execution_count": 121,
   "metadata": {},
   "outputs": [],
   "source": [
    "f2 = scipy.interpolate.interp1d(resolution, hyp_see)\n",
    "ynew2 = f2(xnew)"
   ]
  },
  {
   "cell_type": "code",
   "execution_count": 122,
   "metadata": {},
   "outputs": [],
   "source": [
    "asymp_fb = np.array((0.067, 0.637, 1.67, 2.7, 4.51, 9.67, 10.9, 13.4, 25.7, 29.3))"
   ]
  },
  {
   "cell_type": "code",
   "execution_count": 123,
   "metadata": {},
   "outputs": [],
   "source": [
    "e3, d3, a3, b3 = np.polyfit(resolution, asymp_fb, 3)"
   ]
  },
  {
   "cell_type": "code",
   "execution_count": 124,
   "metadata": {},
   "outputs": [],
   "source": [
    "f3 = scipy.interpolate.interp1d(resolution, asymp_fb)\n",
    "ynew3 = f3(xnew)"
   ]
  },
  {
   "cell_type": "code",
   "execution_count": 125,
   "metadata": {},
   "outputs": [],
   "source": [
    "hyp_fb = np.array((0.144, 0.988, 1.97, 3.73, 6.31, 10.2, 14.4, 20.8, 29.3, 36.5))"
   ]
  },
  {
   "cell_type": "code",
   "execution_count": 126,
   "metadata": {},
   "outputs": [],
   "source": [
    "e4, d4, a4, b4 = np.polyfit(resolution, hyp_fb, 3)"
   ]
  },
  {
   "cell_type": "code",
   "execution_count": 127,
   "metadata": {},
   "outputs": [],
   "source": [
    "f4 = scipy.interpolate.interp1d(resolution, hyp_fb)\n",
    "ynew4 = f4(xnew)"
   ]
  },
  {
   "cell_type": "code",
   "execution_count": 138,
   "metadata": {},
   "outputs": [
    {
     "data": {
      "image/png": "[encoded data removed]",
      "text/plain": [
       "<Figure size 640x480 with 1 Axes>"
      ]
     },
     "metadata": {},
     "output_type": "display_data"
    }
   ],
   "source": [
    "fig, ax1 = plt.subplots()\n",
    "\n",
    "ax1.plot(\n",
    "    resolution,\n",
    "    asymp_see,\n",
    "    \"x\",\n",
    "    markersize=4,\n",
    "    linewidth=0.4,\n",
    "    color=c1,\n",
    ")\n",
    "# ax1.plot(\n",
    "#     resolution,\n",
    "#     e1 * resolution**3 + d1 * resolution**2 + a1 * resolution + b1,\n",
    "#     linewidth=0.4,\n",
    "#     color=c1,\n",
    "# )\n",
    "# ax1.plot(\n",
    "#     xnew,\n",
    "#     ynew1,\n",
    "#     linewidth=0.4,\n",
    "#     color=c1,\n",
    "# )\n",
    "ax1.plot(\n",
    "    resolution,\n",
    "    hyp_see,\n",
    "    \"x\",\n",
    "    markersize=4,\n",
    "    linewidth=0.4,\n",
    "    color=(0.000, 0.365, 0.580),\n",
    ")\n",
    "# ax1.plot(\n",
    "#     resolution,\n",
    "#     e2 * resolution**3 + d2 * resolution**2 + a2 * resolution + b2,\n",
    "#     linewidth=0.4,\n",
    "#     color=(0.000, 0.365, 0.580),\n",
    "# )\n",
    "# ax1.plot(\n",
    "#     xnew,\n",
    "#     ynew2,\n",
    "#     linewidth=0.4,\n",
    "#     color=(0.000, 0.365, 0.580),\n",
    "# )\n",
    "ax1.plot(\n",
    "    resolution,\n",
    "    asymp_fb,\n",
    "    \"x\",\n",
    "    markersize=4,\n",
    "    linewidth=0.4,\n",
    "    color=(1.000, 0.831, 0.514),\n",
    ")\n",
    "# ax1.plot(\n",
    "#     resolution,\n",
    "#     e3 * resolution**3 + d3 * resolution**2 + a3 * resolution + b3,\n",
    "#     linewidth=0.4,\n",
    "#     color=(1.000, 0.831, 0.514),\n",
    "# )\n",
    "# ax1.plot(\n",
    "#     xnew,\n",
    "#     ynew3,\n",
    "#     linewidth=0.4,\n",
    "#     color=(1.000, 0.831, 0.514),\n",
    "# )\n",
    "ax1.plot(\n",
    "    resolution,\n",
    "    hyp_fb,\n",
    "    \"x\",\n",
    "    markersize=4,\n",
    "    linewidth=0.4,\n",
    "    color=(1.000, 0.537, 0.000),\n",
    ")\n",
    "# ax1.plot(\n",
    "#     resolution,\n",
    "#     e4 * resolution**3 + d4 * resolution**2 + a4 * resolution + b4,\n",
    "#     linewidth=0.4,\n",
    "#     color=(1.000, 0.537, 0.000),\n",
    "# )\n",
    "# ax1.plot(\n",
    "#     xnew,\n",
    "#     ynew4,\n",
    "#     linewidth=0.4,\n",
    "#     color=(1.000, 0.537, 0.000),\n",
    "# )\n",
    "ax1.tick_params(direction=\"in\", length=2, width=0.5)\n",
    "ax1.set_xlabel(r\"\\# volume cells\")\n",
    "ax1.set_ylabel(r\"runtime (s)\")\n",
    "# ax1.set_yscale(\"log\")\n",
    "# ax1.set_xscale(\"log\")\n",
    "plotname = \"/Users/lilli/Desktop/runtime.png\"\n",
    "plt.savefig(plotname, dpi=300, bbox_inches=\"tight\", pad_inches=0.1)\n",
    "plt.show()"
   ]
  },
  {
   "cell_type": "code",
   "execution_count": null,
   "metadata": {},
   "outputs": [],
   "source": []
  }
 ],
 "metadata": {
  "kernelspec": {
   "display_name": "mflex-cNoQEf_u-py3.12",
   "language": "python",
   "name": "python3"
  },
  "language_info": {
   "codemirror_mode": {
    "name": "ipython",
    "version": 3
   },
   "file_extension": ".py",
   "mimetype": "text/x-python",
   "name": "python",
   "nbconvert_exporter": "python",
   "pygments_lexer": "ipython3",
   "version": "3.12.4"
  }
 },
 "nbformat": 4,
 "nbformat_minor": 2
}
