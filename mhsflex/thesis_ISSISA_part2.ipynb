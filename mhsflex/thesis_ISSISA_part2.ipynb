{
 "cells": [
  {
   "cell_type": "code",
   "execution_count": 1,
   "metadata": {},
   "outputs": [],
   "source": [
    "%load_ext autoreload\n",
    "%autoreload 2"
   ]
  },
  {
   "cell_type": "code",
   "execution_count": 2,
   "metadata": {},
   "outputs": [
    {
     "name": "stderr",
     "output_type": "stream",
     "text": [
      "/Users/lilli/Library/Caches/pypoetry/virtualenvs/mflex-cNoQEf_u-py3.12/lib/python3.12/site-packages/tqdm/auto.py:21: TqdmWarning: IProgress not found. Please update jupyter and ipywidgets. See https://ipywidgets.readthedocs.io/en/stable/user_install.html\n",
      "  from .autonotebook import tqdm as notebook_tqdm\n"
     ]
    }
   ],
   "source": [
    "from __future__ import annotations\n",
    "import numpy as np\n",
    "\n",
    "from mflex.simulate.simulate_boundary import dalmatian\n",
    "\n",
    "from mhsflex.field2d import Field2dData, check_fluxbalance, alpha_HS04\n",
    "from mhsflex.vis import plot, plot_plasma_parameters, show_poles, show_footpoints\n",
    "from mhsflex.metrics import compare_field3d\n",
    "\n",
    "from matplotlib import rc, colors\n",
    "import matplotlib.pyplot as plt\n",
    "from scipy.io import readsav\n",
    "\n",
    "import mhsflex.fluxbalance\n",
    "\n",
    "\n",
    "rc(\"font\", **{\"family\": \"serif\", \"serif\": [\"Times\"]})\n",
    "rc(\"text\", usetex=True)\n",
    "\n",
    "cmap = colors.LinearSegmentedColormap.from_list(\n",
    "    \"cmap\",\n",
    "    (\n",
    "        (0.000, (0.000, 0.000, 0.000)),\n",
    "        (0.500, (0.659, 0.659, 0.659)),\n",
    "        (1.000, (1.000, 1.000, 1.000)),\n",
    "    ),\n",
    ")\n",
    "\n",
    "cmap2 = colors.LinearSegmentedColormap.from_list(\n",
    "    \"cmap2\", ((0.000, (0.984, 1.000, 0.000)), (1.000, (1.000, 0.988, 0.761)))\n",
    ")\n",
    "\n",
    "c1 = (0.439, 0.788, 1.000)\n",
    "c2 = (0.420, 0.502, 1.000)\n",
    "c3 = \"black\"\n",
    "c4 = (1.000, 0.224, 0.376)\n",
    "c5 = (0.784, 0.231, 0.576)\n",
    "c7 = (0.992, 0.251, 0.733)\n",
    "c8 = (0.867, 0.871, 0.184)\n",
    "c9 = (0.949, 0.922, 0.678)\n",
    "c10 = (0.984, 0.455, 0.231)\n",
    "c11 = (0.765, 0.835, 0.922)\n",
    "c12 = (0.965, 0.694, 0.486)\n",
    "c13 = (0.992, 0.584, 0.820)"
   ]
  },
  {
   "cell_type": "code",
   "execution_count": 3,
   "metadata": {},
   "outputs": [
    {
     "name": "stdout",
     "output_type": "stream",
     "text": [
      "--------------------------------------------------\n",
      "Date: Tue Sep  6 15:16:46 2022\n",
      "User: xszhu\n",
      "Host: HR30\n",
      "--------------------------------------------------\n",
      "Format: 9\n",
      "Architecture: x86_64\n",
      "Operating System: linux\n",
      "IDL Version: 7.1.1\n",
      "--------------------------------------------------\n",
      "Successfully read 33 records of which:\n",
      " - 1 are of type TIMESTAMP\n",
      " - 29 are of type VARIABLE\n",
      " - 1 are of type VERSION\n",
      " - 1 are of type NOTICE\n",
      "--------------------------------------------------\n",
      "Available variables:\n",
      " - b2dx1 [<class 'numpy.ndarray'>]\n",
      " - b2dy1 [<class 'numpy.ndarray'>]\n",
      " - b2dz1 [<class 'numpy.ndarray'>]\n",
      " - d2d1 [<class 'numpy.ndarray'>]\n",
      " - b2dx2 [<class 'numpy.ndarray'>]\n",
      " - b2dy2 [<class 'numpy.ndarray'>]\n",
      " - b2dz2 [<class 'numpy.ndarray'>]\n",
      " - d2d2 [<class 'numpy.ndarray'>]\n",
      " - b2dx3 [<class 'numpy.ndarray'>]\n",
      " - b2dy3 [<class 'numpy.ndarray'>]\n",
      " - b2dz3 [<class 'numpy.ndarray'>]\n",
      " - d2d3 [<class 'numpy.ndarray'>]\n",
      " - b2dx4 [<class 'numpy.ndarray'>]\n",
      " - b2dy4 [<class 'numpy.ndarray'>]\n",
      " - b2dz4 [<class 'numpy.ndarray'>]\n",
      " - d2d4 [<class 'numpy.ndarray'>]\n",
      " - b2dx5 [<class 'numpy.ndarray'>]\n",
      " - b2dy5 [<class 'numpy.ndarray'>]\n",
      " - b2dz5 [<class 'numpy.ndarray'>]\n",
      " - d2d5 [<class 'numpy.ndarray'>]\n",
      " - b2dx6 [<class 'numpy.ndarray'>]\n",
      " - b2dy6 [<class 'numpy.ndarray'>]\n",
      " - b2dz6 [<class 'numpy.ndarray'>]\n",
      " - d2d6 [<class 'numpy.ndarray'>]\n",
      " - h3d [<class 'numpy.ndarray'>]\n",
      " - info_unit [<class 'bytes'>]\n",
      " - info_pixel [<class 'bytes'>]\n",
      " - info_boundary [<class 'bytes'>]\n",
      " - info_array [<class 'bytes'>]\n",
      "--------------------------------------------------\n"
     ]
    }
   ],
   "source": [
    "path = \"/Users/lilli/Desktop/mflex/data/Analytic_boundary_data.sav\"\n",
    "\n",
    "data = readsav(path, python_dict=True, verbose=True)"
   ]
  },
  {
   "cell_type": "code",
   "execution_count": 4,
   "metadata": {},
   "outputs": [
    {
     "name": "stdout",
     "output_type": "stream",
     "text": [
      "xmax, ymax, zmax 3.2 3.2 2.0\n",
      "nresol_x, nresol_y, nresol_z 80 80 50\n",
      "pixelsize_x 0.04\n",
      "pixelsize_y 0.04\n",
      "pixelsize_z 0.04\n"
     ]
    }
   ],
   "source": [
    "data_bz = data[\"b2dz5\"]\n",
    "data_bx = data[\"b2dx5\"]\n",
    "data_by = data[\"b2dy5\"]\n",
    "\n",
    "nresol_x = data_bz.shape[1]\n",
    "nresol_y = data_bz.shape[0]\n",
    "\n",
    "pixelsize_z = 0.04  # Convert pixelsize from km into Mm\n",
    "pixelsize_x = 0.04\n",
    "pixelsize_y = 0.04\n",
    "\n",
    "xmin = np.float64(0.0)  # Minimum value of x in data length scale, not in Mm\n",
    "ymin = np.float64(0.0)  # Minimum value of y in data length scale, not in Mm\n",
    "zmin = np.float64(0.0)  # Minimum value of z in data length scale, not in Mm\n",
    "\n",
    "xmax = nresol_x * pixelsize_x\n",
    "ymax = nresol_y * pixelsize_y\n",
    "\n",
    "nresol_z = 50\n",
    "\n",
    "zmax = nresol_z * pixelsize_z\n",
    "\n",
    "z0 = zmax\n",
    "\n",
    "nf_max = min(nresol_x, nresol_y)\n",
    "\n",
    "print(\"xmax, ymax, zmax\", xmax, ymax, zmax)\n",
    "print(\"nresol_x, nresol_y, nresol_z\", nresol_x, nresol_y, nresol_z)\n",
    "print(\"pixelsize_x\", pixelsize_x)\n",
    "print(\"pixelsize_y\", pixelsize_y)\n",
    "print(\"pixelsize_z\", pixelsize_z)"
   ]
  },
  {
   "cell_type": "code",
   "execution_count": 5,
   "metadata": {},
   "outputs": [],
   "source": [
    "x_arr = np.arange(nresol_x) * xmax / (nresol_x - 1)\n",
    "y_arr = np.arange(nresol_y) * ymax / (nresol_y - 1)\n",
    "z_arr = np.arange(nresol_z) * zmax / (nresol_z - 1)\n",
    "x_grid, y_grid = np.meshgrid(x_arr, y_arr)"
   ]
  },
  {
   "cell_type": "code",
   "execution_count": 6,
   "metadata": {},
   "outputs": [],
   "source": [
    "data2d = Field2dData(\n",
    "    nresol_x,\n",
    "    nresol_y,\n",
    "    nresol_z,\n",
    "    nf_max,\n",
    "    pixelsize_x,\n",
    "    pixelsize_y,\n",
    "    pixelsize_z,\n",
    "    x_arr,\n",
    "    y_arr,\n",
    "    z_arr,\n",
    "    data_bz,\n",
    ")"
   ]
  },
  {
   "cell_type": "code",
   "execution_count": 7,
   "metadata": {},
   "outputs": [
    {
     "name": "stdout",
     "output_type": "stream",
     "text": [
      "Flux-balanced if below 10% -- -2.996346e-08\n",
      "Alpha calucated with Sakurai formula -- -0.946507416665554\n"
     ]
    }
   ],
   "source": [
    "L_X = 3.2\n",
    "print(\"Flux-balanced if below 10% --\", check_fluxbalance(data2d))\n",
    "print(\n",
    "    \"Alpha calucated with Sakurai formula --\",\n",
    "    alpha_HS04(data_bx, data_by, data_bz) * nresol_x / L_X,\n",
    ")"
   ]
  },
  {
   "cell_type": "markdown",
   "metadata": {},
   "source": [
    "## Field lines are shown for three different cases: \n",
    "\n",
    "(1) Low (1991) solution coded by L Nadol with a and alpha chosen as ISSI Reference model, kappa chosen to visually fit to ISSI Reference field  <br>\n",
    "(2) Asymptotic N+W(2019) solution coded by L Nadol with parameters calculated from (1)  <br>\n",
    "(3) ISSI Reference model // Low (1991) solution coded by T Wiegelmann / provided by X Zhu"
   ]
  },
  {
   "cell_type": "code",
   "execution_count": 8,
   "metadata": {},
   "outputs": [
    {
     "name": "stdout",
     "output_type": "stream",
     "text": [
      "0.386699330643024 -0.9346760739572346\n"
     ]
    }
   ],
   "source": [
    "alpha = alpha_HS04(data_bx, data_by, data_bz) * (nresol_x-1) / L_X\n",
    "\n",
    "length_scale_x = nresol_x * pixelsize_x\n",
    "length_scale_y = nresol_y * pixelsize_y\n",
    "\n",
    "length_scale_x_norm = length_scale_x\n",
    "length_scale_y_norm = length_scale_y\n",
    "\n",
    "kx_arr = np.arange(nf_max) * 2.0 * np.pi / length_scale_x_norm  # [0:nf_max]\n",
    "ky_arr = np.arange(nf_max) * 2.0 * np.pi / length_scale_y_norm  # [0:nf_max]\n",
    "one_arr = 0.0 * np.arange(nf_max) + 1.0\n",
    "\n",
    "ky_grid = np.outer(ky_arr, one_arr)  # [0:nf_max, 0:nf_max]\n",
    "kx_grid = np.outer(one_arr, kx_arr)  # [0:nf_max, 0:nf_max]\n",
    "\n",
    "# kx^2 + ky^2\n",
    "\n",
    "k2_arr = np.outer(ky_arr**2, one_arr) + np.outer(one_arr, kx_arr**2)\n",
    "k2_arr[0, 0] = (np.pi * 2.0 / length_scale_x_norm) ** 2 + (\n",
    "    np.pi * 2.0 / length_scale_y_norm\n",
    ") ** 2\n",
    "\n",
    "# Need k^2 > alpha^2/(1-2a) and k^2 > alpha^2\n",
    "\n",
    "limit = (k2_arr - alpha**2) / (2 * k2_arr)\n",
    "\n",
    "amax = limit.min()\n",
    "\n",
    "print(amax, alpha)"
   ]
  },
  {
   "cell_type": "code",
   "execution_count": 9,
   "metadata": {},
   "outputs": [
    {
     "name": "stdout",
     "output_type": "stream",
     "text": [
      "0.0062499999999999995\n"
     ]
    }
   ],
   "source": [
    "KAPPA_X = 0.02\n",
    "kappa = KAPPA_X/L_X\n",
    "print(kappa)"
   ]
  },
  {
   "cell_type": "markdown",
   "metadata": {},
   "source": [
    "# Meine eigene Low Lösung"
   ]
  },
  {
   "cell_type": "code",
   "execution_count": 10,
   "metadata": {},
   "outputs": [
    {
     "name": "stdout",
     "output_type": "stream",
     "text": [
      "<built-in method min of numpy.ndarray object at 0x3046bed30>\n"
     ]
    }
   ],
   "source": [
    "kappa = 0.4\n",
    "a = 0.5\n",
    "alpha = -0.9346760739572346\n",
    "data3dL = mhsflex.fluxbalance.calculate_magfield(data2d, a, 1.0, alpha, z0, kappa, asymptotic=False, tanh=False)"
   ]
  },
  {
   "cell_type": "code",
   "execution_count": 11,
   "metadata": {},
   "outputs": [],
   "source": [
    "sinks = data3dL.field[:, :, 0,2].copy()\n",
    "sources = data3dL.field[:, :, 0,2].copy()\n",
    "\n",
    "maxmask = sources < sources.max() * 0.4\n",
    "sources[maxmask != 0] = 0\n",
    "\n",
    "minmask = sinks < sinks.min() * 0.4\n",
    "sinks[minmask == 0] = 0"
   ]
  },
  {
   "cell_type": "code",
   "execution_count": 12,
   "metadata": {},
   "outputs": [],
   "source": [
    "c2 = (0.992, 0.251, 0.733)\n",
    "from msat.pyvis.fieldline3d import fieldline3d"
   ]
  },
  {
   "cell_type": "code",
   "execution_count": 13,
   "metadata": {},
   "outputs": [],
   "source": [
    "folder = \"/Users/lilli/Desktop/Thesis/ISSI_SA/Part2\"\n",
    "b= 1.0"
   ]
  },
  {
   "cell_type": "code",
   "execution_count": 14,
   "metadata": {},
   "outputs": [
    {
     "data": {
      "image/png": "[encoded data removed]",
      "text/plain": [
       "<Figure size 640x480 with 1 Axes>"
      ]
     },
     "metadata": {},
     "output_type": "display_data"
    }
   ],
   "source": [
    "x_grid, y_grid = np.meshgrid(x_arr, y_arr)\n",
    "\n",
    "fig = plt.figure()\n",
    "ax = fig.figure.add_subplot(111, projection=\"3d\")\n",
    "ax.contourf(\n",
    "    x_grid,\n",
    "    y_grid,\n",
    "    data3dL.field[:, :, 0,2],\n",
    "    1000,\n",
    "    # norm=norm,\n",
    "    cmap=cmap,\n",
    "    offset=0.0,\n",
    ")\n",
    "ax.set_xlabel(\"x\")\n",
    "ax.set_ylabel(\"y\")\n",
    "ax.set_zlabel(\"z\")  # type: ignore\n",
    "ax.grid(False)\n",
    "ax.set_zlim(zmin, zmax)  # type: ignore\n",
    "ax.set_xlim(xmin, xmax)\n",
    "ax.set_ylim(ymin, ymax)\n",
    "ax.set_box_aspect((xmax, ymax, zmax))  # type : ignore # (xmax, ymax, 2 * data.z0)\n",
    "\n",
    "ax.xaxis._axinfo[\"tick\"][\"inward_factor\"] = 0.2  # type : ignore\n",
    "ax.xaxis._axinfo[\"tick\"][\"outward_factor\"] = 0  # type : ignore\n",
    "ax.yaxis._axinfo[\"tick\"][\"inward_factor\"] = 0.2  # type : ignore\n",
    "ax.yaxis._axinfo[\"tick\"][\"outward_factor\"] = 0  # type : ignore\n",
    "ax.zaxis._axinfo[\"tick\"][\"inward_factor\"] = 0.2  # type : ignore\n",
    "ax.zaxis._axinfo[\"tick\"][\"outward_factor\"] = 0  # type : ignore\n",
    "\n",
    "[t.set_va(\"center\") for t in ax.get_yticklabels()]  # type : ignore\n",
    "[t.set_ha(\"center\") for t in ax.get_yticklabels()]  # type : ignore\n",
    "\n",
    "[t.set_va(\"top\") for t in ax.get_xticklabels()]  # type : ignore\n",
    "[t.set_ha(\"center\") for t in ax.get_xticklabels()]  # type : ignore\n",
    "\n",
    "[t.set_va(\"center\") for t in ax.get_zticklabels()]  # type : ignore\n",
    "[t.set_ha(\"center\") for t in ax.get_zticklabels()]  # type : ignore\n",
    "\n",
    "h1 = 1.0 / 100.0  # Initial step length for fieldline3D\n",
    "eps = 1.0e-8\n",
    "# Tolerance to which we require point on field line known for fieldline3D\n",
    "hmin = 0.0  # Minimum step length for fieldline3D\n",
    "hmax = 1.0  # Maximum step length for fieldline3D\n",
    "\n",
    "# Limit fieldline plot to original data size (rather than Seehafer size)\n",
    "boxedges = np.zeros((2, 3))\n",
    "\n",
    "# # Y boundaries must come first, X second due to switched order explained above\n",
    "boxedges[0, 0] = ymin\n",
    "boxedges[1, 0] = ymax\n",
    "boxedges[0, 1] = xmin\n",
    "boxedges[1, 1] = xmax\n",
    "boxedges[0, 2] = zmin\n",
    "boxedges[1, 2] = zmax\n",
    "\n",
    "for ix in range(0, data3dL.field.shape[1], int(data3dL.field.shape[1] / 20)):\n",
    "        for iy in range(0, data3dL.field.shape[0], int(data3dL.field.shape[0] / 20)):\n",
    "            if sources[iy, ix] != 0 : #or sinks[iy, ix] != 0:\n",
    "\n",
    "                x_start = ix / (nresol_x / xmax)\n",
    "                y_start = iy / (nresol_y / ymax)\n",
    "\n",
    "# x_0 = 0.0\n",
    "# y_0 = 0.0\n",
    "# dx = xmax / 10\n",
    "# dy = ymax / 10\n",
    "\n",
    "# nlinesmaxx = int(np.floor(xmax / dx))\n",
    "# nlinesmaxy = int(np.floor(ymax / dy))\n",
    "\n",
    "# for ilinesx in range(0, nlinesmaxx):\n",
    "#         for ilinesy in range(0, nlinesmaxy):\n",
    "#             x_start = x_0 + dx * ilinesx\n",
    "#             y_start = y_0 + dy * ilinesy\n",
    "            \n",
    "                if data3dL.field[int(y_start), int(x_start), 0,2] < 0.0:\n",
    "                    h1 = -h1\n",
    "\n",
    "                ystart = [y_start, x_start, 0.0]\n",
    "\n",
    "                fieldline = fieldline3d(\n",
    "                    ystart,\n",
    "                    data3dL.field,\n",
    "                    y_arr,\n",
    "                    x_arr,\n",
    "                    data3dL.z,\n",
    "                    h1,\n",
    "                    hmin,\n",
    "                    hmax,\n",
    "                    eps,\n",
    "                    oneway=False,\n",
    "                    boxedge=boxedges,\n",
    "                    gridcoord=False,\n",
    "                    coordsystem=\"cartesian\",\n",
    "                )  # , periodicity='xy')\n",
    "\n",
    "                if np.isclose(fieldline[:, 2][-1], 0.0) and np.isclose(\n",
    "                    fieldline[:, 2][0], 0.0\n",
    "                ):\n",
    "                    # Need to give row direction first/ Y, then column direction/ X\n",
    "                    ax.plot(\n",
    "                        fieldline[:, 1],\n",
    "                        fieldline[:, 0],\n",
    "                        fieldline[:, 2],\n",
    "                        color=c2,\n",
    "                        linewidth=0.5,\n",
    "                        zorder=4000,\n",
    "                    )\n",
    "                else:\n",
    "                    ax.plot(\n",
    "                        fieldline[:, 1],\n",
    "                        fieldline[:, 0],\n",
    "                        fieldline[:, 2],\n",
    "                        color=c2,\n",
    "                        linewidth=0.5,\n",
    "                        zorder=4000,\n",
    "                    )  # 2 * data.z0  # FOR ZOOM\n",
    "\n",
    "## SIDE\n",
    "\n",
    "# ax.view_init(0, -90)  # type: ignore\n",
    "\n",
    "# ax.set_xlabel(\"x\", labelpad=10)\n",
    "# ax.set_ylabel(\"y\", labelpad=10)\n",
    "\n",
    "# ax.set_xticks(np.arange(0, xmax + 1.0 * 10**-8, xmax / 5))\n",
    "# ax.set_yticks(np.arange(0, ymax + 1.0 * 10**-8, ymax / 5))\n",
    "\n",
    "\n",
    "# [t.set_va(\"center\") for t in ax.get_yticklabels()]  # type: ignore\n",
    "# [t.set_ha(\"center\") for t in ax.get_yticklabels()]  # type: ignore\n",
    "\n",
    "# [t.set_va(\"center\") for t in ax.get_xticklabels()]  # type: ignore\n",
    "# [t.set_ha(\"center\") for t in ax.get_xticklabels()]  # type: ignore\n",
    "\n",
    "# ax.view_init(0, -90)  # type: ignore\n",
    "# ax.set_xlabel(\"x\", labelpad=5)\n",
    "# ax.set_zlabel(\"z\", labelpad=10)  # type: ignore\n",
    "\n",
    "# ax.set_xticks(np.arange(0, xmax + 1.0 * 10**-8, xmax / 5))\n",
    "# ax.set_zticks(np.arange(0, zmax + 1.0 * 10**-8, zmax / 5))  # type: ignore\n",
    "\n",
    "# ax.set_yticklabels([])  # type: ignore\n",
    "# ax.set_ylabel(\"\")\n",
    "\n",
    "# [t.set_va(\"center\") for t in ax.get_xticklabels()]  # type: ignore\n",
    "# [t.set_ha(\"center\") for t in ax.get_xticklabels()]  # type: ignore\n",
    "\n",
    "# [t.set_va(\"center\") for t in ax.get_zticklabels()]  # type: ignore\n",
    "# [t.set_ha(\"center\") for t in ax.get_zticklabels()]  # type: ignore\n",
    "\n",
    "## LOS\n",
    "\n",
    "# ax.view_init(90, -90)  # type: ignore\n",
    "\n",
    "# ax.set_xlabel(\"x\", labelpad=10)\n",
    "# ax.set_ylabel(\"y\", labelpad=10)\n",
    "\n",
    "# ax.set_xticks(np.arange(0, xmax + 1.0 * 10**-8, xmax / 5))\n",
    "# ax.set_yticks(np.arange(0, ymax + 1.0 * 10**-8, ymax / 5))\n",
    "\n",
    "# ax.set_zticklabels([])  # type: ignore\n",
    "# ax.set_zlabel(\"\")  # type: ignore\n",
    "\n",
    "# [t.set_va(\"center\") for t in ax.get_yticklabels()]  # type: ignore\n",
    "# [t.set_ha(\"center\") for t in ax.get_yticklabels()]  # type: ignore\n",
    "\n",
    "# [t.set_va(\"center\") for t in ax.get_xticklabels()]  # type: ignore\n",
    "# [t.set_ha(\"center\") for t in ax.get_xticklabels()]  # type: ignore\n",
    "\n",
    "## ANGULAR\n",
    "\n",
    "ax.view_init(30, 240, 0)  # type: ignore\n",
    "\n",
    "ax.set_xticks(np.arange(0, xmax + 1.0 * 10**-8, xmax / 5))\n",
    "ax.set_yticks(np.arange(0, ymax + 1.0 * 10**-8, ymax / 5))\n",
    "ax.set_zticks(np.arange(0, zmax + 1.0 * 10**-8, zmax / 5))  # type: ignore\n",
    "\n",
    "[t.set_va(\"bottom\") for t in ax.get_yticklabels()]  # type: ignore\n",
    "[t.set_ha(\"right\") for t in ax.get_yticklabels()]  # type: ignore\n",
    "\n",
    "[t.set_va(\"bottom\") for t in ax.get_xticklabels()]  # type: ignore\n",
    "[t.set_ha(\"left\") for t in ax.get_xticklabels()]  # type: ignore\n",
    "\n",
    "[t.set_va(\"top\") for t in ax.get_zticklabels()]  # type: ignore\n",
    "[t.set_ha(\"center\") for t in ax.get_zticklabels()]  # type: ignore\n",
    "\n",
    "plotname = (\n",
    "    folder \n",
    "    + \"/fieldlines_\"\n",
    "    + str(a)\n",
    "    + \"_\"\n",
    "    + str(alpha)\n",
    "    + \"_\"\n",
    "    + str(b)\n",
    "    + \"_angular.png\"\n",
    ")\n",
    "\n",
    "plt.savefig(plotname, dpi=600, bbox_inches=\"tight\", pad_inches=0.1)"
   ]
  },
  {
   "cell_type": "markdown",
   "metadata": {},
   "source": [
    "# N+W (2019) Asymptotische Lösung"
   ]
  },
  {
   "cell_type": "code",
   "execution_count": 15,
   "metadata": {},
   "outputs": [
    {
     "name": "stdout",
     "output_type": "stream",
     "text": [
      "0.2246644820586108 1.225540933544524\n"
     ]
    }
   ],
   "source": [
    "from mhsflex.switch import f, f_low\n",
    "\n",
    "kappa = 0.4\n",
    "a = 0.5\n",
    "z0 = 2.0\n",
    "\n",
    "f_exp = f_low(z_arr, a, kappa)\n",
    "\n",
    "deltaz = 0.2\n",
    "\n",
    "b = (np.exp(-kappa * z0) - 1) / (np.exp(-kappa * z0) * np.tanh(-z0 / deltaz))\n",
    "aN = a / (1 - b * np.tanh(-z0 / deltaz))\n",
    "\n",
    "f_tanh = f(z_arr, z0, deltaz, aN, b)\n",
    "\n",
    "print(aN, b)"
   ]
  },
  {
   "cell_type": "code",
   "execution_count": 16,
   "metadata": {},
   "outputs": [
    {
     "data": {
      "image/png": "[encoded data removed]",
      "text/plain": [
       "<Figure size 640x480 with 1 Axes>"
      ]
     },
     "metadata": {},
     "output_type": "display_data"
    }
   ],
   "source": [
    "fig, ax1 = plt.subplots()\n",
    "\n",
    "ax1.plot(\n",
    "    z_arr,\n",
    "    f_exp,\n",
    "    label=r\"$f_L$\",\n",
    "    linewidth=0.5,\n",
    "    color=\"black\",\n",
    "    linestyle=\"solid\",\n",
    ")\n",
    "ax1.plot(\n",
    "    z_arr,\n",
    "    f_tanh,\n",
    "    label=r\"$f_{N+W}$\",\n",
    "    linewidth=0.5,\n",
    "    color=c2,\n",
    "    linestyle=\"solid\",\n",
    ")\n",
    "plt.legend(frameon=False)\n",
    "# ax1.set_xlabel(\"z\")\n",
    "ax1.tick_params(direction=\"in\", length=2, width=0.5)\n",
    "# ax2.tick_params(direction=\"in\", length=2, width=0.5)\n",
    "plt.show()"
   ]
  },
  {
   "cell_type": "code",
   "execution_count": 17,
   "metadata": {},
   "outputs": [
    {
     "name": "stdout",
     "output_type": "stream",
     "text": [
      "<built-in method min of numpy.ndarray object at 0x308b4d8f0>\n"
     ]
    }
   ],
   "source": [
    "alpha = -0.9346760739572346\n",
    "data3dNW = mhsflex.fluxbalance.calculate_magfield(data2d, aN, b, alpha, z0, deltaz)"
   ]
  },
  {
   "cell_type": "code",
   "execution_count": 18,
   "metadata": {},
   "outputs": [
    {
     "data": {
      "image/png": "[encoded data removed]",
      "text/plain": [
       "<Figure size 640x480 with 1 Axes>"
      ]
     },
     "metadata": {},
     "output_type": "display_data"
    }
   ],
   "source": [
    "x_grid, y_grid = np.meshgrid(x_arr, y_arr)\n",
    "\n",
    "fig = plt.figure()\n",
    "ax = fig.figure.add_subplot(111, projection=\"3d\")\n",
    "ax.contourf(\n",
    "    x_grid,\n",
    "    y_grid,\n",
    "    data3dNW.field[:, :, 0,2],\n",
    "    1000,\n",
    "    # norm=norm,\n",
    "    cmap=cmap,\n",
    "    offset=0.0,\n",
    ")\n",
    "ax.set_xlabel(\"x\")\n",
    "ax.set_ylabel(\"y\")\n",
    "ax.set_zlabel(\"z\")  # type: ignore\n",
    "ax.grid(False)\n",
    "ax.set_zlim(zmin, zmax)  # type: ignore\n",
    "ax.set_xlim(xmin, xmax)\n",
    "ax.set_ylim(ymin, ymax)\n",
    "ax.set_box_aspect((xmax, ymax, zmax))  # type : ignore # (xmax, ymax, 2 * data.z0)\n",
    "\n",
    "ax.xaxis._axinfo[\"tick\"][\"inward_factor\"] = 0.2  # type : ignore\n",
    "ax.xaxis._axinfo[\"tick\"][\"outward_factor\"] = 0  # type : ignore\n",
    "ax.yaxis._axinfo[\"tick\"][\"inward_factor\"] = 0.2  # type : ignore\n",
    "ax.yaxis._axinfo[\"tick\"][\"outward_factor\"] = 0  # type : ignore\n",
    "ax.zaxis._axinfo[\"tick\"][\"inward_factor\"] = 0.2  # type : ignore\n",
    "ax.zaxis._axinfo[\"tick\"][\"outward_factor\"] = 0  # type : ignore\n",
    "\n",
    "[t.set_va(\"center\") for t in ax.get_yticklabels()]  # type : ignore\n",
    "[t.set_ha(\"center\") for t in ax.get_yticklabels()]  # type : ignore\n",
    "\n",
    "[t.set_va(\"top\") for t in ax.get_xticklabels()]  # type : ignore\n",
    "[t.set_ha(\"center\") for t in ax.get_xticklabels()]  # type : ignore\n",
    "\n",
    "[t.set_va(\"center\") for t in ax.get_zticklabels()]  # type : ignore\n",
    "[t.set_ha(\"center\") for t in ax.get_zticklabels()]  # type : ignore\n",
    "\n",
    "h1 = 1.0 / 100.0  # Initial step length for fieldline3D\n",
    "eps = 1.0e-8\n",
    "# Tolerance to which we require point on field line known for fieldline3D\n",
    "hmin = 0.0  # Minimum step length for fieldline3D\n",
    "hmax = 1.0  # Maximum step length for fieldline3D\n",
    "\n",
    "# Limit fieldline plot to original data size (rather than Seehafer size)\n",
    "boxedges = np.zeros((2, 3))\n",
    "\n",
    "# # Y boundaries must come first, X second due to switched order explained above\n",
    "boxedges[0, 0] = ymin\n",
    "boxedges[1, 0] = ymax\n",
    "boxedges[0, 1] = xmin\n",
    "boxedges[1, 1] = xmax\n",
    "boxedges[0, 2] = zmin\n",
    "boxedges[1, 2] = zmax\n",
    "\n",
    "for ix in range(0, data3dNW.field.shape[1], int(data3dNW.field.shape[1] / 20)):\n",
    "        for iy in range(0, data3dNW.field.shape[0], int(data3dNW.field.shape[0] / 20)):\n",
    "            if sources[iy, ix] != 0 : #or sinks[iy, ix] != 0:\n",
    "\n",
    "                x_start = ix / (nresol_x / xmax)\n",
    "                y_start = iy / (nresol_y / ymax)\n",
    "\n",
    "# x_0 = 0.0\n",
    "# y_0 = 0.0\n",
    "# dx = xmax / 10\n",
    "# dy = ymax / 10\n",
    "\n",
    "# nlinesmaxx = int(np.floor(xmax / dx))\n",
    "# nlinesmaxy = int(np.floor(ymax / dy))\n",
    "\n",
    "# for ilinesx in range(0, nlinesmaxx):\n",
    "#         for ilinesy in range(0, nlinesmaxy):\n",
    "#             x_start = x_0 + dx * ilinesx\n",
    "#             y_start = y_0 + dy * ilinesy\n",
    "            \n",
    "                if data3dNW.field[int(y_start), int(x_start), 0,2] < 0.0:\n",
    "                    h1 = -h1\n",
    "\n",
    "                ystart = [y_start, x_start, 0.0]\n",
    "\n",
    "                fieldline = fieldline3d(\n",
    "                    ystart,\n",
    "                    data3dNW.field,\n",
    "                    y_arr,\n",
    "                    x_arr,\n",
    "                    data3dNW.z,\n",
    "                    h1,\n",
    "                    hmin,\n",
    "                    hmax,\n",
    "                    eps,\n",
    "                    oneway=False,\n",
    "                    boxedge=boxedges,\n",
    "                    gridcoord=False,\n",
    "                    coordsystem=\"cartesian\",\n",
    "                )  # , periodicity='xy')\n",
    "\n",
    "                if np.isclose(fieldline[:, 2][-1], 0.0) and np.isclose(\n",
    "                    fieldline[:, 2][0], 0.0\n",
    "                ):\n",
    "                    # Need to give row direction first/ Y, then column direction/ X\n",
    "                    ax.plot(\n",
    "                        fieldline[:, 1],\n",
    "                        fieldline[:, 0],\n",
    "                        fieldline[:, 2],\n",
    "                        color=c2,\n",
    "                        linewidth=0.5,\n",
    "                        zorder=4000,\n",
    "                    )\n",
    "                else:\n",
    "                    ax.plot(\n",
    "                        fieldline[:, 1],\n",
    "                        fieldline[:, 0],\n",
    "                        fieldline[:, 2],\n",
    "                        color=c2,\n",
    "                        linewidth=0.5,\n",
    "                        zorder=4000,\n",
    "                    )  # 2 * data.z0  # FOR ZOOM\n",
    "\n",
    "## SIDE\n",
    "\n",
    "ax.view_init(0, -90)  # type: ignore\n",
    "\n",
    "ax.set_xlabel(\"x\", labelpad=10)\n",
    "ax.set_ylabel(\"y\", labelpad=10)\n",
    "\n",
    "ax.set_xticks(np.arange(0, xmax + 1.0 * 10**-8, xmax / 5))\n",
    "ax.set_yticks(np.arange(0, ymax + 1.0 * 10**-8, ymax / 5))\n",
    "\n",
    "\n",
    "[t.set_va(\"center\") for t in ax.get_yticklabels()]  # type: ignore\n",
    "[t.set_ha(\"center\") for t in ax.get_yticklabels()]  # type: ignore\n",
    "\n",
    "[t.set_va(\"center\") for t in ax.get_xticklabels()]  # type: ignore\n",
    "[t.set_ha(\"center\") for t in ax.get_xticklabels()]  # type: ignore\n",
    "\n",
    "ax.view_init(0, -90)  # type: ignore\n",
    "ax.set_xlabel(\"x\", labelpad=5)\n",
    "ax.set_zlabel(\"z\", labelpad=10)  # type: ignore\n",
    "\n",
    "ax.set_xticks(np.arange(0, xmax + 1.0 * 10**-8, xmax / 5))\n",
    "ax.set_zticks(np.arange(0, zmax + 1.0 * 10**-8, zmax / 5))  # type: ignore\n",
    "\n",
    "ax.set_yticklabels([])  # type: ignore\n",
    "ax.set_ylabel(\"\")\n",
    "\n",
    "[t.set_va(\"center\") for t in ax.get_xticklabels()]  # type: ignore\n",
    "[t.set_ha(\"center\") for t in ax.get_xticklabels()]  # type: ignore\n",
    "\n",
    "[t.set_va(\"center\") for t in ax.get_zticklabels()]  # type: ignore\n",
    "[t.set_ha(\"center\") for t in ax.get_zticklabels()]  # type: ignore\n",
    "\n",
    "## LOS\n",
    "\n",
    "# ax.view_init(90, -90)  # type: ignore\n",
    "\n",
    "# ax.set_xlabel(\"x\", labelpad=10)\n",
    "# ax.set_ylabel(\"y\", labelpad=10)\n",
    "\n",
    "# ax.set_xticks(np.arange(0, xmax + 1.0 * 10**-8, xmax / 5))\n",
    "# ax.set_yticks(np.arange(0, ymax + 1.0 * 10**-8, ymax / 5))\n",
    "\n",
    "# ax.set_zticklabels([])  # type: ignore\n",
    "# ax.set_zlabel(\"\")  # type: ignore\n",
    "\n",
    "# [t.set_va(\"center\") for t in ax.get_yticklabels()]  # type: ignore\n",
    "# [t.set_ha(\"center\") for t in ax.get_yticklabels()]  # type: ignore\n",
    "\n",
    "# [t.set_va(\"center\") for t in ax.get_xticklabels()]  # type: ignore\n",
    "# [t.set_ha(\"center\") for t in ax.get_xticklabels()]  # type: ignore\n",
    "\n",
    "## ANGULAR\n",
    "\n",
    "# ax.view_init(30, 240, 0)  # type: ignore\n",
    "\n",
    "# ax.set_xticks(np.arange(0, xmax + 1.0 * 10**-8, xmax / 5))\n",
    "# ax.set_yticks(np.arange(0, ymax + 1.0 * 10**-8, ymax / 5))\n",
    "# ax.set_zticks(np.arange(0, zmax + 1.0 * 10**-8, zmax / 5))  # type: ignore\n",
    "\n",
    "# [t.set_va(\"bottom\") for t in ax.get_yticklabels()]  # type: ignore\n",
    "# [t.set_ha(\"right\") for t in ax.get_yticklabels()]  # type: ignore\n",
    "\n",
    "# [t.set_va(\"bottom\") for t in ax.get_xticklabels()]  # type: ignore\n",
    "# [t.set_ha(\"left\") for t in ax.get_xticklabels()]  # type: ignore\n",
    "\n",
    "# [t.set_va(\"top\") for t in ax.get_zticklabels()]  # type: ignore\n",
    "# [t.set_ha(\"center\") for t in ax.get_zticklabels()]  # type: ignore\n",
    "\n",
    "plotname = (\n",
    "    folder \n",
    "    + \"/fieldlines_NWA_\"\n",
    "    + str(a)\n",
    "    + \"_\"\n",
    "    + str(alpha)\n",
    "    + \"_\"\n",
    "    + str(b)\n",
    "    + \"_side.png\"\n",
    ")\n",
    "\n",
    "plt.savefig(plotname, dpi=600, bbox_inches=\"tight\", pad_inches=0.1)"
   ]
  },
  {
   "cell_type": "markdown",
   "metadata": {},
   "source": [
    "# Plot ISSI Semi-analytical Low and Lou BC with Low extrapolation without using Seehafer"
   ]
  },
  {
   "cell_type": "code",
   "execution_count": 19,
   "metadata": {},
   "outputs": [
    {
     "name": "stdout",
     "output_type": "stream",
     "text": [
      "--------------------------------------------------\n",
      "Date: Tue Sep  6 15:11:11 2022\n",
      "User: xszhu\n",
      "Host: HR30\n",
      "--------------------------------------------------\n",
      "Format: 9\n",
      "Architecture: x86_64\n",
      "Operating System: linux\n",
      "IDL Version: 7.1.1\n",
      "--------------------------------------------------\n",
      "Successfully read 12 records of which:\n",
      " - 1 are of type TIMESTAMP\n",
      " - 8 are of type VARIABLE\n",
      " - 1 are of type VERSION\n",
      " - 1 are of type NOTICE\n",
      "--------------------------------------------------\n",
      "Available variables:\n",
      " - b3dx [<class 'numpy.ndarray'>]\n",
      " - b3dy [<class 'numpy.ndarray'>]\n",
      " - b3dz [<class 'numpy.ndarray'>]\n",
      " - p3d [<class 'numpy.ndarray'>]\n",
      " - d3d [<class 'numpy.ndarray'>]\n",
      " - info_unit [<class 'bytes'>]\n",
      " - info_pixel [<class 'bytes'>]\n",
      " - info_array [<class 'bytes'>]\n",
      "--------------------------------------------------\n"
     ]
    }
   ],
   "source": [
    "path3dref = \"/Users/lilli/Desktop/mflex/data/Analytic_3D_data.sav\"\n",
    "data3dref = readsav(path3dref, python_dict=True, verbose=True)\n",
    "\n",
    "bx_ref = data3dref[\"b3dx\"]\n",
    "by_ref = data3dref[\"b3dy\"]\n",
    "bz_ref = data3dref[\"b3dz\"]\n",
    "\n",
    "presref = data3dref[\"p3d\"] * 10**-1\n",
    "denref = data3dref[\"d3d\"] * 10**3\n",
    "\n",
    "issi_bx = np.zeros((nresol_y, nresol_x, nresol_z))\n",
    "issi_by = np.zeros_like(issi_bx)\n",
    "issi_bz = np.zeros_like(issi_bx)\n",
    "\n",
    "for i in range(0, nresol_y):\n",
    "    for j in range(0, nresol_x):\n",
    "        for k in range(0, nresol_z):\n",
    "            issi_bx[i, j, k] = bx_ref[k, i, j]\n",
    "            issi_by[i, j, k] = by_ref[k, i, j]\n",
    "            issi_bz[i, j, k] = bz_ref[k, i, j]\n",
    "\n",
    "B_ref = np.zeros((nresol_y, nresol_x, nresol_z, 3))\n",
    "\n",
    "B_ref[:, :, :, 0] = issi_by[:,:,:]\n",
    "B_ref[:, :, :, 1] = issi_bx[:,:,:]\n",
    "B_ref[:, :, :, 2] = issi_bz[:,:,:]"
   ]
  },
  {
   "cell_type": "code",
   "execution_count": 20,
   "metadata": {},
   "outputs": [
    {
     "data": {
      "image/png": "[encoded data removed]",
      "text/plain": [
       "<Figure size 640x480 with 1 Axes>"
      ]
     },
     "metadata": {},
     "output_type": "display_data"
    }
   ],
   "source": [
    "fig = plt.figure()\n",
    "ax = fig.figure.add_subplot(111, projection=\"3d\")\n",
    "ax.contourf(\n",
    "    x_grid,\n",
    "    y_grid,\n",
    "    B_ref[:, :, 0,2],\n",
    "    1000,\n",
    "    # norm=norm,\n",
    "    cmap=cmap,\n",
    "    offset=0.0,\n",
    ")\n",
    "ax.set_xlabel(\"x\")\n",
    "ax.set_ylabel(\"y\")\n",
    "ax.set_zlabel(\"z\")  # type: ignore\n",
    "ax.grid(False)\n",
    "ax.set_zlim(zmin, zmax)  # type: ignore\n",
    "ax.set_xlim(xmin, xmax)\n",
    "ax.set_ylim(ymin, ymax)\n",
    "ax.set_box_aspect((xmax, ymax, zmax))  # type : ignore # (xmax, ymax, 2 * data.z0)\n",
    "\n",
    "ax.xaxis._axinfo[\"tick\"][\"inward_factor\"] = 0.2  # type : ignore\n",
    "ax.xaxis._axinfo[\"tick\"][\"outward_factor\"] = 0  # type : ignore\n",
    "ax.yaxis._axinfo[\"tick\"][\"inward_factor\"] = 0.2  # type : ignore\n",
    "ax.yaxis._axinfo[\"tick\"][\"outward_factor\"] = 0  # type : ignore\n",
    "ax.zaxis._axinfo[\"tick\"][\"inward_factor\"] = 0.2  # type : ignore\n",
    "ax.zaxis._axinfo[\"tick\"][\"outward_factor\"] = 0  # type : ignore\n",
    "\n",
    "ax.xaxis.pane.fill = False  # type : ignore\n",
    "ax.yaxis.pane.fill = False  # type : ignore\n",
    "ax.zaxis.pane.fill = False  # type : ignore\n",
    "\n",
    "[t.set_va(\"center\") for t in ax.get_yticklabels()]  # type : ignore\n",
    "[t.set_ha(\"center\") for t in ax.get_yticklabels()]  # type : ignore\n",
    "\n",
    "[t.set_va(\"top\") for t in ax.get_xticklabels()]  # type : ignore\n",
    "[t.set_ha(\"center\") for t in ax.get_xticklabels()]  # type : ignore\n",
    "\n",
    "[t.set_va(\"center\") for t in ax.get_zticklabels()]  # type : ignore\n",
    "[t.set_ha(\"center\") for t in ax.get_zticklabels()]  # type : ignore\n",
    "\n",
    "h1 = 1.0 / 100.0  # Initial step length for fieldline3D\n",
    "eps = 1.0e-8\n",
    "# Tolerance to which we require point on field line known for fieldline3D\n",
    "hmin = 0.0  # Minimum step length for fieldline3D\n",
    "hmax = 1.0  # Maximum step length for fieldline3D\n",
    "\n",
    "# Limit fieldline plot to original data size (rather than Seehafer size)\n",
    "boxedges = np.zeros((2, 3))\n",
    "\n",
    "# # Y boundaries must come first, X second due to switched order explained above\n",
    "boxedges[0, 0] = ymin\n",
    "boxedges[1, 0] = ymax\n",
    "boxedges[0, 1] = xmin\n",
    "boxedges[1, 1] = xmax\n",
    "boxedges[0, 2] = zmin\n",
    "boxedges[1, 2] = zmax\n",
    "\n",
    "for ix in range(0, B_ref.shape[1], int(B_ref.shape[1] / 20)):\n",
    "        for iy in range(0, B_ref.shape[0], int(B_ref.shape[0] / 20)):\n",
    "            if sources[iy, ix] != 0: # or sinks[iy, ix] != 0:\n",
    "\n",
    "                x_start = ix / (nresol_x / xmax)\n",
    "                y_start = iy / (nresol_y / ymax)\n",
    "\n",
    "# x_0 = 0.0\n",
    "# y_0 = 0.0\n",
    "# dx = xmax / 10\n",
    "# dy = ymax / 10\n",
    "\n",
    "# nlinesmaxx = int(np.floor(xmax / dx))\n",
    "# nlinesmaxy = int(np.floor(ymax / dy))\n",
    "\n",
    "# for ilinesx in range(0, nlinesmaxx):\n",
    "#         for ilinesy in range(0, nlinesmaxy):\n",
    "            \n",
    "#             x_start = x_0 + dx * ilinesx\n",
    "#             y_start = y_0 + dy * ilinesy\n",
    "                if B_ref[int(y_start), int(x_start), 0,2] < 0.0:\n",
    "                    h1 = -h1\n",
    "\n",
    "                ystart = [y_start, x_start, 0.0]\n",
    "\n",
    "                fieldline = fieldline3d(\n",
    "                    ystart,\n",
    "                    B_ref,\n",
    "                    y_arr,\n",
    "                    x_arr,\n",
    "                    data3dL.z,\n",
    "                    h1,\n",
    "                    hmin,\n",
    "                    hmax,\n",
    "                    eps,\n",
    "                    oneway=False,\n",
    "                    boxedge=boxedges,\n",
    "                    gridcoord=False,\n",
    "                    coordsystem=\"cartesian\",\n",
    "                )  # , periodicity='xy')\n",
    "\n",
    "                if np.isclose(fieldline[:, 2][-1], 0.0) and np.isclose(\n",
    "                    fieldline[:, 2][0], 0.0\n",
    "                ):\n",
    "                    # Need to give row direction first/ Y, then column direction/ X\n",
    "                    ax.plot(\n",
    "                        fieldline[:, 1],\n",
    "                        fieldline[:, 0],\n",
    "                        fieldline[:, 2],\n",
    "                        color=c2,\n",
    "                        linewidth=0.5,\n",
    "                        zorder=4000,\n",
    "                    )\n",
    "                else:\n",
    "                    ax.plot(\n",
    "                        fieldline[:, 1],\n",
    "                        fieldline[:, 0],\n",
    "                        fieldline[:, 2],\n",
    "                        color=c2,\n",
    "                        linewidth=0.5,\n",
    "                        zorder=4000,\n",
    "                    )  # 2 * data.z0  # FOR ZOOM\n",
    "\n",
    "## SIDE\n",
    "\n",
    "ax.view_init(0, -90)  # type: ignore\n",
    "\n",
    "ax.set_xlabel(\"x\", labelpad=10)\n",
    "ax.set_ylabel(\"y\", labelpad=10)\n",
    "\n",
    "ax.set_xticks(np.arange(0, xmax + 1.0 * 10**-8, xmax / 5))\n",
    "ax.set_yticks(np.arange(0, ymax + 1.0 * 10**-8, ymax / 5))\n",
    "\n",
    "\n",
    "[t.set_va(\"center\") for t in ax.get_yticklabels()]  # type: ignore\n",
    "[t.set_ha(\"center\") for t in ax.get_yticklabels()]  # type: ignore\n",
    "\n",
    "[t.set_va(\"center\") for t in ax.get_xticklabels()]  # type: ignore\n",
    "[t.set_ha(\"center\") for t in ax.get_xticklabels()]  # type: ignore\n",
    "\n",
    "ax.view_init(0, -90)  # type: ignore\n",
    "ax.set_xlabel(\"x\", labelpad=5)\n",
    "ax.set_zlabel(\"z\", labelpad=10)  # type: ignore\n",
    "\n",
    "ax.set_xticks(np.arange(0, xmax + 1.0 * 10**-8, xmax / 5))\n",
    "ax.set_zticks(np.arange(0, zmax + 1.0 * 10**-8, zmax / 5))  # type: ignore\n",
    "\n",
    "ax.set_yticklabels([])  # type: ignore\n",
    "ax.set_ylabel(\"\")\n",
    "\n",
    "[t.set_va(\"center\") for t in ax.get_xticklabels()]  # type: ignore\n",
    "[t.set_ha(\"center\") for t in ax.get_xticklabels()]  # type: ignore\n",
    "\n",
    "[t.set_va(\"center\") for t in ax.get_zticklabels()]  # type: ignore\n",
    "[t.set_ha(\"center\") for t in ax.get_zticklabels()]  # type: ignore\n",
    "\n",
    "## LOS\n",
    "\n",
    "ax.view_init(90, -90)  # type: ignore\n",
    "\n",
    "ax.set_xlabel(\"x\", labelpad=10)\n",
    "ax.set_ylabel(\"y\", labelpad=10)\n",
    "\n",
    "ax.set_xticks(np.arange(0, xmax + 1.0 * 10**-8, xmax / 5))\n",
    "ax.set_yticks(np.arange(0, ymax + 1.0 * 10**-8, ymax / 5))\n",
    "\n",
    "ax.set_zticklabels([])  # type: ignore\n",
    "ax.set_zlabel(\"\")  # type: ignore\n",
    "\n",
    "[t.set_va(\"center\") for t in ax.get_yticklabels()]  # type: ignore\n",
    "[t.set_ha(\"center\") for t in ax.get_yticklabels()]  # type: ignore\n",
    "\n",
    "[t.set_va(\"center\") for t in ax.get_xticklabels()]  # type: ignore\n",
    "[t.set_ha(\"center\") for t in ax.get_xticklabels()]  # type: ignore\n",
    "\n",
    "## ANGULAR\n",
    "\n",
    "ax.view_init(30, 240, 0)  # type: ignore\n",
    "\n",
    "ax.set_xticks(np.arange(0, xmax + 1.0 * 10**-8, xmax / 5))\n",
    "ax.set_yticks(np.arange(0, ymax + 1.0 * 10**-8, ymax / 5))\n",
    "ax.set_zticks(np.arange(0, zmax + 1.0 * 10**-8, zmax / 5))  # type: ignore\n",
    "\n",
    "[t.set_va(\"bottom\") for t in ax.get_yticklabels()]  # type: ignore\n",
    "[t.set_ha(\"right\") for t in ax.get_yticklabels()]  # type: ignore\n",
    "\n",
    "[t.set_va(\"bottom\") for t in ax.get_xticklabels()]  # type: ignore\n",
    "[t.set_ha(\"left\") for t in ax.get_xticklabels()]  # type: ignore\n",
    "\n",
    "[t.set_va(\"top\") for t in ax.get_zticklabels()]  # type: ignore\n",
    "[t.set_ha(\"center\") for t in ax.get_zticklabels()]  # type: ignore\n",
    "\n",
    "plotname = (\n",
    "    folder \n",
    "    + \"/fieldlines_ISSI_\"\n",
    "    + str(a)\n",
    "    + \"_\"\n",
    "    + str(alpha)\n",
    "    + \"_\"\n",
    "    + str(b)\n",
    "    + \"_angular.png\"\n",
    ")\n",
    "\n",
    "plt.savefig(plotname, dpi=600, bbox_inches=\"tight\", pad_inches=0.1)"
   ]
  },
  {
   "cell_type": "code",
   "execution_count": 21,
   "metadata": {},
   "outputs": [],
   "source": [
    "from mhsflex.metrics import VecCorr, CauSchw, NormErr, MeanErr, MagEnergy"
   ]
  },
  {
   "cell_type": "code",
   "execution_count": 22,
   "metadata": {},
   "outputs": [
    {
     "name": "stdout",
     "output_type": "stream",
     "text": [
      "0.9960545430055974\n",
      "0.998727547208554\n",
      "0.06416231559415128\n",
      "0.05105906197040921\n",
      "0.9603946708679807\n"
     ]
    }
   ],
   "source": [
    "print(VecCorr(B_ref, data3dL.field))\n",
    "print(CauSchw(B_ref, data3dL.field))\n",
    "print(NormErr(B_ref, data3dL.field))\n",
    "print(MeanErr(B_ref, data3dL.field))\n",
    "print(MagEnergy(B_ref, data3dL.field))\n",
    "\n"
   ]
  },
  {
   "cell_type": "code",
   "execution_count": 23,
   "metadata": {},
   "outputs": [
    {
     "name": "stdout",
     "output_type": "stream",
     "text": [
      "0.9978791150419626\n",
      "0.9971736981776063\n",
      "0.11862988163084215\n",
      "0.22332340691243935\n",
      "1.0318709624693887\n"
     ]
    }
   ],
   "source": [
    "print(VecCorr(data3dL.field, data3dNW.field))\n",
    "print(CauSchw(data3dL.field, data3dNW.field))\n",
    "print(NormErr(data3dL.field, data3dNW.field))\n",
    "print(MeanErr(data3dL.field, data3dNW.field))\n",
    "print(MagEnergy(data3dL.field, data3dNW.field))"
   ]
  },
  {
   "cell_type": "code",
   "execution_count": 24,
   "metadata": {},
   "outputs": [
    {
     "name": "stdout",
     "output_type": "stream",
     "text": [
      "0.9936637259948312\n",
      "0.9953397232219134\n",
      "0.14131460987306296\n",
      "0.22714694761520876\n",
      "0.9910033733790149\n"
     ]
    }
   ],
   "source": [
    "print(VecCorr(B_ref, data3dNW.field))\n",
    "print(CauSchw(B_ref, data3dNW.field))\n",
    "print(NormErr(B_ref, data3dNW.field))\n",
    "print(MeanErr(B_ref, data3dNW.field))\n",
    "print(MagEnergy(B_ref, data3dNW.field))"
   ]
  },
  {
   "cell_type": "code",
   "execution_count": 25,
   "metadata": {},
   "outputs": [],
   "source": [
    "temps = np.array([6000.0, 5500.0, 10000.0])\n",
    "heights = np.array([0.0, z0 / 4, z0])\n",
    "\n",
    "from mhsflex.field3d import (\n",
    "    bpressure_linear,\n",
    "    bdensity_linear,\n",
    "    btemp_linear,\n",
    "    fpressure_linear,\n",
    "    fdensity_linear,\n",
    ")\n",
    "\n",
    "backtemp = btemp_linear(data3dNW, heights, temps)\n",
    "backpres = bpressure_linear(data3dNW, heights, temps)\n",
    "backden = bdensity_linear(data3dNW, heights, temps)"
   ]
  },
  {
   "cell_type": "code",
   "execution_count": 26,
   "metadata": {},
   "outputs": [],
   "source": [
    "T_PHOTOSPHERE = 6000.0  # Photospheric temperature\n",
    "T_CORONA = 2.0 * 10.0**6  # Coronal temperature\n",
    "\n",
    "G_SOLAR = 272.2  # m/s^2\n",
    "KB = 1.380649 * 10**-23  # Boltzmann constant in Joule/ Kelvin = kg m^2/(Ks^2)\n",
    "MBAR = 1.67262 * 10**-27  # mean molecular weight (proton mass)\n",
    "RHO0 = 2.7 * 10**-4  # plasma density at z = 0 in kg/(m^3)\n",
    "\n",
    "RHO0 = 9.0 * 10**-4\n",
    "\n",
    "P0 = T_PHOTOSPHERE * KB * RHO0 / MBAR  # plasma pressure in kg/(s^2 m)\n",
    "MU0 = 1.25663706 * 10**-6  # permeability of free space in mkg/(s^2A^2)\n",
    "\n",
    "L = 10**6  # Lengthscale Mm\n",
    "T0 = 10000.0\n",
    "H = KB * T0 / (MBAR * G_SOLAR) / L\n",
    "B0 = data2d.bz.max()  # Gauss background magnetic field strength in 10^-4 kg/(s^2A) = 10^-4 T\n",
    "PB0 = (B0 * 10**-4) ** 2 / (2 * MU0)  # magnetic pressure b0**2 / 2mu0 in kg/(s^2m)\n",
    "BETA0 = P0 / PB0  # Plasma Beta, ration plasma to magnetic pressure"
   ]
  },
  {
   "cell_type": "code",
   "execution_count": 27,
   "metadata": {},
   "outputs": [],
   "source": [
    "maxcoord = np.unravel_index(\n",
    "    np.argmax(data2d.bz, axis=None),\n",
    "    data2d.bz.shape,\n",
    ")\n",
    "iy = int(maxcoord[0])\n",
    "ix = int(maxcoord[1])\n",
    "\n",
    "fpresL = fpressure_linear(data3dL, heights, temps)\n",
    "fdenL = fdensity_linear(data3dL, heights, temps)\n",
    "\n",
    "fpresNW = fpressure_linear(data3dNW, heights, temps)\n",
    "fdenNW = fdensity_linear(data3dNW, heights, temps)"
   ]
  },
  {
   "cell_type": "code",
   "execution_count": 28,
   "metadata": {},
   "outputs": [],
   "source": [
    "fpresISSI = np.zeros_like(fpresL)\n",
    "fdenISSI = np.zeros_like(fpresL)"
   ]
  },
  {
   "cell_type": "code",
   "execution_count": 29,
   "metadata": {},
   "outputs": [],
   "source": [
    "for i in range(0, nresol_y):\n",
    "    for j in range(0, nresol_x):\n",
    "        for k in range(0, nresol_z):\n",
    "            fpresISSI[i, j, k] = presref[k, i, j]\n",
    "            fdenISSI[i, j, k] = denref[k, i, j]"
   ]
  },
  {
   "cell_type": "code",
   "execution_count": 30,
   "metadata": {},
   "outputs": [],
   "source": [
    "c2 = (0.420, 0.502, 1.000)"
   ]
  },
  {
   "cell_type": "code",
   "execution_count": 31,
   "metadata": {},
   "outputs": [
    {
     "data": {
      "image/png": "[encoded data removed]",
      "text/plain": [
       "<Figure size 640x480 with 1 Axes>"
      ]
     },
     "metadata": {},
     "output_type": "display_data"
    }
   ],
   "source": [
    "plt.plot(\n",
    "    z_arr,\n",
    "    fpresL[0, 0, :],\n",
    "    linewidth=0.5,\n",
    "    color=c2,\n",
    "    label=\"Low\"\n",
    ")\n",
    "plt.plot(\n",
    "    z_arr,\n",
    "    fpresISSI[0, 0, :],\n",
    "    linewidth=0.5,\n",
    "    color=c1,\n",
    "    label=\"ISSI\"\n",
    ")\n",
    "plt.plot(\n",
    "    z_arr,\n",
    "    fpresNW[0, 0, :],\n",
    "    linewidth=0.5,\n",
    "    color=c4,\n",
    "    label=\"N+W-A\",\n",
    "    #linestyle=(5, (5,5))\n",
    ")\n",
    "for ix in range(1, nresol_x, 4):\n",
    "    for iy in range(1, nresol_y, 4):\n",
    "        # for ix in range(nresol_x):\n",
    "        #     for iy in range(nresol_y):\n",
    "        plt.plot(\n",
    "            z_arr,\n",
    "            fpresL[iy, ix, :],\n",
    "            linewidth=0.5,\n",
    "            color=c2,  # alpha=0.04\n",
    "        )\n",
    "for ix in range(1, nresol_x, 4):\n",
    "    for iy in range(1, nresol_y, 4):\n",
    "        plt.plot(\n",
    "            z_arr,\n",
    "            fpresISSI[iy, ix, :],\n",
    "            linewidth=0.5,\n",
    "            color=c1,\n",
    "        )\n",
    "for ix in range(1, nresol_x,4):\n",
    "    for iy in range(1, nresol_y, 4):\n",
    "        plt.plot(\n",
    "            z_arr,\n",
    "            fpresNW[iy, ix, :],\n",
    "            linewidth=0.5,\n",
    "            color=c4,\n",
    "            #linestyle=(5, (5,5))\n",
    "        )\n",
    "plt.ylabel(r\"kg/($\\textrm{s}^2$ m)\")\n",
    "plt.xlabel(\"z\")\n",
    "plt.xlim([0, 0.8])\n",
    "plt.legend(frameon=False)\n",
    "plt.tick_params(direction=\"in\", length=2, width=0.5)\n",
    "plotname = folder + \"/fpres_comp.png\"\n",
    "plt.savefig(plotname, dpi=600, bbox_inches=\"tight\", pad_inches=0.1)\n",
    "plt.show()"
   ]
  },
  {
   "cell_type": "code",
   "execution_count": 32,
   "metadata": {},
   "outputs": [
    {
     "data": {
      "image/png": "[encoded data removed]",
      "text/plain": [
       "<Figure size 640x480 with 1 Axes>"
      ]
     },
     "metadata": {},
     "output_type": "display_data"
    }
   ],
   "source": [
    "plt.plot(\n",
    "    z_arr,\n",
    "    fdenL[0, 0, :],\n",
    "    linewidth=0.5,\n",
    "    color=c2,\n",
    "    label=\"Low\"\n",
    ")\n",
    "plt.plot(\n",
    "    z_arr,\n",
    "    fdenISSI[0, 0, :],\n",
    "    linewidth=0.5,\n",
    "    color=c1,\n",
    "    label=\"ISSI\"\n",
    ")\n",
    "plt.plot(\n",
    "    z_arr,\n",
    "    fdenNW[0, 0, :],\n",
    "    linewidth=0.5,\n",
    "    color=c4,\n",
    "    label=\"N+W-A\",\n",
    "    #linestyle=(5, (5,5))\n",
    ")\n",
    "for ix in range(1, nresol_x, 4):\n",
    "    for iy in range(1, nresol_y, 4):\n",
    "        # for ix in range(nresol_x):\n",
    "        #     for iy in range(nresol_y):\n",
    "        plt.plot(\n",
    "            z_arr,\n",
    "            fdenL[iy, ix, :],\n",
    "            linewidth=0.5,\n",
    "            color=c2,  # alpha=0.04\n",
    "        )\n",
    "for ix in range(1, nresol_x, 4):\n",
    "    for iy in range(1, nresol_y, 4):\n",
    "        plt.plot(\n",
    "            z_arr,\n",
    "            fdenISSI[iy, ix, :],\n",
    "            linewidth=0.5,\n",
    "            color=c1,\n",
    "        )\n",
    "for ix in range(1, nresol_x,4):\n",
    "    for iy in range(1, nresol_y, 4):\n",
    "        plt.plot(\n",
    "            z_arr,\n",
    "            fdenNW[iy, ix, :],\n",
    "            linewidth=0.5,\n",
    "            color=c4,\n",
    "            #linestyle=(5, (5,5))\n",
    "        )\n",
    "plt.ylabel(r\"kg/$(\\textrm{m}^3)$\")\n",
    "plt.xlabel(\"z\")\n",
    "plt.xlim([0, 0.8])\n",
    "plt.legend(frameon=False)\n",
    "plt.tick_params(direction=\"in\", length=2, width=0.5)\n",
    "plotname = folder + \"/fden_comp.png\"\n",
    "plt.savefig(plotname, dpi=600, bbox_inches=\"tight\", pad_inches=0.1)\n",
    "plt.show()"
   ]
  },
  {
   "cell_type": "code",
   "execution_count": 33,
   "metadata": {},
   "outputs": [],
   "source": [
    "from mhsflex.metrics import pearson_corr_coeff_issi, pearson_corr_coeff"
   ]
  },
  {
   "cell_type": "code",
   "execution_count": 34,
   "metadata": {},
   "outputs": [
    {
     "name": "stdout",
     "output_type": "stream",
     "text": [
      "Pearson Correlation reference value for pressure  PearsonRResult(statistic=1.0, pvalue=0.0)\n",
      "Pearson Correlation reference value for density  PearsonRResult(statistic=1.0, pvalue=0.0)\n",
      "Pearson Correlation actual value for pressure  PearsonRResult(statistic=0.9915069362502552, pvalue=0.0)\n",
      "Pearson Correlation actual value for density  PearsonRResult(statistic=0.7686649980222737, pvalue=0.0)\n"
     ]
    }
   ],
   "source": [
    "pearson_corr_coeff_issi(fpresISSI, fdenISSI, data3dL, heights, temps)"
   ]
  },
  {
   "cell_type": "code",
   "execution_count": 35,
   "metadata": {},
   "outputs": [
    {
     "name": "stdout",
     "output_type": "stream",
     "text": [
      "Pearson Correlation reference value for pressure  PearsonRResult(statistic=1.0, pvalue=0.0)\n",
      "Pearson Correlation reference value for density  PearsonRResult(statistic=1.0, pvalue=0.0)\n",
      "Pearson Correlation actual value for pressure  PearsonRResult(statistic=0.9922814459506567, pvalue=0.0)\n",
      "Pearson Correlation actual value for density  PearsonRResult(statistic=0.7548272360162311, pvalue=0.0)\n"
     ]
    }
   ],
   "source": [
    "pearson_corr_coeff_issi(fpresISSI, fdenISSI, data3dNW, heights, temps)"
   ]
  },
  {
   "cell_type": "code",
   "execution_count": 36,
   "metadata": {},
   "outputs": [
    {
     "name": "stdout",
     "output_type": "stream",
     "text": [
      "Pearson Correlation reference value for pressure  PearsonRResult(statistic=1.0, pvalue=0.0)\n",
      "Pearson Correlation reference value for density  PearsonRResult(statistic=1.0, pvalue=0.0)\n",
      "Pearson Correlation actual value for pressure  PearsonRResult(statistic=0.9995550579808645, pvalue=0.0)\n",
      "Pearson Correlation actual value for density  PearsonRResult(statistic=0.9996048287439594, pvalue=0.0)\n"
     ]
    },
    {
     "data": {
      "text/plain": [
       "(array([[1.46223282, 1.46222709, 1.46221767, ..., 1.46223494, 1.46223297,\n",
       "         1.46223282],\n",
       "        [1.46225269, 1.46224437, 1.46223329, ..., 1.4622618 , 1.4622566 ,\n",
       "         1.46225269],\n",
       "        [1.46227049, 1.46226042, 1.46224792, ..., 1.46228355, 1.46227631,\n",
       "         1.46227049],\n",
       "        ...,\n",
       "        [1.46218922, 1.46219003, 1.46218395, ..., 1.46216087, 1.46216873,\n",
       "         1.46218922],\n",
       "        [1.46221042, 1.46220834, 1.46220067, ..., 1.46219167, 1.46219527,\n",
       "         1.46221042],\n",
       "        [1.46223282, 1.46222709, 1.46221767, ..., 1.46223494, 1.46223297,\n",
       "         1.46223282]]),\n",
       " array([[7.9021301 , 7.90229189, 7.90232557, ..., 7.90192779, 7.90187296,\n",
       "         7.9021301 ],\n",
       "        [7.90223741, 7.90234487, 7.90236235, ..., 7.90218336, 7.90213908,\n",
       "         7.90223741],\n",
       "        [7.90228614, 7.90238217, 7.90238772, ..., 7.90219575, 7.90214257,\n",
       "         7.90228614],\n",
       "        ...,\n",
       "        [7.90186987, 7.90224291, 7.90222975, ..., 7.90158765, 7.90127846,\n",
       "         7.90186987],\n",
       "        [7.9018944 , 7.90226656, 7.902246  , ..., 7.90141478, 7.90107297,\n",
       "         7.9018944 ],\n",
       "        [7.9021301 , 7.90229189, 7.90232557, ..., 7.90192779, 7.90187296,\n",
       "         7.9021301 ]]),\n",
       " array([[1.35219443, 1.35218523, 1.35217373, ..., 1.35220703, 1.3522004 ,\n",
       "         1.35219443],\n",
       "        [1.35221187, 1.35220103, 1.35218844, ..., 1.3522288 , 1.35222014,\n",
       "         1.35221187],\n",
       "        [1.35222822, 1.35221618, 1.35220261, ..., 1.35224785, 1.3522378 ,\n",
       "         1.35222822],\n",
       "        ...,\n",
       "        [1.35215786, 1.35215259, 1.35214322, ..., 1.35215347, 1.35215262,\n",
       "         1.35215786],\n",
       "        [1.35217574, 1.35216872, 1.35215835, ..., 1.35217696, 1.35217357,\n",
       "         1.35217574],\n",
       "        [1.35219443, 1.35218523, 1.35217373, ..., 1.35220703, 1.3522004 ,\n",
       "         1.35219443]]),\n",
       " array([[7.95596332, 7.95604777, 7.956068  , ..., 7.95583757, 7.95582019,\n",
       "         7.95596332],\n",
       "        [7.95602644, 7.95608073, 7.95609147, ..., 7.9559921 , 7.95597638,\n",
       "         7.95602644],\n",
       "        [7.95605883, 7.95610543, 7.95610882, ..., 7.95600507, 7.95598382,\n",
       "         7.95605883],\n",
       "        ...,\n",
       "        [7.9558311 , 7.95601636, 7.95601703, ..., 7.95567369, 7.95553237,\n",
       "         7.9558311 ],\n",
       "        [7.95584444, 7.95602958, 7.95602619, ..., 7.95557455, 7.95541993,\n",
       "         7.95584444],\n",
       "        [7.95596332, 7.95604777, 7.956068  , ..., 7.95583757, 7.95582019,\n",
       "         7.95596332]]))"
      ]
     },
     "execution_count": 36,
     "metadata": {},
     "output_type": "execute_result"
    }
   ],
   "source": [
    "pearson_corr_coeff(data3dL, data3dNW)"
   ]
  },
  {
   "cell_type": "code",
   "execution_count": 52,
   "metadata": {},
   "outputs": [],
   "source": [
    "from mhsflex.metrics import field_div_metric_fb, field_div_metric_issi"
   ]
  },
  {
   "cell_type": "code",
   "execution_count": 53,
   "metadata": {},
   "outputs": [
    {
     "name": "stdout",
     "output_type": "stream",
     "text": [
      "256 168 165\n"
     ]
    },
    {
     "data": {
      "text/plain": [
       "0.9821428571428571"
      ]
     },
     "execution_count": 53,
     "metadata": {},
     "output_type": "execute_result"
    }
   ],
   "source": [
    "field_div_metric_fb(data3dL, data3dNW)"
   ]
  },
  {
   "cell_type": "code",
   "execution_count": 54,
   "metadata": {},
   "outputs": [
    {
     "name": "stdout",
     "output_type": "stream",
     "text": [
      "256 169 141\n"
     ]
    },
    {
     "data": {
      "text/plain": [
       "0.834319526627219"
      ]
     },
     "execution_count": 54,
     "metadata": {},
     "output_type": "execute_result"
    }
   ],
   "source": [
    "field_div_metric_issi(B_ref, data3dNW)"
   ]
  },
  {
   "cell_type": "code",
   "execution_count": 55,
   "metadata": {},
   "outputs": [
    {
     "name": "stdout",
     "output_type": "stream",
     "text": [
      "256 176 154\n"
     ]
    },
    {
     "data": {
      "text/plain": [
       "0.875"
      ]
     },
     "execution_count": 55,
     "metadata": {},
     "output_type": "execute_result"
    }
   ],
   "source": [
    "field_div_metric_issi(B_ref, data3dL)"
   ]
  }
 ],
 "metadata": {
  "kernelspec": {
   "display_name": "mflex-cNoQEf_u-py3.12",
   "language": "python",
   "name": "python3"
  },
  "language_info": {
   "codemirror_mode": {
    "name": "ipython",
    "version": 3
   },
   "file_extension": ".py",
   "mimetype": "text/x-python",
   "name": "python",
   "nbconvert_exporter": "python",
   "pygments_lexer": "ipython3",
   "version": "3.12.4"
  }
 },
 "nbformat": 4,
 "nbformat_minor": 2
}
