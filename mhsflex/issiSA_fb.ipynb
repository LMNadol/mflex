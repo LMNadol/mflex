{
 "cells": [
  {
   "cell_type": "code",
   "execution_count": 1,
   "metadata": {},
   "outputs": [],
   "source": [
    "%load_ext autoreload\n",
    "%autoreload 2"
   ]
  },
  {
   "cell_type": "code",
   "execution_count": 2,
   "metadata": {},
   "outputs": [
    {
     "name": "stderr",
     "output_type": "stream",
     "text": [
      "/Users/lilli/Library/Caches/pypoetry/virtualenvs/mflex-cNoQEf_u-py3.12/lib/python3.12/site-packages/tqdm/auto.py:21: TqdmWarning: IProgress not found. Please update jupyter and ipywidgets. See https://ipywidgets.readthedocs.io/en/stable/user_install.html\n",
      "  from .autonotebook import tqdm as notebook_tqdm\n"
     ]
    },
    {
     "name": "stdout",
     "output_type": "stream",
     "text": [
      "--------------------------------------------------\n",
      "Date: Tue Sep  6 15:16:46 2022\n",
      "User: xszhu\n",
      "Host: HR30\n",
      "--------------------------------------------------\n",
      "Format: 9\n",
      "Architecture: x86_64\n",
      "Operating System: linux\n",
      "IDL Version: 7.1.1\n",
      "--------------------------------------------------\n",
      "Successfully read 33 records of which:\n",
      " - 1 are of type NOTICE\n",
      " - 1 are of type TIMESTAMP\n",
      " - 29 are of type VARIABLE\n",
      " - 1 are of type VERSION\n",
      "--------------------------------------------------\n",
      "Available variables:\n",
      " - b2dx1 [<class 'numpy.ndarray'>]\n",
      " - b2dy1 [<class 'numpy.ndarray'>]\n",
      " - b2dz1 [<class 'numpy.ndarray'>]\n",
      " - d2d1 [<class 'numpy.ndarray'>]\n",
      " - b2dx2 [<class 'numpy.ndarray'>]\n",
      " - b2dy2 [<class 'numpy.ndarray'>]\n",
      " - b2dz2 [<class 'numpy.ndarray'>]\n",
      " - d2d2 [<class 'numpy.ndarray'>]\n",
      " - b2dx3 [<class 'numpy.ndarray'>]\n",
      " - b2dy3 [<class 'numpy.ndarray'>]\n",
      " - b2dz3 [<class 'numpy.ndarray'>]\n",
      " - d2d3 [<class 'numpy.ndarray'>]\n",
      " - b2dx4 [<class 'numpy.ndarray'>]\n",
      " - b2dy4 [<class 'numpy.ndarray'>]\n",
      " - b2dz4 [<class 'numpy.ndarray'>]\n",
      " - d2d4 [<class 'numpy.ndarray'>]\n",
      " - b2dx5 [<class 'numpy.ndarray'>]\n",
      " - b2dy5 [<class 'numpy.ndarray'>]\n",
      " - b2dz5 [<class 'numpy.ndarray'>]\n",
      " - d2d5 [<class 'numpy.ndarray'>]\n",
      " - b2dx6 [<class 'numpy.ndarray'>]\n",
      " - b2dy6 [<class 'numpy.ndarray'>]\n",
      " - b2dz6 [<class 'numpy.ndarray'>]\n",
      " - d2d6 [<class 'numpy.ndarray'>]\n",
      " - h3d [<class 'numpy.ndarray'>]\n",
      " - info_unit [<class 'bytes'>]\n",
      " - info_pixel [<class 'bytes'>]\n",
      " - info_boundary [<class 'bytes'>]\n",
      " - info_array [<class 'bytes'>]\n",
      "--------------------------------------------------\n",
      "xmax, ymax, zmax 3.2 3.2 2.0\n",
      "nresol_x, nresol_y, nresol_z 80 80 50\n",
      "pixelsize_x 0.04\n",
      "pixelsize_y 0.04\n",
      "pixelsize_z 0.04\n"
     ]
    }
   ],
   "source": [
    "from __future__ import annotations\n",
    "import numpy as np\n",
    "\n",
    "from mflex.simulate.simulate_boundary import dalmatian\n",
    "\n",
    "from mhsflex.field2d import Field2dData, check_fluxbalance, alpha_HS04\n",
    "from mhsflex.field3d import Field3dData, calculate_magfield, j3d, lf3d\n",
    "from mhsflex.vis import plot, plot_plasma_parameters, show_poles, show_footpoints\n",
    "from mhsflex.metrics import compare_field3d\n",
    "\n",
    "import mhsflex.fluxbalance\n",
    "\n",
    "from matplotlib import rc, colors\n",
    "import matplotlib.pyplot as plt\n",
    "from scipy.io import readsav\n",
    "\n",
    "from msat.pyvis.fieldline3d import fieldline3d\n",
    "\n",
    "\n",
    "rc(\"font\", **{\"family\": \"serif\", \"serif\": [\"Times\"]})\n",
    "rc(\"text\", usetex=True)\n",
    "\n",
    "c4 = (1.000, 0.224, 0.376)\n",
    "c1 = (0.439, 0.788, 1.000)\n",
    "c3 = \"black\"\n",
    "c2 = (0.420, 0.502, 1.000)\n",
    "c5 = (1.000, 0.000, 0.773)\n",
    "\n",
    "\n",
    "c6 = (1.000, 0.780, 0.000)\n",
    "c7 = (0.443, 1.000, 0.855)\n",
    "c8 = (0.996, 1.000, 0.000)\n",
    "\n",
    "c9 = (0.671, 0.714, 1.000)\n",
    "\n",
    "cmap = colors.LinearSegmentedColormap.from_list(\n",
    "    \"cmap\",\n",
    "    (\n",
    "        (0.000, (0.000, 0.000, 0.000)),\n",
    "        (0.500, (0.659, 0.659, 0.659)),\n",
    "        (1.000, (1.000, 1.000, 1.000)),\n",
    "    ),\n",
    ")\n",
    "\n",
    "cmap2 = colors.LinearSegmentedColormap.from_list(\n",
    "    \"cmap2\", ((0.000, (0.984, 1.000, 0.000)), (1.000, (1.000, 0.988, 0.761)))\n",
    ")\n",
    "norm = colors.SymLogNorm(50, vmin=-7.5e2, vmax=7.5e2)\n",
    "\n",
    "path = \"/Users/lilli/Desktop/mflex/data/Analytic_boundary_data.sav\"\n",
    "\n",
    "data = readsav(path, python_dict=True, verbose=True)\n",
    "\n",
    "data_bz = data[\"b2dz5\"]\n",
    "data_bx = data[\"b2dx5\"]\n",
    "data_by = data[\"b2dy5\"]\n",
    "\n",
    "nresol_x = data_bz.shape[1]\n",
    "nresol_y = data_bz.shape[0]\n",
    "\n",
    "pixelsize_z = 0.04  # Convert pixelsize from km into Mm\n",
    "pixelsize_x = 0.04\n",
    "pixelsize_y = 0.04\n",
    "\n",
    "xmin = np.float64(0.0)  # Minimum value of x in data length scale, not in Mm\n",
    "ymin = np.float64(0.0)  # Minimum value of y in data length scale, not in Mm\n",
    "zmin = np.float64(0.0)  # Minimum value of z in data length scale, not in Mm\n",
    "\n",
    "xmax = nresol_x * pixelsize_x\n",
    "ymax = nresol_y * pixelsize_y\n",
    "\n",
    "nresol_z = 50\n",
    "\n",
    "zmax = nresol_z * pixelsize_z\n",
    "\n",
    "z0 = zmax\n",
    "\n",
    "nf_max = min(nresol_x, nresol_y)\n",
    "\n",
    "print(\"xmax, ymax, zmax\", xmax, ymax, zmax)\n",
    "print(\"nresol_x, nresol_y, nresol_z\", nresol_x, nresol_y, nresol_z)\n",
    "print(\"pixelsize_x\", pixelsize_x)\n",
    "print(\"pixelsize_y\", pixelsize_y)\n",
    "print(\"pixelsize_z\", pixelsize_z)"
   ]
  },
  {
   "cell_type": "code",
   "execution_count": 4,
   "metadata": {},
   "outputs": [
    {
     "name": "stdout",
     "output_type": "stream",
     "text": [
      "-1792.2522\n",
      "446.3689\n"
     ]
    }
   ],
   "source": [
    "print(data_bz.min())\n",
    "print(data_bz.max())"
   ]
  },
  {
   "cell_type": "code",
   "execution_count": 3,
   "metadata": {},
   "outputs": [],
   "source": [
    "x_arr = np.arange(nresol_x) * xmax / (nresol_x - 1)\n",
    "y_arr = np.arange(nresol_y) * ymax / (nresol_y - 1)\n",
    "z_arr = np.arange(nresol_z) * zmax / (nresol_z - 1)\n",
    "x_grid, y_grid = np.meshgrid(x_arr, y_arr)"
   ]
  },
  {
   "cell_type": "code",
   "execution_count": 4,
   "metadata": {},
   "outputs": [
    {
     "name": "stdout",
     "output_type": "stream",
     "text": [
      "80\n",
      "80\n",
      "50\n",
      "80\n",
      "0.04 0.04 0.04\n",
      "[0.         0.04050633 0.08101266 0.12151899 0.16202532 0.20253165\n",
      " 0.24303797 0.2835443  0.32405063 0.36455696 0.40506329 0.44556962\n",
      " 0.48607595 0.52658228 0.56708861 0.60759494 0.64810127 0.68860759\n",
      " 0.72911392 0.76962025 0.81012658 0.85063291 0.89113924 0.93164557\n",
      " 0.9721519  1.01265823 1.05316456 1.09367089 1.13417722 1.17468354\n",
      " 1.21518987 1.2556962  1.29620253 1.33670886 1.37721519 1.41772152\n",
      " 1.45822785 1.49873418 1.53924051 1.57974684 1.62025316 1.66075949\n",
      " 1.70126582 1.74177215 1.78227848 1.82278481 1.86329114 1.90379747\n",
      " 1.9443038  1.98481013 2.02531646 2.06582278 2.10632911 2.14683544\n",
      " 2.18734177 2.2278481  2.26835443 2.30886076 2.34936709 2.38987342\n",
      " 2.43037975 2.47088608 2.51139241 2.55189873 2.59240506 2.63291139\n",
      " 2.67341772 2.71392405 2.75443038 2.79493671 2.83544304 2.87594937\n",
      " 2.9164557  2.95696203 2.99746835 3.03797468 3.07848101 3.11898734\n",
      " 3.15949367 3.2       ]\n",
      "[0.         0.04050633 0.08101266 0.12151899 0.16202532 0.20253165\n",
      " 0.24303797 0.2835443  0.32405063 0.36455696 0.40506329 0.44556962\n",
      " 0.48607595 0.52658228 0.56708861 0.60759494 0.64810127 0.68860759\n",
      " 0.72911392 0.76962025 0.81012658 0.85063291 0.89113924 0.93164557\n",
      " 0.9721519  1.01265823 1.05316456 1.09367089 1.13417722 1.17468354\n",
      " 1.21518987 1.2556962  1.29620253 1.33670886 1.37721519 1.41772152\n",
      " 1.45822785 1.49873418 1.53924051 1.57974684 1.62025316 1.66075949\n",
      " 1.70126582 1.74177215 1.78227848 1.82278481 1.86329114 1.90379747\n",
      " 1.9443038  1.98481013 2.02531646 2.06582278 2.10632911 2.14683544\n",
      " 2.18734177 2.2278481  2.26835443 2.30886076 2.34936709 2.38987342\n",
      " 2.43037975 2.47088608 2.51139241 2.55189873 2.59240506 2.63291139\n",
      " 2.67341772 2.71392405 2.75443038 2.79493671 2.83544304 2.87594937\n",
      " 2.9164557  2.95696203 2.99746835 3.03797468 3.07848101 3.11898734\n",
      " 3.15949367 3.2       ]\n",
      "[0.         0.04081633 0.08163265 0.12244898 0.16326531 0.20408163\n",
      " 0.24489796 0.28571429 0.32653061 0.36734694 0.40816327 0.44897959\n",
      " 0.48979592 0.53061224 0.57142857 0.6122449  0.65306122 0.69387755\n",
      " 0.73469388 0.7755102  0.81632653 0.85714286 0.89795918 0.93877551\n",
      " 0.97959184 1.02040816 1.06122449 1.10204082 1.14285714 1.18367347\n",
      " 1.2244898  1.26530612 1.30612245 1.34693878 1.3877551  1.42857143\n",
      " 1.46938776 1.51020408 1.55102041 1.59183673 1.63265306 1.67346939\n",
      " 1.71428571 1.75510204 1.79591837 1.83673469 1.87755102 1.91836735\n",
      " 1.95918367 2.        ]\n"
     ]
    }
   ],
   "source": [
    "data2d = Field2dData(\n",
    "    nresol_x,\n",
    "    nresol_y,\n",
    "    nresol_z,\n",
    "    nf_max,\n",
    "    pixelsize_x,\n",
    "    pixelsize_y,\n",
    "    pixelsize_z,\n",
    "    x_arr,\n",
    "    y_arr,\n",
    "    z_arr,\n",
    "    data_bz,\n",
    ")\n",
    "\n",
    "print(nresol_x)\n",
    "print(nresol_y)\n",
    "print(nresol_z)\n",
    "print(nf_max)\n",
    "print(pixelsize_x, pixelsize_y, pixelsize_z)\n",
    "print(x_arr)\n",
    "print(y_arr)\n",
    "print(z_arr)"
   ]
  },
  {
   "cell_type": "markdown",
   "metadata": {},
   "source": [
    "# All fields calucalated here are without Seehafer as this was not used by ISSI Team to balance flux through boundary as BC is almost naturally flusbalanced"
   ]
  },
  {
   "cell_type": "code",
   "execution_count": 593,
   "metadata": {},
   "outputs": [
    {
     "data": {
      "text/plain": [
       "-2.996346e-08"
      ]
     },
     "execution_count": 593,
     "metadata": {},
     "output_type": "execute_result"
    }
   ],
   "source": [
    "check_fluxbalance(data2d)"
   ]
  },
  {
   "cell_type": "markdown",
   "metadata": {},
   "source": [
    "## Field lines are shown for three different cases: \n",
    "\n",
    "(1) Low (1991) solution coded by L Nadol with a and alpha chosen as ISSI Reference model, kappa chosen to visually fit to ISSI Reference field  <br>\n",
    "(2) Asymptotic N+W(2019) solution coded by L Nadol with parameters calculated from (1)  <br>\n",
    "(3) ISSI Reference model // Low (1991) solution coded by T Wiegelmann / provided by X Zhu"
   ]
  },
  {
   "cell_type": "code",
   "execution_count": 6,
   "metadata": {},
   "outputs": [
    {
     "name": "stdout",
     "output_type": "stream",
     "text": [
      "Flux-balanced if below 10% -- -2.996346e-08\n",
      "Alpha calucated with Sakurai formula -- -0.946507416665554\n"
     ]
    }
   ],
   "source": [
    "L_X = 3.2\n",
    "print(\"Flux-balanced if below 10% --\", check_fluxbalance(data2d))\n",
    "print(\n",
    "    \"Alpha calucated with Sakurai formula --\",\n",
    "    alpha_HS04(data_bx, data_by, data_bz) * nresol_x / L_X,\n",
    ")"
   ]
  },
  {
   "cell_type": "code",
   "execution_count": 107,
   "metadata": {},
   "outputs": [
    {
     "data": {
      "image/png": "[encoded data removed]",
      "text/plain": [
       "<Figure size 640x480 with 1 Axes>"
      ]
     },
     "metadata": {},
     "output_type": "display_data"
    }
   ],
   "source": [
    "fig = plt.figure()\n",
    "ax = fig.add_subplot(111)\n",
    "CS = ax.contour(\n",
    "    x_grid,\n",
    "    y_grid,\n",
    "    data2d.bz,\n",
    "    levels=np.array((-1500, -1100, -700, -300, -100, 0, 10, 20, 100, 200, 300, 400)),\n",
    "    colors=\"k\",\n",
    "    linewidths=0.5,\n",
    ")\n",
    "ax.set_xlabel(\"x\")\n",
    "ax.set_ylabel(\"y\")\n",
    "ax.clabel(CS, fontsize=8, inline=True)\n",
    "ax.set_box_aspect(1)\n",
    "ax.tick_params(direction=\"in\", length=2, width=0.5)\n",
    "plt.show()"
   ]
  },
  {
   "cell_type": "code",
   "execution_count": 7,
   "metadata": {},
   "outputs": [
    {
     "name": "stdout",
     "output_type": "stream",
     "text": [
      "0.386699330643024\n"
     ]
    }
   ],
   "source": [
    "alpha = alpha_HS04(data_bx, data_by, data_bz) * (nresol_x-1) / L_X\n",
    "\n",
    "length_scale_x = nresol_x * pixelsize_x\n",
    "length_scale_y = nresol_y * pixelsize_y\n",
    "\n",
    "length_scale_x_norm = length_scale_x\n",
    "length_scale_y_norm = length_scale_y\n",
    "\n",
    "kx_arr = np.arange(nf_max) * 2.0 * np.pi / length_scale_x_norm  # [0:nf_max]\n",
    "ky_arr = np.arange(nf_max) * 2.0 * np.pi / length_scale_y_norm  # [0:nf_max]\n",
    "one_arr = 0.0 * np.arange(nf_max) + 1.0\n",
    "\n",
    "ky_grid = np.outer(ky_arr, one_arr)  # [0:nf_max, 0:nf_max]\n",
    "kx_grid = np.outer(one_arr, kx_arr)  # [0:nf_max, 0:nf_max]\n",
    "\n",
    "# kx^2 + ky^2\n",
    "\n",
    "k2_arr = np.outer(ky_arr**2, one_arr) + np.outer(one_arr, kx_arr**2)\n",
    "k2_arr[0, 0] = (np.pi * 2.0 / length_scale_x_norm) ** 2 + (\n",
    "    np.pi * 2.0 / length_scale_y_norm\n",
    ") ** 2\n",
    "\n",
    "# Need k^2 > alpha^2/(1-2a) and k^2 > alpha^2\n",
    "\n",
    "limit = (k2_arr - alpha**2) / (2 * k2_arr)\n",
    "\n",
    "amax = limit.min()\n",
    "\n",
    "print(amax)"
   ]
  },
  {
   "cell_type": "code",
   "execution_count": 8,
   "metadata": {},
   "outputs": [
    {
     "name": "stdout",
     "output_type": "stream",
     "text": [
      "0.0062499999999999995\n"
     ]
    }
   ],
   "source": [
    "KAPPA_X = 0.02\n",
    "kappa = KAPPA_X/L_X\n",
    "print(kappa)"
   ]
  },
  {
   "cell_type": "code",
   "execution_count": 551,
   "metadata": {},
   "outputs": [
    {
     "data": {
      "text/plain": [
       "-0.9346760739572346"
      ]
     },
     "execution_count": 551,
     "metadata": {},
     "output_type": "execute_result"
    }
   ],
   "source": [
    "alpha"
   ]
  },
  {
   "cell_type": "markdown",
   "metadata": {},
   "source": [
    "# Meine eigene Low Lösung"
   ]
  },
  {
   "cell_type": "code",
   "execution_count": 517,
   "metadata": {},
   "outputs": [
    {
     "name": "stdout",
     "output_type": "stream",
     "text": [
      "<built-in method min of numpy.ndarray object at 0x17f7d3f30>\n"
     ]
    }
   ],
   "source": [
    "# a = amax / 5\n",
    "\n",
    "# data3d = mhsflex.fluxbalance.calculate_magfield(data2d, a, 1.0, alpha, z0, z0 * 0.1)\n",
    "\n",
    "kappa = 0.4\n",
    "a = 0.5\n",
    "alpha = -0.9346760739572346\n",
    "data3d = mhsflex.fluxbalance.calculate_magfield(data2d, a, 1.0, alpha, z0, kappa, asymptotic=False, tanh=False)"
   ]
  },
  {
   "cell_type": "code",
   "execution_count": 143,
   "metadata": {},
   "outputs": [
    {
     "data": {
      "image/png": "[encoded data removed]",
      "text/plain": [
       "<Figure size 640x480 with 1 Axes>"
      ]
     },
     "metadata": {},
     "output_type": "display_data"
    }
   ],
   "source": [
    "fig = plt.figure()\n",
    "ax = fig.add_subplot(111)\n",
    "CS = ax.contour(\n",
    "    x_grid,\n",
    "    y_grid,\n",
    "    data3d.field[:, :, 0, 2],\n",
    "    levels=np.array((-1500, -1100, -700, -300, -100, 0, 10, 20, 100, 200, 300, 400)),\n",
    "    colors=\"k\",\n",
    "    linewidths=0.5,\n",
    ")\n",
    "ax.set_xlabel(\"x\")\n",
    "ax.set_ylabel(\"y\")\n",
    "ax.clabel(CS, fontsize=8, inline=True)\n",
    "ax.set_box_aspect(1)\n",
    "ax.tick_params(direction=\"in\", length=2, width=0.5)\n",
    "plt.show()"
   ]
  },
  {
   "cell_type": "code",
   "execution_count": 290,
   "metadata": {},
   "outputs": [],
   "source": [
    "sinks = data3d.field[:, :, 0,2].copy()\n",
    "sources = data3d.field[:, :, 0,2].copy()\n",
    "\n",
    "maxmask = sources < sources.max() * 0.4\n",
    "sources[maxmask != 0] = 0\n",
    "\n",
    "minmask = sinks < sinks.min() * 0.4\n",
    "sinks[minmask == 0] = 0"
   ]
  },
  {
   "cell_type": "code",
   "execution_count": 573,
   "metadata": {},
   "outputs": [
    {
     "data": {
      "text/plain": [
       "[None, None, None, None, None, None]"
      ]
     },
     "execution_count": 573,
     "metadata": {},
     "output_type": "execute_result"
    },
    {
     "data": {
      "image/png": "[encoded data removed]",
      "text/plain": [
       "<Figure size 640x480 with 1 Axes>"
      ]
     },
     "metadata": {},
     "output_type": "display_data"
    }
   ],
   "source": [
    "x_grid, y_grid = np.meshgrid(x_arr, y_arr)\n",
    "\n",
    "fig = plt.figure()\n",
    "ax = fig.figure.add_subplot(111, projection=\"3d\")\n",
    "ax.contourf(\n",
    "    x_grid,\n",
    "    y_grid,\n",
    "    data3d.field[:, :, 0,2],\n",
    "    1000,\n",
    "    # norm=norm,\n",
    "    cmap=cmap,\n",
    "    offset=0.0,\n",
    ")\n",
    "ax.set_xlabel(\"x\")\n",
    "ax.set_ylabel(\"y\")\n",
    "ax.set_zlabel(\"z\")  # type: ignore\n",
    "ax.grid(False)\n",
    "ax.set_zlim(zmin, zmax)  # type: ignore\n",
    "ax.set_xlim(xmin, xmax)\n",
    "ax.set_ylim(ymin, ymax)\n",
    "ax.set_box_aspect((xmax, ymax, zmax))  # type : ignore # (xmax, ymax, 2 * data.z0)\n",
    "\n",
    "ax.xaxis._axinfo[\"tick\"][\"inward_factor\"] = 0.2  # type : ignore\n",
    "ax.xaxis._axinfo[\"tick\"][\"outward_factor\"] = 0  # type : ignore\n",
    "ax.yaxis._axinfo[\"tick\"][\"inward_factor\"] = 0.2  # type : ignore\n",
    "ax.yaxis._axinfo[\"tick\"][\"outward_factor\"] = 0  # type : ignore\n",
    "ax.zaxis._axinfo[\"tick\"][\"inward_factor\"] = 0.2  # type : ignore\n",
    "ax.zaxis._axinfo[\"tick\"][\"outward_factor\"] = 0  # type : ignore\n",
    "\n",
    "ax.xaxis.pane.fill = False  # type : ignore\n",
    "ax.yaxis.pane.fill = False  # type : ignore\n",
    "ax.zaxis.pane.fill = False  # type : ignore\n",
    "\n",
    "[t.set_va(\"center\") for t in ax.get_yticklabels()]  # type : ignore\n",
    "[t.set_ha(\"center\") for t in ax.get_yticklabels()]  # type : ignore\n",
    "\n",
    "[t.set_va(\"top\") for t in ax.get_xticklabels()]  # type : ignore\n",
    "[t.set_ha(\"center\") for t in ax.get_xticklabels()]  # type : ignore\n",
    "\n",
    "[t.set_va(\"center\") for t in ax.get_zticklabels()]  # type : ignore\n",
    "[t.set_ha(\"center\") for t in ax.get_zticklabels()]  # type : ignore\n",
    "\n",
    "h1 = 1.0 / 100.0  # Initial step length for fieldline3D\n",
    "eps = 1.0e-8\n",
    "# Tolerance to which we require point on field line known for fieldline3D\n",
    "hmin = 0.0  # Minimum step length for fieldline3D\n",
    "hmax = 1.0  # Maximum step length for fieldline3D\n",
    "\n",
    "# Limit fieldline plot to original data size (rather than Seehafer size)\n",
    "boxedges = np.zeros((2, 3))\n",
    "\n",
    "# # Y boundaries must come first, X second due to switched order explained above\n",
    "boxedges[0, 0] = ymin\n",
    "boxedges[1, 0] = ymax\n",
    "boxedges[0, 1] = xmin\n",
    "boxedges[1, 1] = xmax\n",
    "boxedges[0, 2] = zmin\n",
    "boxedges[1, 2] = zmax\n",
    "\n",
    "for ix in range(0, data3d.field.shape[1], int(data3d.field.shape[1] / 20)):\n",
    "        for iy in range(0, data3d.field.shape[0], int(data3d.field.shape[0] / 20)):\n",
    "            if sources[iy, ix] != 0 : #or sinks[iy, ix] != 0:\n",
    "\n",
    "                x_start = ix / (nresol_x / xmax)\n",
    "                y_start = iy / (nresol_y / ymax)\n",
    "\n",
    "# x_0 = 0.0\n",
    "# y_0 = 0.0\n",
    "# dx = xmax / 10\n",
    "# dy = ymax / 10\n",
    "\n",
    "# nlinesmaxx = int(np.floor(xmax / dx))\n",
    "# nlinesmaxy = int(np.floor(ymax / dy))\n",
    "\n",
    "# for ilinesx in range(0, nlinesmaxx):\n",
    "#         for ilinesy in range(0, nlinesmaxy):\n",
    "#             x_start = x_0 + dx * ilinesx\n",
    "#             y_start = y_0 + dy * ilinesy\n",
    "            \n",
    "                if data3d.field[int(y_start), int(x_start), 0,2] < 0.0:\n",
    "                    h1 = -h1\n",
    "\n",
    "                ystart = [y_start, x_start, 0.0]\n",
    "\n",
    "                fieldline = fieldline3d(\n",
    "                    ystart,\n",
    "                    data3d.field,\n",
    "                    y_arr,\n",
    "                    x_arr,\n",
    "                    data3d.z,\n",
    "                    h1,\n",
    "                    hmin,\n",
    "                    hmax,\n",
    "                    eps,\n",
    "                    oneway=False,\n",
    "                    boxedge=boxedges,\n",
    "                    gridcoord=False,\n",
    "                    coordsystem=\"cartesian\",\n",
    "                )  # , periodicity='xy')\n",
    "\n",
    "                if np.isclose(fieldline[:, 2][-1], 0.0) and np.isclose(\n",
    "                    fieldline[:, 2][0], 0.0\n",
    "                ):\n",
    "                    # Need to give row direction first/ Y, then column direction/ X\n",
    "                    ax.plot(\n",
    "                        fieldline[:, 1],\n",
    "                        fieldline[:, 0],\n",
    "                        fieldline[:, 2],\n",
    "                        color=c2,\n",
    "                        linewidth=0.5,\n",
    "                        zorder=4000,\n",
    "                    )\n",
    "                else:\n",
    "                    ax.plot(\n",
    "                        fieldline[:, 1],\n",
    "                        fieldline[:, 0],\n",
    "                        fieldline[:, 2],\n",
    "                        color=c2,\n",
    "                        linewidth=0.5,\n",
    "                        zorder=4000,\n",
    "                    )  # 2 * data.z0  # FOR ZOOM\n",
    "\n",
    "ax.view_init(0, -90)  # type: ignore\n",
    "\n",
    "ax.set_xlabel(\"x\", labelpad=10)\n",
    "ax.set_ylabel(\"y\", labelpad=10)\n",
    "\n",
    "ax.set_xticks(np.arange(0, xmax + 1.0 * 10**-8, xmax / 5))\n",
    "ax.set_yticks(np.arange(0, ymax + 1.0 * 10**-8, ymax / 5))\n",
    "\n",
    "\n",
    "[t.set_va(\"center\") for t in ax.get_yticklabels()]  # type: ignore\n",
    "[t.set_ha(\"center\") for t in ax.get_yticklabels()]  # type: ignore\n",
    "\n",
    "[t.set_va(\"center\") for t in ax.get_xticklabels()]  # type: ignore\n",
    "[t.set_ha(\"center\") for t in ax.get_xticklabels()]  # type: ignore"
   ]
  },
  {
   "cell_type": "markdown",
   "metadata": {},
   "source": [
    "# N+W (2019) Asymptotische Lösung"
   ]
  },
  {
   "cell_type": "code",
   "execution_count": 9,
   "metadata": {},
   "outputs": [
    {
     "name": "stdout",
     "output_type": "stream",
     "text": [
      "0.2246644820586108 1.225540933544524\n"
     ]
    }
   ],
   "source": [
    "from mhsflex.switch import f, f_low\n",
    "\n",
    "kappa = 0.4\n",
    "a = 0.5\n",
    "z0 = 2.0\n",
    "\n",
    "f_exp = f_low(z_arr, a, kappa)\n",
    "\n",
    "deltaz = 0.2\n",
    "\n",
    "b = (np.exp(-kappa * z0) - 1) / (np.exp(-kappa * z0) * np.tanh(-z0 / deltaz))\n",
    "aN = a / (1 - b * np.tanh(-z0 / deltaz))\n",
    "\n",
    "f_tanh = f(z_arr, z0, deltaz, aN, b)\n",
    "\n",
    "print(aN, b)"
   ]
  },
  {
   "cell_type": "code",
   "execution_count": 591,
   "metadata": {},
   "outputs": [
    {
     "data": {
      "image/png": "[encoded data removed]",
      "text/plain": [
       "<Figure size 640x480 with 1 Axes>"
      ]
     },
     "metadata": {},
     "output_type": "display_data"
    }
   ],
   "source": [
    "fig, ax1 = plt.subplots()\n",
    "\n",
    "ax1.plot(\n",
    "    z_arr,\n",
    "    f_exp,\n",
    "    label=r\"$f_L$\",\n",
    "    linewidth=0.5,\n",
    "    color=\"black\",\n",
    "    linestyle=\"solid\",\n",
    ")\n",
    "ax1.plot(\n",
    "    z_arr,\n",
    "    f_tanh,\n",
    "    label=r\"$f_{N+W}$\",\n",
    "    linewidth=0.5,\n",
    "    color=c2,\n",
    "    linestyle=\"solid\",\n",
    ")\n",
    "plt.legend(frameon=False)\n",
    "# ax1.set_xlabel(\"z\")\n",
    "ax1.tick_params(direction=\"in\", length=2, width=0.5)\n",
    "# ax2.tick_params(direction=\"in\", length=2, width=0.5)\n",
    "plt.show()\n"
   ]
  },
  {
   "cell_type": "code",
   "execution_count": 10,
   "metadata": {},
   "outputs": [
    {
     "name": "stdout",
     "output_type": "stream",
     "text": [
      "<built-in method min of numpy.ndarray object at 0x15b2e8270>\n"
     ]
    }
   ],
   "source": [
    "alpha = -0.9346760739572346\n",
    "data3d = mhsflex.fluxbalance.calculate_magfield(data2d, aN, b, alpha, z0, deltaz)"
   ]
  },
  {
   "cell_type": "code",
   "execution_count": 592,
   "metadata": {},
   "outputs": [
    {
     "data": {
      "text/plain": [
       "[None, None, None, None, None, None]"
      ]
     },
     "execution_count": 592,
     "metadata": {},
     "output_type": "execute_result"
    },
    {
     "data": {
      "image/png": "[encoded data removed]",
      "text/plain": [
       "<Figure size 640x480 with 1 Axes>"
      ]
     },
     "metadata": {},
     "output_type": "display_data"
    }
   ],
   "source": [
    "x_grid, y_grid = np.meshgrid(x_arr, y_arr)\n",
    "\n",
    "fig = plt.figure()\n",
    "ax = fig.figure.add_subplot(111, projection=\"3d\")\n",
    "ax.contourf(\n",
    "    x_grid,\n",
    "    y_grid,\n",
    "    data3d.field[:, :, 0,2],\n",
    "    1000,\n",
    "    # norm=norm,\n",
    "    cmap=cmap,\n",
    "    offset=0.0,\n",
    ")\n",
    "ax.set_xlabel(\"x\")\n",
    "ax.set_ylabel(\"y\")\n",
    "ax.set_zlabel(\"z\")  # type: ignore\n",
    "ax.grid(False)\n",
    "ax.set_zlim(zmin, zmax)  # type: ignore\n",
    "ax.set_xlim(xmin, xmax)\n",
    "ax.set_ylim(ymin, ymax)\n",
    "ax.set_box_aspect((xmax, ymax, zmax))  # type : ignore # (xmax, ymax, 2 * data.z0)\n",
    "\n",
    "ax.xaxis._axinfo[\"tick\"][\"inward_factor\"] = 0.2  # type : ignore\n",
    "ax.xaxis._axinfo[\"tick\"][\"outward_factor\"] = 0  # type : ignore\n",
    "ax.yaxis._axinfo[\"tick\"][\"inward_factor\"] = 0.2  # type : ignore\n",
    "ax.yaxis._axinfo[\"tick\"][\"outward_factor\"] = 0  # type : ignore\n",
    "ax.zaxis._axinfo[\"tick\"][\"inward_factor\"] = 0.2  # type : ignore\n",
    "ax.zaxis._axinfo[\"tick\"][\"outward_factor\"] = 0  # type : ignore\n",
    "\n",
    "ax.xaxis.pane.fill = False  # type : ignore\n",
    "ax.yaxis.pane.fill = False  # type : ignore\n",
    "ax.zaxis.pane.fill = False  # type : ignore\n",
    "\n",
    "[t.set_va(\"center\") for t in ax.get_yticklabels()]  # type : ignore\n",
    "[t.set_ha(\"center\") for t in ax.get_yticklabels()]  # type : ignore\n",
    "\n",
    "[t.set_va(\"top\") for t in ax.get_xticklabels()]  # type : ignore\n",
    "[t.set_ha(\"center\") for t in ax.get_xticklabels()]  # type : ignore\n",
    "\n",
    "[t.set_va(\"center\") for t in ax.get_zticklabels()]  # type : ignore\n",
    "[t.set_ha(\"center\") for t in ax.get_zticklabels()]  # type : ignore\n",
    "\n",
    "h1 = 1.0 / 100.0  # Initial step length for fieldline3D\n",
    "eps = 1.0e-8\n",
    "# Tolerance to which we require point on field line known for fieldline3D\n",
    "hmin = 0.0  # Minimum step length for fieldline3D\n",
    "hmax = 1.0  # Maximum step length for fieldline3D\n",
    "\n",
    "# Limit fieldline plot to original data size (rather than Seehafer size)\n",
    "boxedges = np.zeros((2, 3))\n",
    "\n",
    "# # Y boundaries must come first, X second due to switched order explained above\n",
    "boxedges[0, 0] = ymin\n",
    "boxedges[1, 0] = ymax\n",
    "boxedges[0, 1] = xmin\n",
    "boxedges[1, 1] = xmax\n",
    "boxedges[0, 2] = zmin\n",
    "boxedges[1, 2] = zmax\n",
    "\n",
    "for ix in range(0, data3d.field.shape[1], int(data3d.field.shape[1] / 20)):\n",
    "        for iy in range(0, data3d.field.shape[0], int(data3d.field.shape[0] / 20)):\n",
    "            \n",
    "            if sources[iy, ix] != 0: # or sinks[iy, ix] != 0:\n",
    "\n",
    "                x_start = ix / (nresol_x / xmax)\n",
    "                y_start = iy / (nresol_y / ymax)\n",
    "\n",
    "# x_0 = 0.0\n",
    "# y_0 = 0.0\n",
    "# dx = xmax / 10\n",
    "# dy = ymax / 10\n",
    "\n",
    "# nlinesmaxx = int(np.floor(xmax / dx))\n",
    "# nlinesmaxy = int(np.floor(ymax / dy))\n",
    "\n",
    "# for ilinesx in range(0, nlinesmaxx):\n",
    "#         for ilinesy in range(0, nlinesmaxy):\n",
    "#             x_start = x_0 + dx * ilinesx\n",
    "#             y_start = y_0 + dy * ilinesy\n",
    "            \n",
    "                if data3d.field[int(y_start), int(x_start), 0,2] < 0.0:\n",
    "                    h1 = -h1\n",
    "\n",
    "                ystart = [y_start, x_start, 0.0]\n",
    "\n",
    "                fieldline = fieldline3d(\n",
    "                    ystart,\n",
    "                    data3d.field,\n",
    "                    y_arr,\n",
    "                    x_arr,\n",
    "                    data3d.z,\n",
    "                    h1,\n",
    "                    hmin,\n",
    "                    hmax,\n",
    "                    eps,\n",
    "                    oneway=False,\n",
    "                    boxedge=boxedges,\n",
    "                    gridcoord=False,\n",
    "                    coordsystem=\"cartesian\",\n",
    "                )  # , periodicity='xy')\n",
    "\n",
    "                ax.plot(\n",
    "                    fieldline[:, 1],\n",
    "                    fieldline[:, 0],\n",
    "                    fieldline[:, 2],\n",
    "                    color=c2,\n",
    "                    linewidth=0.5,\n",
    "                    zorder=4000,\n",
    "                )\n",
    "\n",
    "ax.view_init(0, -90)  # type: ignore\n",
    "\n",
    "ax.set_xlabel(\"x\", labelpad=10)\n",
    "ax.set_ylabel(\"y\", labelpad=10)\n",
    "\n",
    "ax.set_xticks(np.arange(0, xmax + 1.0 * 10**-8, xmax / 5))\n",
    "ax.set_yticks(np.arange(0, ymax + 1.0 * 10**-8, ymax / 5))\n",
    "\n",
    "\n",
    "[t.set_va(\"center\") for t in ax.get_yticklabels()]  # type: ignore\n",
    "[t.set_ha(\"center\") for t in ax.get_yticklabels()]  # type: ignore\n",
    "\n",
    "[t.set_va(\"center\") for t in ax.get_xticklabels()]  # type: ignore\n",
    "[t.set_ha(\"center\") for t in ax.get_xticklabels()]  # type: ignore"
   ]
  },
  {
   "cell_type": "markdown",
   "metadata": {},
   "source": [
    "# Plot ISSI Semi-analytical Low and Lou BC with Low extrapolation without using Seehafer"
   ]
  },
  {
   "cell_type": "code",
   "execution_count": 15,
   "metadata": {},
   "outputs": [
    {
     "name": "stdout",
     "output_type": "stream",
     "text": [
      "--------------------------------------------------\n",
      "Date: Tue Sep  6 15:11:11 2022\n",
      "User: xszhu\n",
      "Host: HR30\n",
      "--------------------------------------------------\n",
      "Format: 9\n",
      "Architecture: x86_64\n",
      "Operating System: linux\n",
      "IDL Version: 7.1.1\n",
      "--------------------------------------------------\n",
      "Successfully read 12 records of which:\n",
      " - 1 are of type NOTICE\n",
      " - 1 are of type TIMESTAMP\n",
      " - 8 are of type VARIABLE\n",
      " - 1 are of type VERSION\n",
      "--------------------------------------------------\n",
      "Available variables:\n",
      " - b3dx [<class 'numpy.ndarray'>]\n",
      " - b3dy [<class 'numpy.ndarray'>]\n",
      " - b3dz [<class 'numpy.ndarray'>]\n",
      " - p3d [<class 'numpy.ndarray'>]\n",
      " - d3d [<class 'numpy.ndarray'>]\n",
      " - info_unit [<class 'bytes'>]\n",
      " - info_pixel [<class 'bytes'>]\n",
      " - info_array [<class 'bytes'>]\n",
      "--------------------------------------------------\n"
     ]
    }
   ],
   "source": [
    "path3dref = \"/Users/lilli/Desktop/mflex/data/Analytic_3D_data.sav\"\n",
    "data3dref = readsav(path3dref, python_dict=True, verbose=True)\n",
    "\n",
    "bx_ref = data3dref[\"b3dx\"]\n",
    "by_ref = data3dref[\"b3dy\"]\n",
    "bz_ref = data3dref[\"b3dz\"]\n",
    "\n",
    "presref = data3dref[\"p3d\"] * 10**-1\n",
    "denref = data3dref[\"d3d\"] * 10**3\n",
    "\n",
    "issi_bx = np.zeros((nresol_y, nresol_x, nresol_z))\n",
    "issi_by = np.zeros_like(issi_bx)\n",
    "issi_bz = np.zeros_like(issi_bx)\n",
    "\n",
    "for i in range(0, nresol_y):\n",
    "    for j in range(0, nresol_x):\n",
    "        for k in range(0, nresol_z):\n",
    "            issi_bx[i, j, k] = bx_ref[k, i, j]\n",
    "            issi_by[i, j, k] = by_ref[k, i, j]\n",
    "            issi_bz[i, j, k] = bz_ref[k, i, j]\n",
    "\n",
    "B_ref = np.zeros((nresol_y, nresol_x, nresol_z, 3))\n",
    "\n",
    "B_ref[:, :, :, 0] = issi_by[:,:,:]\n",
    "B_ref[:, :, :, 1] = issi_bx[:,:,:]\n",
    "B_ref[:, :, :, 2] = issi_bz[:,:,:]"
   ]
  },
  {
   "cell_type": "code",
   "execution_count": 571,
   "metadata": {},
   "outputs": [
    {
     "data": {
      "text/plain": [
       "[None, None, None, None, None, None]"
      ]
     },
     "execution_count": 571,
     "metadata": {},
     "output_type": "execute_result"
    },
    {
     "data": {
      "image/png": "[encoded data removed]",
      "text/plain": [
       "<Figure size 640x480 with 1 Axes>"
      ]
     },
     "metadata": {},
     "output_type": "display_data"
    }
   ],
   "source": [
    "fig = plt.figure()\n",
    "ax = fig.figure.add_subplot(111, projection=\"3d\")\n",
    "ax.contourf(\n",
    "    x_grid,\n",
    "    y_grid,\n",
    "    B_ref[:, :, 0,2],\n",
    "    1000,\n",
    "    # norm=norm,\n",
    "    cmap=cmap,\n",
    "    offset=0.0,\n",
    ")\n",
    "ax.set_xlabel(\"x\")\n",
    "ax.set_ylabel(\"y\")\n",
    "ax.set_zlabel(\"z\")  # type: ignore\n",
    "ax.grid(False)\n",
    "ax.set_zlim(zmin, zmax)  # type: ignore\n",
    "ax.set_xlim(xmin, xmax)\n",
    "ax.set_ylim(ymin, ymax)\n",
    "ax.set_box_aspect((xmax, ymax, zmax))  # type : ignore # (xmax, ymax, 2 * data.z0)\n",
    "\n",
    "ax.xaxis._axinfo[\"tick\"][\"inward_factor\"] = 0.2  # type : ignore\n",
    "ax.xaxis._axinfo[\"tick\"][\"outward_factor\"] = 0  # type : ignore\n",
    "ax.yaxis._axinfo[\"tick\"][\"inward_factor\"] = 0.2  # type : ignore\n",
    "ax.yaxis._axinfo[\"tick\"][\"outward_factor\"] = 0  # type : ignore\n",
    "ax.zaxis._axinfo[\"tick\"][\"inward_factor\"] = 0.2  # type : ignore\n",
    "ax.zaxis._axinfo[\"tick\"][\"outward_factor\"] = 0  # type : ignore\n",
    "\n",
    "ax.xaxis.pane.fill = False  # type : ignore\n",
    "ax.yaxis.pane.fill = False  # type : ignore\n",
    "ax.zaxis.pane.fill = False  # type : ignore\n",
    "\n",
    "[t.set_va(\"center\") for t in ax.get_yticklabels()]  # type : ignore\n",
    "[t.set_ha(\"center\") for t in ax.get_yticklabels()]  # type : ignore\n",
    "\n",
    "[t.set_va(\"top\") for t in ax.get_xticklabels()]  # type : ignore\n",
    "[t.set_ha(\"center\") for t in ax.get_xticklabels()]  # type : ignore\n",
    "\n",
    "[t.set_va(\"center\") for t in ax.get_zticklabels()]  # type : ignore\n",
    "[t.set_ha(\"center\") for t in ax.get_zticklabels()]  # type : ignore\n",
    "\n",
    "h1 = 1.0 / 100.0  # Initial step length for fieldline3D\n",
    "eps = 1.0e-8\n",
    "# Tolerance to which we require point on field line known for fieldline3D\n",
    "hmin = 0.0  # Minimum step length for fieldline3D\n",
    "hmax = 1.0  # Maximum step length for fieldline3D\n",
    "\n",
    "# Limit fieldline plot to original data size (rather than Seehafer size)\n",
    "boxedges = np.zeros((2, 3))\n",
    "\n",
    "# # Y boundaries must come first, X second due to switched order explained above\n",
    "boxedges[0, 0] = ymin\n",
    "boxedges[1, 0] = ymax\n",
    "boxedges[0, 1] = xmin\n",
    "boxedges[1, 1] = xmax\n",
    "boxedges[0, 2] = zmin\n",
    "boxedges[1, 2] = zmax\n",
    "\n",
    "for ix in range(0, B_ref.shape[1], int(B_ref.shape[1] / 20)):\n",
    "        for iy in range(0, B_ref.shape[0], int(B_ref.shape[0] / 20)):\n",
    "            if sources[iy, ix] != 0: # or sinks[iy, ix] != 0:\n",
    "\n",
    "                x_start = ix / (nresol_x / xmax)\n",
    "                y_start = iy / (nresol_y / ymax)\n",
    "\n",
    "# x_0 = 0.0\n",
    "# y_0 = 0.0\n",
    "# dx = xmax / 10\n",
    "# dy = ymax / 10\n",
    "\n",
    "# nlinesmaxx = int(np.floor(xmax / dx))\n",
    "# nlinesmaxy = int(np.floor(ymax / dy))\n",
    "\n",
    "# for ilinesx in range(0, nlinesmaxx):\n",
    "#         for ilinesy in range(0, nlinesmaxy):\n",
    "            \n",
    "#             x_start = x_0 + dx * ilinesx\n",
    "#             y_start = y_0 + dy * ilinesy\n",
    "                if B_ref[int(y_start), int(x_start), 0,2] < 0.0:\n",
    "                    h1 = -h1\n",
    "\n",
    "                ystart = [y_start, x_start, 0.0]\n",
    "\n",
    "                fieldline = fieldline3d(\n",
    "                    ystart,\n",
    "                    B_ref,\n",
    "                    y_arr,\n",
    "                    x_arr,\n",
    "                    data3d.z,\n",
    "                    h1,\n",
    "                    hmin,\n",
    "                    hmax,\n",
    "                    eps,\n",
    "                    oneway=False,\n",
    "                    boxedge=boxedges,\n",
    "                    gridcoord=False,\n",
    "                    coordsystem=\"cartesian\",\n",
    "                )  # , periodicity='xy')\n",
    "\n",
    "                if np.isclose(fieldline[:, 2][-1], 0.0) and np.isclose(\n",
    "                    fieldline[:, 2][0], 0.0\n",
    "                ):\n",
    "                    # Need to give row direction first/ Y, then column direction/ X\n",
    "                    ax.plot(\n",
    "                        fieldline[:, 1],\n",
    "                        fieldline[:, 0],\n",
    "                        fieldline[:, 2],\n",
    "                        color=c2,\n",
    "                        linewidth=0.5,\n",
    "                        zorder=4000,\n",
    "                    )\n",
    "                else:\n",
    "                    ax.plot(\n",
    "                        fieldline[:, 1],\n",
    "                        fieldline[:, 0],\n",
    "                        fieldline[:, 2],\n",
    "                        color=c2,\n",
    "                        linewidth=0.5,\n",
    "                        zorder=4000,\n",
    "                    )  # 2 * data.z0  # FOR ZOOM\n",
    "\n",
    "ax.view_init(0, -90)  # type: ignore\n",
    "\n",
    "ax.set_xlabel(\"x\", labelpad=10)\n",
    "ax.set_ylabel(\"y\", labelpad=10)\n",
    "\n",
    "ax.set_xticks(np.arange(0, xmax + 1.0 * 10**-8, xmax/ 5))\n",
    "ax.set_yticks(np.arange(0, ymax + 1.0 * 10**-8, ymax / 5))\n",
    "\n",
    "[t.set_va(\"center\") for t in ax.get_yticklabels()]  # type: ignore\n",
    "[t.set_ha(\"center\") for t in ax.get_yticklabels()]  # type: ignore\n",
    "\n",
    "[t.set_va(\"center\") for t in ax.get_xticklabels()]  # type: ignore\n",
    "[t.set_ha(\"center\") for t in ax.get_xticklabels()]  # type: ignore"
   ]
  },
  {
   "cell_type": "code",
   "execution_count": 442,
   "metadata": {},
   "outputs": [
    {
     "name": "stdout",
     "output_type": "stream",
     "text": [
      "(42, 30)\n",
      "445.0053674787617\n",
      "(43, 31)\n",
      "446.368896484375\n",
      "(36, 37)\n"
     ]
    }
   ],
   "source": [
    "print(np.unravel_index(data3d.field[:, :, 0,2].argmax(), B_ref[:, :, 0, 2].shape))\n",
    "print(data3d.field[:, :, 0,2].max())\n",
    "\n",
    "print(np.unravel_index(B_ref[:, :, 0,2].argmax(), B_ref[:, :, 0, 2].shape))\n",
    "print(B_ref[:, :, 0,2].max())\n",
    "\n",
    "print(np.unravel_index(abs(B_ref[:, :, 0,2]-data3d.field[:, :, 0,2]).argmax(), B_ref[:, :, 0, 2].shape))"
   ]
  },
  {
   "cell_type": "code",
   "execution_count": 449,
   "metadata": {},
   "outputs": [
    {
     "data": {
      "text/plain": [
       "0.17935199123134712"
      ]
     },
     "execution_count": 449,
     "metadata": {},
     "output_type": "execute_result"
    }
   ],
   "source": [
    "abs(B_ref[:, :, 0,2]-data3d.field[:, :, 0,2]).max() / abs(data3d.field[36, 37, 0,2])"
   ]
  },
  {
   "cell_type": "code",
   "execution_count": 451,
   "metadata": {},
   "outputs": [
    {
     "data": {
      "text/plain": [
       "<matplotlib.collections.PathCollection at 0x30ab6a360>"
      ]
     },
     "execution_count": 451,
     "metadata": {},
     "output_type": "execute_result"
    },
    {
     "data": {
      "image/png": "[encoded data removed]",
      "text/plain": [
       "<Figure size 640x480 with 1 Axes>"
      ]
     },
     "metadata": {},
     "output_type": "display_data"
    }
   ],
   "source": [
    "plt.imshow(data3d.bz)\n",
    "plt.scatter(30, 42)\n",
    "plt.scatter(31, 43)\n",
    "plt.scatter(37, 36)\n"
   ]
  },
  {
   "cell_type": "markdown",
   "metadata": {},
   "source": [
    "# Verlgeich der Felder sollte hier folgen, aber Code noch nicht angepasst, nur rein kopiert"
   ]
  },
  {
   "cell_type": "code",
   "execution_count": null,
   "metadata": {},
   "outputs": [],
   "source": [
    "from mhsflex.metrics import VecCorr, CauSchw, NormErr, MeanErr, MagEnergy\n",
    "\n",
    "print(VecCorr(B_ref, B_rec))\n",
    "print(CauSchw(B_ref, B_rec))\n",
    "print(NormErr(B_ref, B_rec))\n",
    "print(MeanErr(B_ref, B_rec))\n",
    "print(MagEnergy(B_ref, B_rec))\n",
    "\n",
    "print(VecCorr(B_ref, B_ref))\n",
    "print(CauSchw(B_ref, B_ref))\n",
    "print(NormErr(B_ref, B_ref))\n",
    "print(MeanErr(B_ref, B_ref))\n",
    "print(MagEnergy(B_ref, B_ref))"
   ]
  },
  {
   "cell_type": "code",
   "execution_count": 13,
   "metadata": {},
   "outputs": [],
   "source": [
    "temps = np.array([6000.0, 5500.0, 10000.0])\n",
    "heights = np.array([0.0, z0 / 4, z0])\n",
    "\n",
    "from mhsflex.field3d import (\n",
    "    bpressure_linear,\n",
    "    bdensity_linear,\n",
    "    btemp_linear,\n",
    "    fpressure_linear,\n",
    "    fdensity_linear,\n",
    ")\n",
    "\n",
    "backtemp = btemp_linear(data3d, heights, temps)\n",
    "backpres = bpressure_linear(data3d, heights, temps)\n",
    "backden = bdensity_linear(data3d, heights, temps)"
   ]
  },
  {
   "cell_type": "code",
   "execution_count": 11,
   "metadata": {},
   "outputs": [],
   "source": [
    "T_PHOTOSPHERE = 6000.0  # Photospheric temperature\n",
    "T_CORONA = 2.0 * 10.0**6  # Coronal temperature\n",
    "\n",
    "G_SOLAR = 272.2  # m/s^2\n",
    "KB = 1.380649 * 10**-23  # Boltzmann constant in Joule/ Kelvin = kg m^2/(Ks^2)\n",
    "MBAR = 1.67262 * 10**-27  # mean molecular weight (proton mass)\n",
    "RHO0 = 2.7 * 10**-4  # plasma density at z = 0 in kg/(m^3)\n",
    "\n",
    "RHO0 = 9.0 * 10**-4\n",
    "\n",
    "P0 = T_PHOTOSPHERE * KB * RHO0 / MBAR  # plasma pressure in kg/(s^2 m)\n",
    "MU0 = 1.25663706 * 10**-6  # permeability of free space in mkg/(s^2A^2)\n",
    "\n",
    "L = 10**6  # Lengthscale Mm\n",
    "T0 = 10000.0\n",
    "H = KB * T0 / (MBAR * G_SOLAR) / L\n",
    "B0 = data2d.bz.max()  # Gauss background magnetic field strength in 10^-4 kg/(s^2A) = 10^-4 T\n",
    "PB0 = (B0 * 10**-4) ** 2 / (2 * MU0)  # magnetic pressure b0**2 / 2mu0 in kg/(s^2m)\n",
    "BETA0 = P0 / PB0  # Plasma Beta, ration plasma to magnetic pressure"
   ]
  },
  {
   "cell_type": "code",
   "execution_count": 19,
   "metadata": {},
   "outputs": [],
   "source": [
    "maxcoord = np.unravel_index(\n",
    "    np.argmax(data3d.bz, axis=None),\n",
    "    data3d.bz.shape,\n",
    ")\n",
    "iy = int(maxcoord[0])\n",
    "ix = int(maxcoord[1])\n",
    "\n",
    "fpres = fpressure_linear(data3d, heights, temps)\n",
    "fden = fdensity_linear(data3d, heights, temps)"
   ]
  },
  {
   "cell_type": "code",
   "execution_count": 18,
   "metadata": {},
   "outputs": [
    {
     "ename": "IndexError",
     "evalue": "index 0 is out of bounds for axis 0 with size 0",
     "output_type": "error",
     "traceback": [
      "\u001b[0;31m---------------------------------------------------------------------------\u001b[0m",
      "\u001b[0;31mIndexError\u001b[0m                                Traceback (most recent call last)",
      "Cell \u001b[0;32mIn[18], line 3\u001b[0m\n\u001b[1;32m      1\u001b[0m plt\u001b[38;5;241m.\u001b[39mplot(\n\u001b[1;32m      2\u001b[0m     z_arr,\n\u001b[0;32m----> 3\u001b[0m     \u001b[43mfpres\u001b[49m\u001b[43m[\u001b[49m\u001b[38;5;241;43m0\u001b[39;49m\u001b[43m,\u001b[49m\u001b[43m \u001b[49m\u001b[38;5;241;43m0\u001b[39;49m\u001b[43m,\u001b[49m\u001b[43m \u001b[49m\u001b[43m:\u001b[49m\u001b[43m]\u001b[49m,\n\u001b[1;32m      4\u001b[0m     linewidth\u001b[38;5;241m=\u001b[39m\u001b[38;5;241m0.3\u001b[39m,\n\u001b[1;32m      5\u001b[0m     color\u001b[38;5;241m=\u001b[39mc4,\n\u001b[1;32m      6\u001b[0m     label\u001b[38;5;241m=\u001b[39m\u001b[38;5;124m\"\u001b[39m\u001b[38;5;124mRecreated pressure\u001b[39m\u001b[38;5;124m\"\u001b[39m,\n\u001b[1;32m      7\u001b[0m )\n\u001b[1;32m      8\u001b[0m plt\u001b[38;5;241m.\u001b[39mplot(\n\u001b[1;32m      9\u001b[0m     z_arr,\n\u001b[1;32m     10\u001b[0m     presref[:, \u001b[38;5;241m0\u001b[39m, \u001b[38;5;241m0\u001b[39m],\n\u001b[0;32m   (...)\u001b[0m\n\u001b[1;32m     14\u001b[0m     label\u001b[38;5;241m=\u001b[39m\u001b[38;5;124m\"\u001b[39m\u001b[38;5;124mReference pressure\u001b[39m\u001b[38;5;124m\"\u001b[39m,\n\u001b[1;32m     15\u001b[0m )\n\u001b[1;32m     16\u001b[0m \u001b[38;5;28;01mfor\u001b[39;00m ix \u001b[38;5;129;01min\u001b[39;00m \u001b[38;5;28mrange\u001b[39m(\u001b[38;5;241m1\u001b[39m, nresol_x, \u001b[38;5;241m5\u001b[39m):\n",
      "\u001b[0;31mIndexError\u001b[0m: index 0 is out of bounds for axis 0 with size 0"
     ]
    }
   ],
   "source": [
    "plt.plot(\n",
    "    z_arr,\n",
    "    fpres[0, 0, :],\n",
    "    linewidth=0.3,\n",
    "    color=c4,\n",
    "    label=\"Recreated pressure\",\n",
    ")\n",
    "plt.plot(\n",
    "    z_arr,\n",
    "    presref[:, 0, 0],\n",
    "    linewidth=0.3,\n",
    "    color=c2,\n",
    "    # linestyle=\"dashed\",\n",
    "    label=\"Reference pressure\",\n",
    ")\n",
    "for ix in range(1, nresol_x, 5):\n",
    "    for iy in range(4, nresol_y, 5):\n",
    "        # for ix in range(nresol_x):\n",
    "        #     for iy in range(nresol_y):\n",
    "        plt.plot(\n",
    "            z_arr,\n",
    "            fpres[iy, ix, :],\n",
    "            linewidth=0.3,\n",
    "            color=c4,  # alpha=0.04\n",
    "        )\n",
    "        plt.plot(\n",
    "            z_arr,\n",
    "            presref[:, iy, ix],\n",
    "            linewidth=0.3,\n",
    "            color=c2,\n",
    "            # linestyle=\"dashed\",\n",
    "            # alpha=0.04,\n",
    "        )\n",
    "plt.ylabel(\"$kg/(s^2 m)$\")\n",
    "plt.xlabel(\"z\")\n",
    "plt.legend(frameon=False)\n",
    "plt.tick_params(direction=\"in\", length=2, width=0.5)\n",
    "#plotname = folder + \"/fpres_comp.png\"\n",
    "#plt.savefig(plotname, dpi=600, bbox_inches=\"tight\", pad_inches=0.1)\n",
    "plt.show()"
   ]
  },
  {
   "cell_type": "code",
   "execution_count": null,
   "metadata": {},
   "outputs": [],
   "source": [
    "plt.plot(\n",
    "    z_arr,\n",
    "    fden[0, 0, :],\n",
    "    linewidth=0.3,\n",
    "    color=c4,\n",
    "    label=\"Recreated density\",\n",
    ")\n",
    "plt.plot(\n",
    "    z_arr,\n",
    "    denref[:, 0, 0],\n",
    "    linewidth=0.3,\n",
    "    color=c2,\n",
    "    # linestyle=\"dashed\",\n",
    "    label=\"Reference density\",\n",
    ")\n",
    "for ix in range(0, nresol_x, 5):\n",
    "    for iy in range(4, nresol_y, 5):\n",
    "        plt.plot(\n",
    "            z_arr,\n",
    "            fden[iy, ix, :],\n",
    "            linewidth=0.3,\n",
    "            color=c4,  # alpha=0.04\n",
    "        )\n",
    "        plt.plot(\n",
    "            z_arr,\n",
    "            denref[:, iy, ix],\n",
    "            linewidth=0.3,\n",
    "            color=c2,\n",
    "            # linestyle=\"dashed\",\n",
    "            # alpha=0.04,\n",
    "        )\n",
    "plt.ylabel(\"$kg/m^3$\")\n",
    "plt.xlabel(\"z\")\n",
    "plt.legend(frameon=False)\n",
    "plt.tick_params(direction=\"in\", length=2, width=0.5)\n",
    "plotname = folder + \"/fden_comp.png\"\n",
    "plt.savefig(plotname, dpi=600, bbox_inches=\"tight\", pad_inches=0.1)\n",
    "plt.show()"
   ]
  },
  {
   "cell_type": "code",
   "execution_count": null,
   "metadata": {},
   "outputs": [],
   "source": [
    "from mhsflex.metrics import pearson_corr_coeff_issi\n",
    "\n",
    "pearson_corr_coeff_issi(presref, denref, data3d, heights, temps)"
   ]
  },
  {
   "cell_type": "code",
   "execution_count": null,
   "metadata": {},
   "outputs": [],
   "source": []
  },
  {
   "cell_type": "code",
   "execution_count": null,
   "metadata": {},
   "outputs": [],
   "source": []
  },
  {
   "cell_type": "code",
   "execution_count": null,
   "metadata": {},
   "outputs": [],
   "source": []
  }
 ],
 "metadata": {
  "kernelspec": {
   "display_name": "mflex-cNoQEf_u-py3.12",
   "language": "python",
   "name": "python3"
  },
  "language_info": {
   "codemirror_mode": {
    "name": "ipython",
    "version": 3
   },
   "file_extension": ".py",
   "mimetype": "text/x-python",
   "name": "python",
   "nbconvert_exporter": "python",
   "pygments_lexer": "ipython3",
   "version": "3.12.4"
  }
 },
 "nbformat": 4,
 "nbformat_minor": 2
}
