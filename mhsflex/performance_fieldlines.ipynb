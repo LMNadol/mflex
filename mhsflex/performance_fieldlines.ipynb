{
 "cells": [
  {
   "cell_type": "code",
   "execution_count": 1,
   "metadata": {},
   "outputs": [],
   "source": [
    "%load_ext autoreload\n",
    "%autoreload 2"
   ]
  },
  {
   "cell_type": "code",
   "execution_count": 2,
   "metadata": {},
   "outputs": [
    {
     "name": "stderr",
     "output_type": "stream",
     "text": [
      "/Users/lilli/Library/Caches/pypoetry/virtualenvs/mflex-cNoQEf_u-py3.12/lib/python3.12/site-packages/tqdm/auto.py:21: TqdmWarning: IProgress not found. Please update jupyter and ipywidgets. See https://ipywidgets.readthedocs.io/en/stable/user_install.html\n",
      "  from .autonotebook import tqdm as notebook_tqdm\n"
     ]
    }
   ],
   "source": [
    "from __future__ import annotations\n",
    "import numpy as np\n",
    "\n",
    "from mflex.simulate.simulate_boundary import dipole\n",
    "\n",
    "from mhsflex.field2d import Field2dData\n",
    "from mhsflex.field3d import Field3dData, calculate_magfield\n",
    "from mhsflex.vis import plot, plot_plasma_parameters\n",
    "from mhsflex.metrics import compare_field3d\n",
    "\n",
    "from matplotlib import rc, colors\n",
    "import matplotlib.pyplot as plt\n",
    "\n",
    "from mflex.model.field.utility.poloidal import (\n",
    "    phi,\n",
    "    phi_low,\n",
    "    phi_hypgeo,\n",
    "    dphidz_hypgeo,\n",
    "    dphidz,\n",
    "    dphidz_low,\n",
    ")\n",
    "\n",
    "rc(\"font\", **{\"family\": \"serif\", \"serif\": [\"Times\"]})\n",
    "rc(\"text\", usetex=True)\n",
    "\n",
    "c4 = (1.000, 0.224, 0.376)\n",
    "c1 = (0.439, 0.788, 1.000)\n",
    "c3 = \"black\"\n",
    "c2 = (0.420, 0.502, 1.000)\n",
    "\n",
    "cmap = colors.LinearSegmentedColormap.from_list(\n",
    "    \"cmap\",\n",
    "    (\n",
    "        (0.000, (0.000, 0.000, 0.000)),\n",
    "        (0.500, (0.659, 0.659, 0.659)),\n",
    "        (1.000, (1.000, 1.000, 1.000)),\n",
    "    ),\n",
    ")"
   ]
  },
  {
   "cell_type": "code",
   "execution_count": 3,
   "metadata": {},
   "outputs": [],
   "source": [
    "nresol_x = 200\n",
    "nresol_y = 200\n",
    "nresol_z = 400\n",
    "xmin = 0.0\n",
    "xmax = 2.0  # in units of 10^4 km, therefore corresponds to 20Mm\n",
    "ymin = 0.0\n",
    "ymax = 2.0\n",
    "zmin = 0.0\n",
    "zmax = 2.0\n",
    "pixelsize_x = (xmax - xmin) / nresol_x\n",
    "pixelsize_y = (ymax - ymin) / nresol_y\n",
    "pixelsize_z = (zmax - zmin) / nresol_z\n",
    "\n",
    "z0 = 0.2\n",
    "deltaz = 0.02\n",
    "\n",
    "nf_max = 200\n",
    "\n",
    "z_arr = np.arange(nresol_z) * (zmax - zmin) / (nresol_z - 1) + zmin\n",
    "x_arr = np.arange(nresol_x) * (xmax - xmin) / (nresol_x - 1) + xmin\n",
    "y_arr = np.arange(nresol_y) * (ymax - ymin) / (nresol_y - 1) + ymin\n",
    "B_PHOTO = 500\n",
    "data_bz = np.zeros((nresol_y, nresol_x))\n",
    "\n",
    "for ix in range(0, nresol_x):\n",
    "    for iy in range(0, nresol_y):\n",
    "        x = x_arr[ix]\n",
    "        y = y_arr[iy]\n",
    "        data_bz[iy, ix] = dipole(x, y)"
   ]
  },
  {
   "cell_type": "code",
   "execution_count": null,
   "metadata": {},
   "outputs": [],
   "source": [
    "x_grid, y_grid = np.meshgrid(x_arr, y_arr)\n",
    "folder = \"/Users/lilli/Desktop/Thesis/Performance\"\n",
    "fig = plt.figure()\n",
    "ax = fig.add_subplot(111)\n",
    "CS = ax.contour(\n",
    "    x_grid,\n",
    "    y_grid,\n",
    "    data_bz,\n",
    "    18,\n",
    "    colors=\"k\",\n",
    "    linewidths=0.5,\n",
    ")\n",
    "ax.set_xlabel(\"x\")\n",
    "ax.set_ylabel(\"y\")\n",
    "ax.clabel(CS, fontsize=5, inline=True)\n",
    "ax.set_box_aspect(1)\n",
    "plt.tick_params(direction=\"in\", length=2, width=0.5)\n",
    "plotname = folder + \"/contour.png\"\n",
    "plt.savefig(plotname, dpi=600, bbox_inches=\"tight\", pad_inches=0.1)\n",
    "plt.show()"
   ]
  },
  {
   "cell_type": "code",
   "execution_count": 4,
   "metadata": {},
   "outputs": [],
   "source": [
    "data2d = Field2dData(\n",
    "    nresol_x,\n",
    "    nresol_y,\n",
    "    nresol_z,\n",
    "    nresol_x,\n",
    "    pixelsize_x,\n",
    "    pixelsize_y,\n",
    "    pixelsize_z,\n",
    "    x_arr,\n",
    "    y_arr,\n",
    "    z_arr,\n",
    "    data_bz,\n",
    ")"
   ]
  },
  {
   "cell_type": "code",
   "execution_count": null,
   "metadata": {},
   "outputs": [],
   "source": [
    "a = 0.44\n",
    "alpha = 0.5\n",
    "b = 1.0\n",
    "\n",
    "folder = \"/Users/lilli/Desktop/Thesis/Performance/plots/MHS2\"\n",
    "folder2 = \"/Users/lilli/Desktop/Thesis/Performance/plots_2F1/MHS2\""
   ]
  },
  {
   "cell_type": "code",
   "execution_count": null,
   "metadata": {},
   "outputs": [],
   "source": [
    "data3d = calculate_magfield(data2d, a, b, alpha, z0, deltaz)\n",
    "\n",
    "data3dNW = calculate_magfield(data2d, a, b, alpha, z0, deltaz, asymptotic=False)"
   ]
  },
  {
   "cell_type": "code",
   "execution_count": null,
   "metadata": {},
   "outputs": [],
   "source": [
    "plot(data3d, 'side', save=True, path=folder)\n",
    "\n",
    "plot(data3dNW, 'side', save=True, path=folder2)"
   ]
  },
  {
   "cell_type": "code",
   "execution_count": null,
   "metadata": {},
   "outputs": [],
   "source": [
    "plot(data3d, 'los', save=True, path=folder)\n",
    "\n",
    "plot(data3dNW, 'los', save=True, path=folder2)"
   ]
  },
  {
   "cell_type": "code",
   "execution_count": null,
   "metadata": {},
   "outputs": [],
   "source": [
    "plot(data3d, 'angular', save=True, path=folder)\n",
    "\n",
    "plot(data3dNW, 'angular', save=True, path=folder2)"
   ]
  },
  {
   "cell_type": "code",
   "execution_count": null,
   "metadata": {},
   "outputs": [],
   "source": [
    "a = 0.0\n",
    "alpha = 0.0\n",
    "b = 1.0\n",
    "\n",
    "data3d = calculate_magfield(data2d, a, b, alpha, z0, deltaz)\n",
    "\n",
    "data3dNW = calculate_magfield(data2d, a, b, alpha, z0, deltaz, asymptotic=False)\n",
    "\n",
    "compare_field3d(data3dNW, data3d)"
   ]
  },
  {
   "cell_type": "code",
   "execution_count": null,
   "metadata": {},
   "outputs": [],
   "source": [
    "a = 0.0\n",
    "alpha = 0.5\n",
    "b = 1.0\n",
    "\n",
    "data3d = calculate_magfield(data2d, a, b, alpha, z0, deltaz)\n",
    "\n",
    "data3dNW = calculate_magfield(data2d, a, b, alpha, z0, deltaz, asymptotic=False)\n",
    "\n",
    "compare_field3d(data3dNW, data3d)"
   ]
  },
  {
   "cell_type": "code",
   "execution_count": null,
   "metadata": {},
   "outputs": [],
   "source": [
    "a = 0.22\n",
    "alpha = 0.5\n",
    "b = 1.0\n",
    "\n",
    "data3d = calculate_magfield(data2d, a, b, alpha, z0, deltaz)\n",
    "\n",
    "data3dNW = calculate_magfield(data2d, a, b, alpha, z0, deltaz, asymptotic=False)\n",
    "\n",
    "compare_field3d(data3dNW, data3d)"
   ]
  },
  {
   "cell_type": "code",
   "execution_count": null,
   "metadata": {},
   "outputs": [],
   "source": [
    "a = 0.44\n",
    "alpha = 0.5\n",
    "b = 1.0\n",
    "\n",
    "data3d = calculate_magfield(data2d, a, b, alpha, z0, deltaz)\n",
    "\n",
    "data3dNW = calculate_magfield(data2d, a, b, alpha, z0, deltaz, asymptotic=False)\n",
    "\n",
    "compare_field3d(data3dNW, data3d)"
   ]
  },
  {
   "cell_type": "code",
   "execution_count": 5,
   "metadata": {},
   "outputs": [],
   "source": [
    "a = 0.0\n",
    "alpha = 0.0\n",
    "b = 1.0\n",
    "\n",
    "data3dp = calculate_magfield(data2d, a, b, alpha, z0, deltaz)\n",
    "\n",
    "data3dNWp = calculate_magfield(data2d, a, b, alpha, z0, deltaz, asymptotic=False)"
   ]
  },
  {
   "cell_type": "code",
   "execution_count": 6,
   "metadata": {},
   "outputs": [],
   "source": [
    "a = 0.0\n",
    "alpha = 0.5\n",
    "b = 1.0\n",
    "\n",
    "data3dlff = calculate_magfield(data2d, a, b, alpha, z0, deltaz)\n",
    "\n",
    "data3dNWlff = calculate_magfield(data2d, a, b, alpha, z0, deltaz, asymptotic=False)"
   ]
  },
  {
   "cell_type": "code",
   "execution_count": 7,
   "metadata": {},
   "outputs": [],
   "source": [
    "a = 0.22\n",
    "alpha = 0.5\n",
    "b = 1.0\n",
    "\n",
    "data3dmhs1 = calculate_magfield(data2d, a, b, alpha, z0, deltaz)\n",
    "\n",
    "data3dNWmhs1 = calculate_magfield(data2d, a, b, alpha, z0, deltaz, asymptotic=False)"
   ]
  },
  {
   "cell_type": "code",
   "execution_count": 8,
   "metadata": {},
   "outputs": [],
   "source": [
    "a = 0.44\n",
    "alpha = 0.5\n",
    "b = 1.0\n",
    "\n",
    "data3dmhs2 = calculate_magfield(data2d, a, b, alpha, z0, deltaz)\n",
    "\n",
    "data3dNWmhs2 = calculate_magfield(data2d, a, b, alpha, z0, deltaz, asymptotic=False)"
   ]
  },
  {
   "cell_type": "code",
   "execution_count": 10,
   "metadata": {},
   "outputs": [],
   "source": [
    "folder = \"/Users/lilli/Desktop/Thesis/Performance\""
   ]
  },
  {
   "cell_type": "code",
   "execution_count": 12,
   "metadata": {},
   "outputs": [
    {
     "data": {
      "image/png": "[encoded data removed]",
      "text/plain": [
       "<Figure size 640x480 with 1 Axes>"
      ]
     },
     "metadata": {},
     "output_type": "display_data"
    },
    {
     "data": {
      "image/png": "[encoded data removed]",
      "text/plain": [
       "<Figure size 640x480 with 1 Axes>"
      ]
     },
     "metadata": {},
     "output_type": "display_data"
    }
   ],
   "source": [
    "ix_max = np.unravel_index(data3dlff.bz.argmax(), data3dlff.bz.shape)[1]\n",
    "iy_max = np.unravel_index(data3dlff.bz.argmax(), data3dlff.bz.shape)[0]\n",
    "\n",
    "plt.plot(\n",
    "    data3dlff.z,\n",
    "    data3dlff.dpressure[iy_max, ix_max, :],\n",
    "    linewidth=0.5,\n",
    "    linestyle=\"solid\",\n",
    "    color=c3,\n",
    "    label=\"LFF\",\n",
    ")\n",
    "plt.plot(\n",
    "    data3dmhs1.z,\n",
    "    data3dmhs1.dpressure[iy_max, ix_max, :],\n",
    "    linewidth=0.5,\n",
    "    linestyle=\"solid\",\n",
    "    color=c2,\n",
    "    label=\"MHS A\",\n",
    ")\n",
    "plt.plot(\n",
    "    data3dNWmhs1.z,\n",
    "    data3dNWmhs1.dpressure[iy_max, ix_max, :],\n",
    "    linewidth=0.5,\n",
    "    linestyle=\"dashed\",\n",
    "    color=c2,\n",
    "    label=\"MHS A N+W(2019)\",\n",
    ")\n",
    "plt.plot(\n",
    "    data3dmhs2.z,\n",
    "    data3dmhs2.dpressure[iy_max, ix_max, :],\n",
    "    linewidth=0.5,\n",
    "    linestyle=\"solid\",\n",
    "    color=c4,\n",
    "    label=\"MHS B\",\n",
    ")\n",
    "plt.plot(\n",
    "    data3dNWmhs2.z,\n",
    "    data3dNWmhs2.dpressure[iy_max, ix_max, :],\n",
    "    linewidth=0.5,\n",
    "    linestyle=\"dashed\",\n",
    "    color=c4,\n",
    "    label=\"MHS B N+W(2019)\",\n",
    ")\n",
    "plt.ylabel(r\"$\\Delta p$\")\n",
    "plt.xlabel(\"z\")\n",
    "plt.xlim([0, 2 * z0])\n",
    "plt.legend(frameon=False)\n",
    "plt.tick_params(direction=\"in\", length=2, width=0.5)\n",
    "plotname = folder + \"/dpres.png\"\n",
    "plt.savefig(plotname, dpi=600, bbox_inches=\"tight\", pad_inches=0.1)\n",
    "plt.show()\n",
    "\n",
    "plt.plot(\n",
    "    data3dlff.z,\n",
    "    data3dlff.ddensity[iy_max, ix_max, :],\n",
    "    linewidth=0.5,\n",
    "    linestyle=\"solid\",\n",
    "    color=c3,\n",
    "    label=\"LFF\",\n",
    ")\n",
    "plt.plot(\n",
    "    data3dmhs1.z,\n",
    "    data3dmhs1.ddensity[iy_max, ix_max, :],\n",
    "    linewidth=0.5,\n",
    "    linestyle=\"solid\",\n",
    "    color=c2,\n",
    "    label=\"MHS A\",\n",
    ")\n",
    "plt.plot(\n",
    "    data3dNWmhs1.z,\n",
    "    data3dNWmhs1.ddensity[iy_max, ix_max, :],\n",
    "    linewidth=0.5,\n",
    "    linestyle=\"dashed\",\n",
    "    color=c2,\n",
    "    label=\"MHS A N+W(2019)\",\n",
    ")\n",
    "plt.plot(\n",
    "    data3dmhs2.z,\n",
    "    data3dmhs2.ddensity[iy_max, ix_max, :],\n",
    "    linewidth=0.5,\n",
    "    linestyle=\"solid\",\n",
    "    color=c4,\n",
    "    label=\"MHS B\",\n",
    ")\n",
    "plt.plot(\n",
    "    data3dNWmhs2.z,\n",
    "    data3dNWmhs2.ddensity[iy_max, ix_max, :],\n",
    "    linewidth=0.5,\n",
    "    linestyle=\"dashed\",\n",
    "    color=c4,\n",
    "    label=\"MHS B N+W(2019)\",\n",
    ")\n",
    "plt.ylabel(r\"$\\Delta \\rho$\")\n",
    "plt.xlabel(\"z\")\n",
    "plt.legend(frameon=False)\n",
    "plt.xlim([0, 2 * z0])\n",
    "plt.tick_params(direction=\"in\", length=2, width=0.5)\n",
    "plotname = folder + \"/dden.png\"\n",
    "plt.savefig(plotname, dpi=600, bbox_inches=\"tight\", pad_inches=0.1)\n",
    "plt.show()"
   ]
  }
 ],
 "metadata": {
  "kernelspec": {
   "display_name": "mflex-cNoQEf_u-py3.12",
   "language": "python",
   "name": "python3"
  },
  "language_info": {
   "codemirror_mode": {
    "name": "ipython",
    "version": 3
   },
   "file_extension": ".py",
   "mimetype": "text/x-python",
   "name": "python",
   "nbconvert_exporter": "python",
   "pygments_lexer": "ipython3",
   "version": "3.12.4"
  }
 },
 "nbformat": 4,
 "nbformat_minor": 2
}
