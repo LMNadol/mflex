{
 "cells": [
  {
   "cell_type": "code",
   "execution_count": null,
   "metadata": {},
   "outputs": [],
   "source": [
    "%load_ext autoreload\n",
    "%autoreload 2"
   ]
  },
  {
   "cell_type": "code",
   "execution_count": null,
   "metadata": {},
   "outputs": [],
   "source": [
    "from __future__ import annotations\n",
    "import numpy as np\n",
    "\n",
    "from mflex.simulate.simulate_boundary import dalmatian\n",
    "\n",
    "from mhsflex.field2d import Field2dData\n",
    "from mhsflex.field3d import Field3dData, calculate_magfield\n",
    "from mhsflex.vis import plot, plot_plasma_parameters\n",
    "from mhsflex.metrics import compare_field3d\n",
    "\n",
    "from matplotlib import rc, colors, ticker\n",
    "import matplotlib.pyplot as plt\n",
    "\n",
    "from sunpy.net import Fido, attrs as a\n",
    "import astropy.units as u\n",
    "from astropy.io import fits\n",
    "from astropy.visualization import astropy_mpl_style\n",
    "from astropy.coordinates import SkyCoord\n",
    "import sunpy.map\n",
    "from matplotlib.patches import ConnectionPatch\n",
    "from matplotlib import colors\n",
    "\n",
    "\n",
    "rc(\"font\", **{\"family\": \"serif\", \"serif\": [\"Times\"]})\n",
    "rc(\"text\", usetex=True)\n",
    "\n",
    "c4 = (1.000, 0.224, 0.376)\n",
    "c1 = (0.439, 0.788, 1.000)\n",
    "c3 = \"black\"\n",
    "c2 = (0.420, 0.502, 1.000)\n",
    "\n",
    "cmap = colors.LinearSegmentedColormap.from_list(\n",
    "    \"cmap\",\n",
    "    (\n",
    "        (0.000, (0.000, 0.000, 0.000)),\n",
    "        (0.500, (0.659, 0.659, 0.659)),\n",
    "        (1.000, (1.000, 1.000, 1.000)),\n",
    "    ),\n",
    ")\n",
    "\n",
    "cmap2 = colors.LinearSegmentedColormap.from_list(\n",
    "    \"cmap2\", ((0.000, (0.984, 1.000, 0.000)), (1.000, (1.000, 0.988, 0.761)))\n",
    ")"
   ]
  },
  {
   "cell_type": "code",
   "execution_count": null,
   "metadata": {},
   "outputs": [],
   "source": [
    "result = Fido.search(\n",
    "    a.Time(\"2012/6/13 07:30:00\", \"2012/6/13 07:31\"),\n",
    "    a.Instrument.hmi,\n",
    "    a.Physobs(\"LOS_magnetic_field\"),\n",
    ")"
   ]
  },
  {
   "cell_type": "code",
   "execution_count": null,
   "metadata": {},
   "outputs": [],
   "source": [
    "path = \"/Users/lilli/sunpy/data/hmi_m_45s_2012_06_13_07_31_30_tai_magnetogram.fits\"\n",
    "hmi_image = sunpy.map.Map(path).rotate()\n",
    "hdr = hmi_image.fits_header\n",
    "\n",
    "left_corner = SkyCoord(\n",
    "    Tx=-492 * u.arcsec, Ty=-350 * u.arcsec, frame=hmi_image.coordinate_frame\n",
    ")\n",
    "right_corner = SkyCoord(\n",
    "    Tx=-208 * u.arcsec, Ty=-100 * u.arcsec, frame=hmi_image.coordinate_frame\n",
    ")\n",
    "\n",
    "hpc_coords = sunpy.map.all_coordinates_from_map(hmi_image)\n",
    "mask = ~sunpy.map.coordinate_is_on_solar_disk(hpc_coords)\n",
    "magnetogram_big = sunpy.map.Map(hmi_image.data, hmi_image.meta, mask=mask)"
   ]
  },
  {
   "cell_type": "code",
   "execution_count": null,
   "metadata": {},
   "outputs": [],
   "source": [
    "fig = plt.figure(figsize=(7.2, 4.8))\n",
    "norm = colors.SymLogNorm(50, vmin=-7.5e2, vmax=7.5e2)\n",
    "ax1 = fig.add_subplot(121, projection=magnetogram_big)\n",
    "magnetogram_big.plot(\n",
    "    axes=ax1,\n",
    "    cmap=cmap,\n",
    "    norm=norm,\n",
    "    annotate=False,\n",
    ")\n",
    "magnetogram_big.draw_grid(axes=ax1, color=\"black\", alpha=0.25, lw=0.5)\n",
    "\n",
    "for coord in ax1.coords:\n",
    "    coord.frame.set_linewidth(0)\n",
    "    coord.set_ticks_visible(False)\n",
    "    coord.set_ticklabel_visible(False)\n",
    "\n",
    "magnetogram_big.draw_quadrangle(\n",
    "    left_corner, top_right=right_corner, edgecolor=\"black\", lw=1\n",
    ")\n",
    "magnetogram_small = hmi_image.submap(left_corner, top_right=right_corner)\n",
    "ax2 = fig.add_subplot(122, projection=magnetogram_small)\n",
    "im = magnetogram_small.plot(\n",
    "    axes=ax2,\n",
    "    norm=norm,\n",
    "    cmap=cmap,\n",
    "    annotate=False,\n",
    ")\n",
    "ax2.grid(alpha=0)\n",
    "lon, lat = ax2.coords[0], ax2.coords[1]\n",
    "lon.frame.set_linewidth(1)\n",
    "lat.frame.set_linewidth(1)\n",
    "lon.set_axislabel(\n",
    "    \"Helioprojective Longitude\",\n",
    ")\n",
    "lon.set_ticks_position(\"b\")\n",
    "lat.set_axislabel(\n",
    "    \"Helioprojective Latitude\",\n",
    ")\n",
    "lat.set_axislabel_position(\"r\")\n",
    "lat.set_ticks_position(\"r\")\n",
    "lat.set_ticklabel_position(\"r\")\n",
    "xpix, ypix = magnetogram_big.wcs.world_to_pixel(right_corner)\n",
    "con1 = ConnectionPatch(\n",
    "    (0, 1),\n",
    "    (xpix, ypix),\n",
    "    \"axes fraction\",\n",
    "    \"data\",\n",
    "    axesA=ax2,\n",
    "    axesB=ax1,\n",
    "    arrowstyle=\"-\",\n",
    "    color=\"black\",\n",
    "    lw=1,\n",
    ")\n",
    "xpix, ypix = magnetogram_big.wcs.world_to_pixel(\n",
    "    SkyCoord(right_corner.Tx, left_corner.Ty, frame=magnetogram_big.coordinate_frame)\n",
    ")\n",
    "con2 = ConnectionPatch(\n",
    "    (0, 0),\n",
    "    (xpix, ypix),\n",
    "    \"axes fraction\",\n",
    "    \"data\",\n",
    "    axesA=ax2,\n",
    "    axesB=ax1,\n",
    "    arrowstyle=\"-\",\n",
    "    color=\"black\",\n",
    "    lw=1,\n",
    ")\n",
    "ax2.add_artist(con1)\n",
    "ax2.add_artist(con2)\n",
    "\n",
    "pos = ax2.get_position().get_points()\n",
    "cax = fig.add_axes([pos[0, 0], pos[1, 1] + 0.01, pos[1, 0] - pos[0, 0], 0.025])\n",
    "cbar = fig.colorbar(im, cax=cax, orientation=\"horizontal\")\n",
    "cbar.locator = ticker.FixedLocator([-1e2, 0, 1e2])\n",
    "cbar.set_label(\"LOS Magnetic Field [gauss]\", labelpad=-40, rotation=0)\n",
    "cbar.update_ticks()\n",
    "cbar.ax.xaxis.set_ticks_position(\"top\")\n",
    "# plotname = \"/Users/lilli/Desktop/Paper/SDO_07052022.png\"\n",
    "# plt.savefig(plotname, dpi=300)\n",
    "plt.show()"
   ]
  },
  {
   "cell_type": "code",
   "execution_count": null,
   "metadata": {},
   "outputs": [],
   "source": [
    "data2d = Field2dData.from_fits_SDO(path)"
   ]
  },
  {
   "cell_type": "code",
   "execution_count": null,
   "metadata": {},
   "outputs": [],
   "source": [
    "x_grid, y_grid = np.meshgrid(data2d.x, data2d.y)"
   ]
  },
  {
   "cell_type": "code",
   "execution_count": null,
   "metadata": {},
   "outputs": [],
   "source": [
    "fig = plt.figure()\n",
    "ax = fig.add_subplot(111)\n",
    "ax.grid(color=\"white\", alpha=0.6, linestyle=\"dotted\", linewidth=0.5)\n",
    "ax.contourf(x_grid, y_grid, data2d.bz, 1000, norm=norm, cmap=cmap)\n",
    "ax.set_xlabel(\"x\")\n",
    "ax.set_ylabel(\"y\")\n",
    "plt.show()"
   ]
  },
  {
   "cell_type": "code",
   "execution_count": null,
   "metadata": {},
   "outputs": [],
   "source": [
    "print(data2d.bz.max())\n",
    "print(data2d.bz.min())"
   ]
  },
  {
   "cell_type": "code",
   "execution_count": null,
   "metadata": {},
   "outputs": [],
   "source": [
    "fig = plt.figure()\n",
    "ax = fig.add_subplot(111)\n",
    "CS = ax.contour(\n",
    "    x_grid,\n",
    "    y_grid,\n",
    "    data2d.bz,\n",
    "    levels=np.array((-1600, -1000, -200, 200, 1000, 1600, 2000)),\n",
    "    colors=\"k\",\n",
    "    linewidths=0.5,\n",
    ")\n",
    "ax.set_xlabel(\"x\")\n",
    "ax.set_ylabel(\"y\")\n",
    "ax.clabel(CS, fontsize=5, inline=True)\n",
    "ax.set_box_aspect(1)\n",
    "ax.tick_params(direction=\"in\", length=2, width=0.5)\n",
    "# plotname = folder + \"/contour.png\"\n",
    "# plt.savefig(plotname, dpi=600, bbox_inches=\"tight\", pad_inches=0.1)\n",
    "plt.show()"
   ]
  },
  {
   "cell_type": "code",
   "execution_count": null,
   "metadata": {},
   "outputs": [],
   "source": [
    "alpha = 0.005\n",
    "\n",
    "length_scale = float(2.0)  # Normalising length scale for Seehafer\n",
    "\n",
    "length_scale_x = 2.0 * data2d.nx * data2d.px \n",
    "length_scale_y = 2.0 * data2d.ny * data2d.py \n",
    "\n",
    "length_scale_x_norm = length_scale_x / length_scale\n",
    "length_scale_y_norm = length_scale_y / length_scale\n",
    "\n",
    "kx_arr = np.arange(data2d.nf) * np.pi / length_scale_x_norm  # [0:nf_max]\n",
    "ky_arr = np.arange(data2d.nf) * np.pi / length_scale_y_norm  # [0:nf_max]\n",
    "one_arr = 0.0 * np.arange(data2d.nf) + 1.0\n",
    "\n",
    "ky_grid = np.outer(ky_arr, one_arr)  # [0:nf_max, 0:nf_max]\n",
    "kx_grid = np.outer(one_arr, kx_arr)  # [0:nf_max, 0:nf_max]\n",
    "\n",
    "# kx^2 + ky^2\n",
    "\n",
    "k2_arr = np.outer(ky_arr**2, one_arr) + np.outer(one_arr, kx_arr**2)\n",
    "k2_arr[0, 0] = (np.pi / length_scale_x_norm) ** 2 + (np.pi / length_scale_y_norm) ** 2\n",
    "\n",
    "\n",
    "# Need k^2 > alpha^2/(1-2a) and k^2 > alpha^2\n",
    "\n",
    "limit = (k2_arr - (2 * alpha) ** 2) / (2 * k2_arr)\n",
    "\n",
    "print(limit.min())"
   ]
  },
  {
   "cell_type": "code",
   "execution_count": null,
   "metadata": {},
   "outputs": [],
   "source": [
    "a = 0.2"
   ]
  },
  {
   "cell_type": "code",
   "execution_count": null,
   "metadata": {},
   "outputs": [],
   "source": [
    "b = 1.0\n",
    "z0 = 2.0\n",
    "deltaz = 0.02"
   ]
  },
  {
   "cell_type": "code",
   "execution_count": null,
   "metadata": {},
   "outputs": [],
   "source": [
    "print(data2d.nx, data2d.ny, data2d.nz)"
   ]
  },
  {
   "cell_type": "code",
   "execution_count": null,
   "metadata": {},
   "outputs": [],
   "source": [
    "data3d = calculate_magfield(data2d, a, b, alpha, z0, deltaz)\n",
    "path = \"/Users/lilli/Desktop/mflex/SDO/MHS\"\n",
    "data3d.save(path)\n",
    "\n",
    "#data3d = Field3dData.load(path)\n"
   ]
  },
  {
   "cell_type": "code",
   "execution_count": null,
   "metadata": {},
   "outputs": [],
   "source": [
    "data3d = calculate_magfield(data2d, 0.0, b, alpha, z0, deltaz)\n",
    "path = \"/Users/lilli/Desktop/mflex/SDO/LFF\"\n",
    "data3d.save(path)\n",
    "\n",
    "#data3d = Field3dData.load(path)"
   ]
  },
  {
   "cell_type": "code",
   "execution_count": null,
   "metadata": {},
   "outputs": [],
   "source": [
    "show_poles(data3d)"
   ]
  },
  {
   "cell_type": "code",
   "execution_count": null,
   "metadata": {},
   "outputs": [],
   "source": [
    "show_footpoints(data3d)"
   ]
  }
 ],
 "metadata": {
  "kernelspec": {
   "display_name": "mflex-cNoQEf_u-py3.12",
   "language": "python",
   "name": "python3"
  },
  "language_info": {
   "codemirror_mode": {
    "name": "ipython",
    "version": 3
   },
   "file_extension": ".py",
   "mimetype": "text/x-python",
   "name": "python",
   "nbconvert_exporter": "python",
   "pygments_lexer": "ipython3",
   "version": "3.12.4"
  }
 },
 "nbformat": 4,
 "nbformat_minor": 2
}
