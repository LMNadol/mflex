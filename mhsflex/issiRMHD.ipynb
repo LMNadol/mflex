{
 "cells": [
  {
   "cell_type": "code",
   "execution_count": null,
   "metadata": {},
   "outputs": [],
   "source": [
    "%load_ext autoreload\n",
    "%autoreload 2"
   ]
  },
  {
   "cell_type": "code",
   "execution_count": null,
   "metadata": {},
   "outputs": [],
   "source": [
    "from __future__ import annotations\n",
    "import numpy as np\n",
    "\n",
    "from mflex.simulate.simulate_boundary import dalmatian\n",
    "\n",
    "from mhsflex.field2d import Field2dData\n",
    "from mhsflex.field3d import Field3dData, calculate_magfield\n",
    "from mhsflex.vis import plot, plot_plasma_parameters, show_poles, show_footpoints\n",
    "from mhsflex.metrics import compare_field3d\n",
    "\n",
    "from matplotlib import rc, colors\n",
    "import matplotlib.pyplot as plt\n",
    "from scipy.io import readsav\n",
    "\n",
    "\n",
    "rc(\"font\", **{\"family\": \"serif\", \"serif\": [\"Times\"]})\n",
    "rc(\"text\", usetex=True)\n",
    "\n",
    "c4 = (1.000, 0.224, 0.376)\n",
    "c1 = (0.439, 0.788, 1.000)\n",
    "c3 = \"black\"\n",
    "c2 = (0.420, 0.502, 1.000)\n",
    "\n",
    "cmap = colors.LinearSegmentedColormap.from_list(\n",
    "    \"cmap\",\n",
    "    (\n",
    "        (0.000, (0.000, 0.000, 0.000)),\n",
    "        (0.500, (0.659, 0.659, 0.659)),\n",
    "        (1.000, (1.000, 1.000, 1.000)),\n",
    "    ),\n",
    ")\n",
    "\n",
    "cmap2 = colors.LinearSegmentedColormap.from_list(\n",
    "    \"cmap2\", ((0.000, (0.984, 1.000, 0.000)), (1.000, (1.000, 0.988, 0.761)))\n",
    ")"
   ]
  },
  {
   "cell_type": "code",
   "execution_count": null,
   "metadata": {},
   "outputs": [],
   "source": [
    "path = \"/Users/lilli/Desktop/mflex/data/RMHD_boundary_data.sav\"\n",
    "\n",
    "data = readsav(path, python_dict=True, verbose=True)"
   ]
  },
  {
   "cell_type": "code",
   "execution_count": null,
   "metadata": {},
   "outputs": [],
   "source": [
    "data_bz = data[\"b2dz\"]  \n",
    "data_bx = data[\"b2dx\"]  \n",
    "data_by = data[\"b2dy\"]  \n",
    "\n",
    "nresol_x = data_bz.shape[1]\n",
    "nresol_y = data_bz.shape[0]\n",
    "\n",
    "pixelsize_z_Mm = 64.0 * 10**-3  # Convert pixelsize from km into Mm\n",
    "pixelsize_x_Mm = 192.0 * 10**-3\n",
    "pixelsize_y_Mm = 192.0 * 10**-3\n",
    "\n",
    "xmin = np.float64(0.0)  # Minimum value of x in data length scale, not in Mm\n",
    "ymin = np.float64(0.0)  # Minimum value of y in data length scale, not in Mm\n",
    "zmin = np.float64(0.0)  # Minimum value of z in data length scale, not in Mm\n",
    "\n",
    "xmax_Mm = nresol_x * pixelsize_x_Mm\n",
    "ymax_Mm = nresol_y * pixelsize_y_Mm\n",
    "zmax_Mm = 41.6\n",
    "\n",
    "nresol_z = int(np.floor(zmax_Mm / pixelsize_z_Mm))\n",
    "\n",
    "z0 = 2000.0 * 10**-3\n",
    "\n",
    "deltaz = z0 / 10\n",
    "\n",
    "nf_max = min(nresol_x, nresol_y)\n",
    "\n",
    "print(\"xmax_Mm, ymax_Mm, zmax_Mm\", xmax_Mm, ymax_Mm, zmax_Mm)\n",
    "print(\"nresol_x, nresol_y, nresol_z\", nresol_x, nresol_y, nresol_z)\n",
    "print(\"pixelsize_x\", pixelsize_x_Mm)\n",
    "print(\"pixelsize_y\", pixelsize_y_Mm)\n",
    "print(\"pixelsize_z\", pixelsize_z_Mm)"
   ]
  },
  {
   "cell_type": "code",
   "execution_count": null,
   "metadata": {},
   "outputs": [],
   "source": [
    "x_arr = np.arange(nresol_x) * (xmax_Mm - xmin) / (nresol_x - 1) + xmin\n",
    "y_arr = np.arange(nresol_y) * (ymax_Mm - ymin) / (nresol_y - 1) + ymin\n",
    "z_arr = np.arange(nresol_z) * (zmax_Mm - zmin) / (nresol_z - 1) + zmin\n",
    "x_grid, y_grid = np.meshgrid(x_arr, y_arr)"
   ]
  },
  {
   "cell_type": "code",
   "execution_count": null,
   "metadata": {},
   "outputs": [],
   "source": [
    "data2d = Field2dData(nresol_x, nresol_y, nresol_z, nf_max, pixelsize_x_Mm, pixelsize_y_Mm, pixelsize_z_Mm, x_arr, y_arr, z_arr, data_bz)"
   ]
  },
  {
   "cell_type": "code",
   "execution_count": null,
   "metadata": {},
   "outputs": [],
   "source": [
    "alpha = 0.01\n",
    "\n",
    "length_scale = float(2.0)  # Normalising length scale for Seehafer\n",
    "\n",
    "length_scale_x = 2.0 * nresol_x * pixelsize_x_Mm \n",
    "length_scale_y = 2.0 * nresol_y * pixelsize_y_Mm \n",
    "\n",
    "length_scale_x_norm = length_scale_x / length_scale\n",
    "length_scale_y_norm = length_scale_y / length_scale\n",
    "\n",
    "kx_arr = np.arange(nf_max) * np.pi / length_scale_x_norm  # [0:nf_max]\n",
    "ky_arr = np.arange(nf_max) * np.pi / length_scale_y_norm  # [0:nf_max]\n",
    "one_arr = 0.0 * np.arange(nf_max) + 1.0\n",
    "\n",
    "ky_grid = np.outer(ky_arr, one_arr)  # [0:nf_max, 0:nf_max]\n",
    "kx_grid = np.outer(one_arr, kx_arr)  # [0:nf_max, 0:nf_max]\n",
    "\n",
    "# kx^2 + ky^2\n",
    "\n",
    "k2_arr = np.outer(ky_arr**2, one_arr) + np.outer(one_arr, kx_arr**2)\n",
    "k2_arr[0, 0] = (np.pi / length_scale_x_norm) ** 2 + (np.pi / length_scale_y_norm) ** 2\n",
    "\n",
    "\n",
    "# Need k^2 > alpha^2/(1-2a) and k^2 > alpha^2\n",
    "\n",
    "limit = (k2_arr - (2 * alpha) ** 2) / (2 * k2_arr)\n",
    "\n",
    "print(limit.min())"
   ]
  },
  {
   "cell_type": "code",
   "execution_count": null,
   "metadata": {},
   "outputs": [],
   "source": [
    "fig = plt.figure()\n",
    "ax = fig.add_subplot(111)\n",
    "CS = ax.contour(\n",
    "    x_grid,\n",
    "    y_grid,\n",
    "    data2d.bz,\n",
    "    18,\n",
    "    colors=\"k\",\n",
    "    linewidths=0.5,\n",
    ")\n",
    "ax.set_xlabel(\"x\")\n",
    "ax.set_ylabel(\"y\")\n",
    "ax.set_box_aspect(ymax_Mm/xmax_Mm)\n",
    "ax.clabel(CS, fontsize=5, inline=True)\n",
    "plt.show()"
   ]
  },
  {
   "cell_type": "code",
   "execution_count": null,
   "metadata": {},
   "outputs": [],
   "source": [
    "data3dmhs2 = calculate_magfield(data2d, 0.3, 1.0, 0.01, z0, deltaz)\n",
    "\n",
    "path2saveMHS2 = \"/Users/lilli/Desktop/mflex/ISSIRMHD/MHS2\"\n",
    "data3dmhs2.save(path2saveMHS2)"
   ]
  },
  {
   "cell_type": "code",
   "execution_count": null,
   "metadata": {},
   "outputs": [],
   "source": [
    "data3dmhs1 = calculate_magfield(data2d, 0.15, b, 0.01, z0, deltaz)\n",
    "\n",
    "path2saveMHS1 = \"/Users/lilli/Desktop/mflex/ISSIRMHD/MHS1\"\n",
    "data3dmhs1.save(path2saveMHS1)"
   ]
  },
  {
   "cell_type": "code",
   "execution_count": null,
   "metadata": {},
   "outputs": [],
   "source": [
    "data3dpot = calculate_magfield(data2d, 0.0, b, 0.0, z0, deltaz)\n",
    "\n",
    "path2savepot = \"/Users/lilli/Desktop/mflex/ISSIRMHD/Potential\"\n",
    "data3dpot.save(path2savepot)"
   ]
  },
  {
   "cell_type": "code",
   "execution_count": null,
   "metadata": {},
   "outputs": [],
   "source": [
    "data3dlff = calculate_magfield(data2d, 0.0, b, 0.01, z0, deltaz)\n",
    "\n",
    "path2saveLFF = \"/Users/lilli/Desktop/mflex/ISSIRMHD/LFF\"\n",
    "data3dlff.save(path2saveLFF)"
   ]
  }
 ],
 "metadata": {
  "kernelspec": {
   "display_name": "mflex-cNoQEf_u-py3.12",
   "language": "python",
   "name": "python3"
  },
  "language_info": {
   "codemirror_mode": {
    "name": "ipython",
    "version": 3
   },
   "file_extension": ".py",
   "mimetype": "text/x-python",
   "name": "python",
   "nbconvert_exporter": "python",
   "pygments_lexer": "ipython3",
   "version": "3.12.4"
  }
 },
 "nbformat": 4,
 "nbformat_minor": 2
}
