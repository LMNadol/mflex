{
 "cells": [
  {
   "cell_type": "code",
   "execution_count": 1,
   "metadata": {},
   "outputs": [],
   "source": [
    "%load_ext autoreload\n",
    "%autoreload 2"
   ]
  },
  {
   "cell_type": "code",
   "execution_count": 2,
   "metadata": {},
   "outputs": [
    {
     "name": "stderr",
     "output_type": "stream",
     "text": [
      "/Users/lilli/Library/Caches/pypoetry/virtualenvs/mflex-cNoQEf_u-py3.12/lib/python3.12/site-packages/tqdm/auto.py:21: TqdmWarning: IProgress not found. Please update jupyter and ipywidgets. See https://ipywidgets.readthedocs.io/en/stable/user_install.html\n",
      "  from .autonotebook import tqdm as notebook_tqdm\n"
     ]
    }
   ],
   "source": [
    "from __future__ import annotations\n",
    "import numpy as np\n",
    "import scipy\n",
    "\n",
    "from mflex.simulate.simulate_boundary import dalmatian\n",
    "\n",
    "from mhsflex.field2d import Field2dData\n",
    "from mhsflex.vis import plot, show_poles, show_footpoints\n",
    "from mhsflex.metrics import compare_field3d\n",
    "\n",
    "from matplotlib import rc, colors\n",
    "import matplotlib.pyplot as plt\n",
    "from scipy.io import readsav\n",
    "\n",
    "\n",
    "rc(\"font\", **{\"family\": \"serif\", \"serif\": [\"Times\"]})\n",
    "rc(\"text\", usetex=True)\n",
    "\n",
    "c4 = (1.000, 0.224, 0.376)\n",
    "c1 = (0.439, 0.788, 1.000)\n",
    "c3 = \"black\"\n",
    "c2 = (0.420, 0.502, 1.000)\n",
    "\n",
    "cmap = colors.LinearSegmentedColormap.from_list(\n",
    "    \"cmap\",\n",
    "    (\n",
    "        (0.000, (0.000, 0.000, 0.000)),\n",
    "        (0.500, (0.659, 0.659, 0.659)),\n",
    "        (1.000, (1.000, 1.000, 1.000)),\n",
    "    ),\n",
    ")\n",
    "\n",
    "cmap2 = colors.LinearSegmentedColormap.from_list(\n",
    "    \"cmap2\", ((0.000, (0.984, 1.000, 0.000)), (1.000, (1.000, 0.988, 0.761)))\n",
    ")"
   ]
  },
  {
   "cell_type": "code",
   "execution_count": 3,
   "metadata": {},
   "outputs": [
    {
     "name": "stdout",
     "output_type": "stream",
     "text": [
      "--------------------------------------------------\n",
      "Date: Tue Sep  6 15:18:26 2022\n",
      "User: xszhu\n",
      "Host: HR30\n",
      "--------------------------------------------------\n",
      "Format: 9\n",
      "Architecture: x86_64\n",
      "Operating System: linux\n",
      "IDL Version: 7.1.1\n",
      "--------------------------------------------------\n",
      "Successfully read 10 records of which:\n",
      " - 1 are of type TIMESTAMP\n",
      " - 1 are of type NOTICE\n",
      " - 1 are of type VERSION\n",
      " - 6 are of type VARIABLE\n",
      "--------------------------------------------------\n",
      "Available variables:\n",
      " - b2dx [<class 'numpy.ndarray'>]\n",
      " - b2dy [<class 'numpy.ndarray'>]\n",
      " - b2dz [<class 'numpy.ndarray'>]\n",
      " - info_unit [<class 'bytes'>]\n",
      " - info_pixel [<class 'bytes'>]\n",
      " - info_array [<class 'bytes'>]\n",
      "--------------------------------------------------\n"
     ]
    }
   ],
   "source": [
    "path = \"/Users/lilli/Desktop/mflex/data/RMHD_boundary_data.sav\"\n",
    "\n",
    "data = readsav(path, python_dict=True, verbose=True)"
   ]
  },
  {
   "cell_type": "code",
   "execution_count": 4,
   "metadata": {},
   "outputs": [
    {
     "name": "stdout",
     "output_type": "stream",
     "text": [
      "xmax_Mm, ymax_Mm, zmax_Mm 98.304 49.152 41.6\n",
      "nresol_x, nresol_y, nresol_z 512 256 650\n",
      "pixelsize_x 0.192\n",
      "pixelsize_y 0.192\n",
      "pixelsize_z 0.064\n"
     ]
    }
   ],
   "source": [
    "data_bz = data[\"b2dz\"]\n",
    "data_bx = data[\"b2dx\"]\n",
    "data_by = data[\"b2dy\"]\n",
    "\n",
    "nresol_x = data_bz.shape[1]\n",
    "nresol_y = data_bz.shape[0]\n",
    "\n",
    "pixelsize_z_Mm = 64.0 * 10**-3  # Convert pixelsize from km into Mm\n",
    "pixelsize_x_Mm = 192.0 * 10**-3\n",
    "pixelsize_y_Mm = 192.0 * 10**-3\n",
    "\n",
    "xmin = np.float64(0.0)  # Minimum value of x in data length scale, not in Mm\n",
    "ymin = np.float64(0.0)  # Minimum value of y in data length scale, not in Mm\n",
    "zmin = np.float64(0.0)  # Minimum value of z in data length scale, not in Mm\n",
    "\n",
    "xmax_Mm = nresol_x * pixelsize_x_Mm\n",
    "ymax_Mm = nresol_y * pixelsize_y_Mm\n",
    "zmax_Mm = 41.6\n",
    "\n",
    "nresol_z = int(np.floor(zmax_Mm / pixelsize_z_Mm))\n",
    "\n",
    "z0 = 2000.0 * 10**-3\n",
    "\n",
    "deltaz = z0 / 10\n",
    "\n",
    "nf_max = min(nresol_x, nresol_y)\n",
    "\n",
    "print(\"xmax_Mm, ymax_Mm, zmax_Mm\", xmax_Mm, ymax_Mm, zmax_Mm)\n",
    "print(\"nresol_x, nresol_y, nresol_z\", nresol_x, nresol_y, nresol_z)\n",
    "print(\"pixelsize_x\", pixelsize_x_Mm)\n",
    "print(\"pixelsize_y\", pixelsize_y_Mm)\n",
    "print(\"pixelsize_z\", pixelsize_z_Mm)"
   ]
  },
  {
   "cell_type": "code",
   "execution_count": 5,
   "metadata": {},
   "outputs": [
    {
     "name": "stdout",
     "output_type": "stream",
     "text": [
      "-3081.8796 3227.2979\n"
     ]
    }
   ],
   "source": [
    "print(data_bz.min(), data_bz.max())"
   ]
  },
  {
   "cell_type": "code",
   "execution_count": 6,
   "metadata": {},
   "outputs": [],
   "source": [
    "folder = \"/Users/lilli/Desktop/Thesis/ISSI_RMHD\""
   ]
  },
  {
   "cell_type": "code",
   "execution_count": 7,
   "metadata": {},
   "outputs": [],
   "source": [
    "x_arr = np.arange(nresol_x) * (xmax_Mm - xmin) / (nresol_x - 1) + xmin\n",
    "y_arr = np.arange(nresol_y) * (ymax_Mm - ymin) / (nresol_y - 1) + ymin\n",
    "z_arr = np.arange(nresol_z) * (zmax_Mm - zmin) / (nresol_z - 1) + zmin\n",
    "x_grid, y_grid = np.meshgrid(x_arr, y_arr)\n",
    "\n",
    "data2d = Field2dData(\n",
    "    nresol_x,\n",
    "    nresol_y,\n",
    "    nresol_z,\n",
    "    nf_max,\n",
    "    pixelsize_x_Mm,\n",
    "    pixelsize_y_Mm,\n",
    "    pixelsize_z_Mm,\n",
    "    x_arr,\n",
    "    y_arr,\n",
    "    z_arr,\n",
    "    data_bz,\n",
    ")"
   ]
  },
  {
   "cell_type": "code",
   "execution_count": 8,
   "metadata": {},
   "outputs": [],
   "source": [
    "from mhsflex.field2d import check_fluxbalance, alpha_HS04"
   ]
  },
  {
   "cell_type": "code",
   "execution_count": 9,
   "metadata": {},
   "outputs": [
    {
     "data": {
      "text/plain": [
       "-0.0071758144"
      ]
     },
     "execution_count": 9,
     "metadata": {},
     "output_type": "execute_result"
    }
   ],
   "source": [
    "check_fluxbalance(data2d)\n",
    "# So dont have to use Seeahafer"
   ]
  },
  {
   "cell_type": "code",
   "execution_count": 10,
   "metadata": {},
   "outputs": [
    {
     "data": {
      "text/plain": [
       "0.010229302"
      ]
     },
     "execution_count": 10,
     "metadata": {},
     "output_type": "execute_result"
    }
   ],
   "source": [
    "alpha_HS04(data_bx, data_by, data_bz)"
   ]
  },
  {
   "cell_type": "code",
   "execution_count": 11,
   "metadata": {},
   "outputs": [],
   "source": [
    "import mhsflex.fluxbalance"
   ]
  },
  {
   "cell_type": "code",
   "execution_count": 12,
   "metadata": {},
   "outputs": [
    {
     "name": "stdout",
     "output_type": "stream",
     "text": [
      "0.4871930823404452 0.010229302\n"
     ]
    }
   ],
   "source": [
    "alpha = alpha_HS04(data_bx, data_by, data_bz)\n",
    "\n",
    "length_scale_x = nresol_x * pixelsize_x_Mm\n",
    "length_scale_y = nresol_y * pixelsize_y_Mm\n",
    "\n",
    "length_scale_x_norm = length_scale_x\n",
    "length_scale_y_norm = length_scale_y\n",
    "\n",
    "kx_arr = np.arange(nf_max) * 2.0 * np.pi / length_scale_x_norm  # [0:nf_max]\n",
    "ky_arr = np.arange(nf_max) * 2.0 * np.pi / length_scale_y_norm  # [0:nf_max]\n",
    "one_arr = 0.0 * np.arange(nf_max) + 1.0\n",
    "\n",
    "ky_grid = np.outer(ky_arr, one_arr)  # [0:nf_max, 0:nf_max]\n",
    "kx_grid = np.outer(one_arr, kx_arr)  # [0:nf_max, 0:nf_max]\n",
    "\n",
    "# kx^2 + ky^2\n",
    "\n",
    "k2_arr = np.outer(ky_arr**2, one_arr) + np.outer(one_arr, kx_arr**2)\n",
    "k2_arr[0, 0] = (np.pi * 2.0 / length_scale_x_norm) ** 2 + (\n",
    "    np.pi * 2.0 / length_scale_y_norm\n",
    ") ** 2\n",
    "\n",
    "# Need k^2 > alpha^2/(1-2a) and k^2 > alpha^2\n",
    "\n",
    "limit = (k2_arr - alpha**2) / (2 * k2_arr)\n",
    "\n",
    "amax = limit.min()\n",
    "\n",
    "print(amax, alpha)"
   ]
  },
  {
   "cell_type": "code",
   "execution_count": 13,
   "metadata": {},
   "outputs": [],
   "source": [
    "a = 0.48\n",
    "alpha = 0.01"
   ]
  },
  {
   "cell_type": "code",
   "execution_count": null,
   "metadata": {},
   "outputs": [],
   "source": [
    "data3d = mhsflex.fluxbalance.calculate_magfield(data2d, a, 1.0, alpha, z0, deltaz)"
   ]
  },
  {
   "cell_type": "code",
   "execution_count": 19,
   "metadata": {},
   "outputs": [],
   "source": [
    "data3d.save(folder)"
   ]
  },
  {
   "cell_type": "code",
   "execution_count": 14,
   "metadata": {},
   "outputs": [],
   "source": [
    "data3d = mhsflex.fluxbalance.Field3dData.load(folder + \"/field\")"
   ]
  },
  {
   "cell_type": "code",
   "execution_count": 15,
   "metadata": {},
   "outputs": [
    {
     "name": "stdout",
     "output_type": "stream",
     "text": [
      "--------------------------------------------------\n",
      "Date: Tue Sep  6 15:19:40 2022\n",
      "User: xszhu\n",
      "Host: HR30\n",
      "--------------------------------------------------\n",
      "Format: 9\n",
      "Architecture: x86_64\n",
      "Operating System: linux\n",
      "IDL Version: 7.1.1\n",
      "--------------------------------------------------\n",
      "Successfully read 12 records of which:\n",
      " - 1 are of type TIMESTAMP\n",
      " - 1 are of type NOTICE\n",
      " - 1 are of type VERSION\n",
      " - 8 are of type VARIABLE\n",
      "--------------------------------------------------\n",
      "Available variables:\n",
      " - b3dx [<class 'numpy.ndarray'>]\n",
      " - b3dy [<class 'numpy.ndarray'>]\n",
      " - b3dz [<class 'numpy.ndarray'>]\n",
      " - d3d [<class 'numpy.ndarray'>]\n",
      " - p3d [<class 'numpy.ndarray'>]\n",
      " - info_unit [<class 'bytes'>]\n",
      " - info_pixel [<class 'bytes'>]\n",
      " - info_array [<class 'bytes'>]\n",
      "--------------------------------------------------\n",
      "b'b3d, d3d, p3d: magnetic vector (Gauss), plasma density (g/cm^3), plasma pressure (dyn/cm^2)'\n",
      "b'Pixel spacing: 192km*192km*64km'\n",
      "b'Array example: d3d(nx,ny,nz)'\n",
      "(256, 512, 650)\n",
      "(256, 512, 650)\n",
      "(256, 512, 650)\n"
     ]
    }
   ],
   "source": [
    "path3dref = \"/Users/lilli/Desktop/mflex/data/RMHD_3D_data.sav\"\n",
    "data3dref = scipy.io.readsav(path3dref, python_dict=True, verbose=True)\n",
    "\n",
    "print(data3dref[\"info_unit\"])\n",
    "print(data3dref[\"info_pixel\"])\n",
    "print(data3dref[\"info_array\"])\n",
    "\n",
    "bx_ref = data3dref[\"b3dx\"]\n",
    "by_ref = data3dref[\"b3dy\"]\n",
    "bz_ref = data3dref[\"b3dz\"]\n",
    "\n",
    "pres_3d = data3dref[\"p3d\"] # * 10**-1\n",
    "den_3d = data3dref[\"d3d\"] #* 10**3\n",
    "\n",
    "bx_rec = data3d.field[:,:, :, 1]\n",
    "by_rec = data3d.field[:,:, :, 0]\n",
    "bz_rec = data3d.field[:,:, :, 2]\n",
    "print(bx_rec.shape)\n",
    "print(by_rec.shape)\n",
    "print(bz_rec.shape)\n",
    "\n",
    "issi_bx = np.zeros_like(bx_rec)\n",
    "issi_by = np.zeros_like(by_rec)\n",
    "issi_bz = np.zeros_like(bz_rec)\n",
    "\n",
    "for i in range(0, nresol_y):\n",
    "    for j in range(0, nresol_x):\n",
    "        for k in range(0, nresol_z):\n",
    "            issi_bx[i, j, k] = bx_ref[k, i, j]\n",
    "            issi_by[i, j, k] = by_ref[k, i, j]\n",
    "            issi_bz[i, j, k] = bz_ref[k, i, j]\n",
    "\n",
    "B_ref = np.zeros((nresol_y, nresol_x, nresol_z, 3))\n",
    "\n",
    "B_ref[:, :, :, 0] = issi_by[:,:,:]\n",
    "B_ref[:, :, :, 1] = issi_bx[:,:,:]\n",
    "B_ref[:, :, :, 2] = issi_bz[:,:,:]"
   ]
  },
  {
   "cell_type": "code",
   "execution_count": 16,
   "metadata": {},
   "outputs": [],
   "source": [
    "from mhsflex.metrics import VecCorr, CauSchw, NormErr, MeanErr, MagEnergy\n"
   ]
  },
  {
   "cell_type": "code",
   "execution_count": 53,
   "metadata": {},
   "outputs": [],
   "source": [
    "from mhsflex.metrics import CauSchw_z, NormErr_z, MeanErr_z"
   ]
  },
  {
   "cell_type": "code",
   "execution_count": 17,
   "metadata": {},
   "outputs": [
    {
     "name": "stdout",
     "output_type": "stream",
     "text": [
      "0.9043088977775497\n",
      "0.9408926803381343\n",
      "0.30757626379371017\n",
      "0.31484631939635116\n",
      "0.8355335542071467\n"
     ]
    }
   ],
   "source": [
    "print(VecCorr(B_ref, data3d.field))\n",
    "print(CauSchw(B_ref, data3d.field))\n",
    "print(NormErr(B_ref, data3d.field))\n",
    "print(MeanErr(B_ref, data3d.field))\n",
    "print(MagEnergy(B_ref, data3d.field))"
   ]
  },
  {
   "cell_type": "code",
   "execution_count": 24,
   "metadata": {},
   "outputs": [],
   "source": [
    "VCarr = np.zeros_like(z_arr)\n",
    "CSarr = np.zeros_like(z_arr)\n",
    "NEarr = np.zeros_like(z_arr)\n",
    "MEarr = np.zeros_like(z_arr)\n",
    "MgEnarr = np.zeros_like(z_arr)"
   ]
  },
  {
   "cell_type": "code",
   "execution_count": 54,
   "metadata": {},
   "outputs": [],
   "source": [
    "for iz in range(nresol_z):\n",
    "\n",
    "    VCarr[iz] = VecCorr(B_ref[:, :, iz, :], data3d.field[:, :, iz, :])\n",
    "    CSarr[iz] = CauSchw_z(B_ref[:, :, iz, :], data3d.field[:, :, iz, :])\n",
    "    NEarr[iz] = 1-NormErr_z(B_ref[:, :, iz, :], data3d.field[:, :, iz, :])\n",
    "    MEarr[iz] = 1-MeanErr_z(B_ref[:, :, iz, :], data3d.field[:, :, iz, :])\n",
    "    MgEnarr[iz] = MagEnergy(B_ref[:, :, iz, :], data3d.field[:, :, iz, :])\n"
   ]
  },
  {
   "cell_type": "code",
   "execution_count": 55,
   "metadata": {},
   "outputs": [
    {
     "data": {
      "text/plain": [
       "[<matplotlib.lines.Line2D at 0x30407e120>]"
      ]
     },
     "execution_count": 55,
     "metadata": {},
     "output_type": "execute_result"
    },
    {
     "data": {
      "image/png": "[encoded data removed]",
      "text/plain": [
       "<Figure size 640x480 with 1 Axes>"
      ]
     },
     "metadata": {},
     "output_type": "display_data"
    }
   ],
   "source": [
    "plt.plot(VCarr, linewidth=0.5)\n",
    "plt.plot(MgEnarr, linewidth=0.5)\n",
    "plt.plot(CSarr, linewidth=0.5)\n",
    "plt.plot(NEarr, linewidth=0.5)\n",
    "plt.plot(MEarr, linewidth=0.5)\n",
    "#plt.ylim([0.8, 1])"
   ]
  },
  {
   "cell_type": "code",
   "execution_count": 56,
   "metadata": {},
   "outputs": [],
   "source": [
    "temps = np.array((6000.0, 5500.0, 10000.0, 500000.0, 1000000.0, 1500000.0))  # Kelvin\n",
    "heights = np.array((0.0, 0.5, 2.0, 2.2, 5.0, 100.0))\n",
    "\n",
    "from mhsflex.fluxbalance import (\n",
    "    bpressure_linear,\n",
    "    bdensity_linear,\n",
    "    btemp_linear,\n",
    "    fpressure_linear,\n",
    "    fdensity_linear,\n",
    ")\n",
    "\n",
    "backtemp = btemp_linear(data3d, heights, temps)\n",
    "backpres = bpressure_linear(data3d, heights, temps)\n",
    "backden = bdensity_linear(data3d, heights, temps)"
   ]
  },
  {
   "cell_type": "code",
   "execution_count": 57,
   "metadata": {},
   "outputs": [],
   "source": [
    "T_PHOTOSPHERE = 6000.0  # Photospheric temperature\n",
    "T_CORONA = 2.0 * 10.0**6  # Coronal temperature\n",
    "\n",
    "G_SOLAR = 272.2  # m/s^2\n",
    "KB = 1.380649 * 10**-23  # Boltzmann constant in Joule/ Kelvin = kg m^2/(Ks^2)\n",
    "MBAR = 1.67262 * 10**-27  # mean molecular weight (proton mass)\n",
    "RHO0 = 2.7 * 10**-4  # plasma density at z = 0 in kg/(m^3)\n",
    "\n",
    "P0 = T_PHOTOSPHERE * KB * RHO0 / MBAR  # plasma pressure in kg/(s^2 m)\n",
    "MU0 = 1.25663706 * 10**-6  # permeability of free space in mkg/(s^2A^2)\n",
    "\n",
    "L = 10**6  # Lengthscale Mm\n",
    "T0 = 10000.0\n",
    "H = KB * T0 / (MBAR * G_SOLAR) / L\n",
    "B0 = data3d.bz.max()  # Gauss background magnetic field strength in 10^-4 kg/(s^2A) = 10^-4 T\n",
    "PB0 = (B0 * 10**-4) ** 2 / (2 * MU0)  # magnetic pressure b0**2 / 2mu0 in kg/(s^2m)\n",
    "BETA0 = P0 / PB0  # Plasma Beta, ration plasma to magnetic pressure"
   ]
  },
  {
   "cell_type": "code",
   "execution_count": 58,
   "metadata": {},
   "outputs": [],
   "source": [
    "c1 = (0.439, 0.788, 1.000)\n",
    "c2 = (0.420, 0.502, 1.000)\n",
    "c3 = \"black\"\n",
    "c4 = (1.000, 0.224, 0.376)\n",
    "c5 = (0.784, 0.231, 0.576)\n",
    "c7 = (0.992, 0.251, 0.733)\n",
    "c8 = (0.867, 0.871, 0.184)\n",
    "c9 = (0.949, 0.922, 0.678)\n",
    "c10 = (0.984, 0.455, 0.231)\n",
    "c11 = (0.765, 0.835, 0.922)\n",
    "c12 = (0.965, 0.694, 0.486)\n",
    "c13 = (0.992, 0.584, 0.820)"
   ]
  },
  {
   "cell_type": "code",
   "execution_count": 59,
   "metadata": {},
   "outputs": [
    {
     "name": "stderr",
     "output_type": "stream",
     "text": [
      "/var/folders/cr/r56x0z910tncp30pdz4343cm0000gn/T/ipykernel_7332/4189627657.py:10: UserWarning: No artists with labels found to put in legend.  Note that artists whose label start with an underscore are ignored when legend() is called with no argument.\n",
      "  plt.legend(frameon=False)\n"
     ]
    },
    {
     "data": {
      "image/png": "[encoded data removed]",
      "text/plain": [
       "<Figure size 640x480 with 1 Axes>"
      ]
     },
     "metadata": {},
     "output_type": "display_data"
    },
    {
     "name": "stderr",
     "output_type": "stream",
     "text": [
      "/var/folders/cr/r56x0z910tncp30pdz4343cm0000gn/T/ipykernel_7332/4189627657.py:24: UserWarning: No artists with labels found to put in legend.  Note that artists whose label start with an underscore are ignored when legend() is called with no argument.\n",
      "  plt.legend(frameon=False)\n"
     ]
    },
    {
     "data": {
      "image/png": "[encoded data removed]",
      "text/plain": [
       "<Figure size 640x480 with 1 Axes>"
      ]
     },
     "metadata": {},
     "output_type": "display_data"
    },
    {
     "name": "stderr",
     "output_type": "stream",
     "text": [
      "/var/folders/cr/r56x0z910tncp30pdz4343cm0000gn/T/ipykernel_7332/4189627657.py:38: UserWarning: No artists with labels found to put in legend.  Note that artists whose label start with an underscore are ignored when legend() is called with no argument.\n",
      "  plt.legend(frameon=False)\n"
     ]
    },
    {
     "data": {
      "image/png": "[encoded data removed]",
      "text/plain": [
       "<Figure size 640x480 with 1 Axes>"
      ]
     },
     "metadata": {},
     "output_type": "display_data"
    }
   ],
   "source": [
    "plt.plot(\n",
    "    z_arr,\n",
    "    backtemp,\n",
    "    linewidth=0.8,\n",
    "    color=c1,\n",
    ")\n",
    "#plt.ylabel(r\"kg/($\\textrm{s}^2$ m)\")\n",
    "plt.ylabel(r\"$t_b$ (K)\")\n",
    "plt.xlabel(\"z (Mm)\")\n",
    "plt.legend(frameon=False)\n",
    "plt.tick_params(direction=\"in\", length=2, width=0.5)\n",
    "plotname = folder + \"/btemp.png\"\n",
    "plt.savefig(plotname, dpi=300, bbox_inches=\"tight\", pad_inches=0.1)\n",
    "plt.show()\n",
    "\n",
    "plt.plot(\n",
    "    z_arr,\n",
    "    BETA0 / 2.0 * backpres * (B0 * 10**-4) ** 2.0 / MU0,\n",
    "    linewidth=0.8,\n",
    "    color=c5,\n",
    ")\n",
    "plt.ylabel(r\"$p_b$ (kg/($\\textrm{s}^2$ m))\")\n",
    "plt.xlabel(\"z (Mm)\")\n",
    "plt.legend(frameon=False)\n",
    "plt.tick_params(direction=\"in\", length=2, width=0.5)\n",
    "plotname = folder + \"/bpres.png\"\n",
    "plt.savefig(plotname, dpi=300, bbox_inches=\"tight\", pad_inches=0.1)\n",
    "plt.show()\n",
    "\n",
    "plt.plot(\n",
    "    z_arr,\n",
    "    BETA0 / (2.0 * H) * T0 / T_PHOTOSPHERE * backden * (B0 * 10**-4) ** 2.0 / (MU0 * G_SOLAR * L),\n",
    "    linewidth=0.8,\n",
    "    color=c8,\n",
    ")\n",
    "plt.ylabel(r\"$\\rho_b$ (kg/$\\textrm{m}^3$)\")\n",
    "plt.xlabel(\"z (Mm)\")\n",
    "plt.legend(frameon=False)\n",
    "plt.tick_params(direction=\"in\", length=2, width=0.5)\n",
    "plotname = folder + \"/bden.png\"\n",
    "plt.savefig(plotname, dpi=300, bbox_inches=\"tight\", pad_inches=0.1)\n",
    "plt.show()"
   ]
  },
  {
   "cell_type": "code",
   "execution_count": 60,
   "metadata": {},
   "outputs": [],
   "source": [
    "maxcoord = np.unravel_index(\n",
    "    np.argmax(data3d.bz, axis=None),\n",
    "    data3d.bz.shape,\n",
    ")\n",
    "iy = int(maxcoord[0])\n",
    "ix = int(maxcoord[1])\n",
    "\n",
    "fpres = fpressure_linear(data3d, heights, temps)\n",
    "fden = fdensity_linear(data3d, heights, temps)"
   ]
  },
  {
   "cell_type": "code",
   "execution_count": 61,
   "metadata": {},
   "outputs": [],
   "source": [
    "fpresISSI = np.zeros_like(fpres)\n",
    "fdenISSI = np.zeros_like(fden)"
   ]
  },
  {
   "cell_type": "code",
   "execution_count": 62,
   "metadata": {},
   "outputs": [],
   "source": [
    "for i in range(0, nresol_y):\n",
    "    for j in range(0, nresol_x):\n",
    "        for k in range(0, nresol_z):\n",
    "            fpresISSI[i, j, k] = pres_3d[k, i, j]\n",
    "            fdenISSI[i, j, k] = den_3d[k, i, j]"
   ]
  },
  {
   "cell_type": "code",
   "execution_count": 63,
   "metadata": {},
   "outputs": [],
   "source": [
    "pISSImax = np.zeros_like(z_arr)\n",
    "pISSImin = np.zeros_like(z_arr)\n",
    "\n",
    "pmax = np.zeros_like(z_arr)\n",
    "pmin = np.zeros_like(z_arr)\n",
    "\n",
    "rISSImax = np.zeros_like(z_arr)\n",
    "rISSImin = np.zeros_like(z_arr)\n",
    "\n",
    "rmax = np.zeros_like(z_arr)\n",
    "rmin = np.zeros_like(z_arr)"
   ]
  },
  {
   "cell_type": "code",
   "execution_count": 64,
   "metadata": {},
   "outputs": [],
   "source": [
    "pISSImean = np.zeros_like(data3d.z)\n",
    "pmean = np.zeros_like(data3d.z)\n",
    "\n",
    "rISSImean = np.zeros_like(data3d.z)\n",
    "rmean = np.zeros_like(data3d.z)"
   ]
  },
  {
   "cell_type": "code",
   "execution_count": 108,
   "metadata": {},
   "outputs": [],
   "source": [
    "iy_norm, ix_norm, iz_norm = np.unravel_index(\n",
    "    np.argmax(fpresISSI, axis=None),\n",
    "    fpresISSI.shape,\n",
    ")\n",
    "\n",
    "pnorm = fpres[iy_norm, ix_norm, 0]\n",
    "\n",
    "pISSInorm = fpresISSI[iy_norm, ix_norm, 0]\n",
    "\n",
    "\n",
    "fpresNormed = fpres / pnorm\n",
    "fpresISSINormed = fpresISSI / pISSInorm"
   ]
  },
  {
   "cell_type": "code",
   "execution_count": 113,
   "metadata": {},
   "outputs": [],
   "source": [
    "iy_norm, ix_norm, iz_norm = np.unravel_index(\n",
    "    np.argmax(fdenISSI, axis=None),\n",
    "    fdenISSI.shape,\n",
    ")\n",
    "\n",
    "rnorm = fden[iy_norm, ix_norm, 0]\n",
    "\n",
    "rISSInorm = fdenISSI[iy_norm, ix_norm, 0]\n",
    "\n",
    "fdenNormed = fden / rnorm\n",
    "fdenISSINormed = fdenISSI / rISSInorm"
   ]
  },
  {
   "cell_type": "code",
   "execution_count": 65,
   "metadata": {},
   "outputs": [],
   "source": [
    "for iz in range(nresol_z):\n",
    "    pISSImean[iz] = fpresISSI[:, :, iz].mean()\n",
    "\n",
    "    pmean[iz] = fpres[:, :, iz].mean()\n",
    "\n",
    "    rISSImean[iz] = fdenISSI[:, :, iz].mean()\n",
    "\n",
    "    rmean[iz] = fden[:, :, iz].mean()\n",
    "\n",
    "    pISSImin[iz] = fpresISSI[:, :, iz].min()\n",
    "\n",
    "    pmin[iz] = fpres[:, :, iz].min()\n",
    "\n",
    "    rISSImin[iz] = fdenISSI[:, :, iz].min()\n",
    "\n",
    "    rmin[iz] = fden[:, :, iz].min()\n",
    "\n",
    "    pISSImax[iz] = fpresISSI[:, :, iz].max()\n",
    "\n",
    "    pmax[iz] = fpres[:, :, iz].max()\n",
    "\n",
    "    rISSImax[iz] = fdenISSI[:, :, iz].max()\n",
    "\n",
    "    rmax[iz] = fden[:, :, iz].max()\n"
   ]
  },
  {
   "cell_type": "code",
   "execution_count": 114,
   "metadata": {},
   "outputs": [],
   "source": [
    "for iz in range(nresol_z):\n",
    "    pISSImean[iz] = fpresISSINormed[:, :, iz].mean()\n",
    "\n",
    "    pmean[iz] = fpresNormed[:, :, iz].mean()\n",
    "\n",
    "    rISSImean[iz] = fdenISSINormed[:, :, iz].mean()\n",
    "\n",
    "    rmean[iz] = fdenNormed[:, :, iz].mean()\n",
    "\n",
    "    pISSImin[iz] = fpresISSINormed[:, :, iz].min()\n",
    "\n",
    "    pmin[iz] = fpresNormed[:, :, iz].min()\n",
    "\n",
    "    rISSImin[iz] = fdenISSI[:, :, iz].min()\n",
    "\n",
    "    rmin[iz] = fden[:, :, iz].min()\n",
    "\n",
    "    pISSImax[iz] = fpresISSINormed[:, :, iz].max()\n",
    "\n",
    "    pmax[iz] = fpresNormed[:, :, iz].max()\n",
    "\n",
    "    rISSImax[iz] = fdenISSI[:, :, iz].max()\n",
    "\n",
    "    rmax[iz] = fden[:, :, iz].max()"
   ]
  },
  {
   "cell_type": "code",
   "execution_count": 100,
   "metadata": {},
   "outputs": [
    {
     "data": {
      "image/png": "[encoded data removed]",
      "text/plain": [
       "<Figure size 640x480 with 1 Axes>"
      ]
     },
     "metadata": {},
     "output_type": "display_data"
    }
   ],
   "source": [
    "plt.plot(data3d.z, pISSImean, linewidth=0.5) # If not normed use factor 10**-2\n",
    "plt.plot(data3d.z, pmean, linewidth=0.5)\n",
    "plt.xscale(\"log\")\n",
    "#plt.yscale(\"log\")"
   ]
  },
  {
   "cell_type": "code",
   "execution_count": 115,
   "metadata": {},
   "outputs": [
    {
     "name": "stderr",
     "output_type": "stream",
     "text": [
      "/var/folders/cr/r56x0z910tncp30pdz4343cm0000gn/T/ipykernel_7332/3326596410.py:5: UserWarning: Attempt to set non-positive xlim on a log-scaled axis will be ignored.\n",
      "  plt.xlim([0, 3])\n"
     ]
    },
    {
     "data": {
      "text/plain": [
       "(0.04636992559043093, 3)"
      ]
     },
     "execution_count": 115,
     "metadata": {},
     "output_type": "execute_result"
    },
    {
     "data": {
      "image/png": "[encoded data removed]",
      "text/plain": [
       "<Figure size 640x480 with 1 Axes>"
      ]
     },
     "metadata": {},
     "output_type": "display_data"
    }
   ],
   "source": [
    "plt.plot(data3d.z, rISSImean, linewidth=0.5) # if not normed use factor *G_SOLAR*10**6\n",
    "plt.plot(data3d.z, rmean, linewidth=0.5) # if not normed use factor *G_SOLAR\n",
    "#plt.yscale(\"log\")\n",
    "plt.xscale(\"log\")\n",
    "plt.xlim([0, 3])\n",
    "#plt.ylim([10**-8, 10**0])"
   ]
  },
  {
   "cell_type": "code",
   "execution_count": 116,
   "metadata": {},
   "outputs": [
    {
     "data": {
      "image/png": "[encoded data removed]",
      "text/plain": [
       "<Figure size 640x480 with 1 Axes>"
      ]
     },
     "metadata": {},
     "output_type": "display_data"
    }
   ],
   "source": [
    "fig, ax1 = plt.subplots()\n",
    "\n",
    "\n",
    "ax1.fill_between(z_arr, pmin, pmax, color= c8, alpha=0.2, label=r\"N+W-A\")\n",
    "\n",
    "ax1.plot(\n",
    "    z_arr,\n",
    "    pmin,\n",
    "    linewidth=0.8,\n",
    "    color= c8,\n",
    "    # label=r\"B-den, $p_0$ prescribed, linear\",\n",
    ")\n",
    "\n",
    "ax1.plot(\n",
    "    z_arr,\n",
    "    pmax,\n",
    "    linewidth=0.8,\n",
    "    color=c8,\n",
    ")\n",
    "\n",
    "ax1.fill_between(z_arr, pISSImin, pISSImax, color= c1, alpha=0.2, label=r\"ISSI\")\n",
    "\n",
    "ax1.plot(\n",
    "    z_arr,\n",
    "    pISSImin,\n",
    "    linewidth=0.8,\n",
    "    color= c1,\n",
    "    # label=r\"B-den, $p_0$ prescribed, linear\",\n",
    ")\n",
    "\n",
    "ax1.plot(\n",
    "    z_arr,\n",
    "    pISSImax,\n",
    "    linewidth=0.8,\n",
    "    color=c1,\n",
    ")\n",
    "\n",
    "\n",
    "plt.ylabel(r\"p (kg/($\\textrm{s}^2$ m))\")\n",
    "ax1.set_xlabel(r\"z (Mm)\", fontsize=12)\n",
    "plt.legend(frameon=False, fontsize=12)\n",
    "plt.tick_params(direction=\"in\", length=2, width=0.5)\n",
    "plt.xlim([0,4])\n",
    "# plotname = folder + \"/fpres_comp.png\"\n",
    "# plt.savefig(plotname, dpi=300, bbox_inches=\"tight\", pad_inches=0.1)\n",
    "plt.show()"
   ]
  },
  {
   "cell_type": "code",
   "execution_count": 117,
   "metadata": {},
   "outputs": [
    {
     "data": {
      "image/png": "[encoded data removed]",
      "text/plain": [
       "<Figure size 640x480 with 1 Axes>"
      ]
     },
     "metadata": {},
     "output_type": "display_data"
    }
   ],
   "source": [
    "fig, ax1 = plt.subplots()\n",
    "\n",
    "\n",
    "ax1.fill_between(z_arr, rmin, rmax, color= c8, alpha=0.2, label=r\"N+W-A\")\n",
    "\n",
    "ax1.plot(\n",
    "    z_arr,\n",
    "    rmin,\n",
    "    linewidth=0.8,\n",
    "    color= c8,\n",
    "    # label=r\"B-den, $p_0$ prescribed, linear\",\n",
    ")\n",
    "\n",
    "ax1.plot(\n",
    "    z_arr,\n",
    "    rmax,\n",
    "    linewidth=0.8,\n",
    "    color=c8,\n",
    ")\n",
    "\n",
    "ax1.fill_between(z_arr, rISSImin, rISSImax, color= c1, alpha=0.2, label=r\"ISSI\")\n",
    "\n",
    "ax1.plot(\n",
    "    z_arr,\n",
    "    rISSImin,\n",
    "    linewidth=0.8,\n",
    "    color= c1,\n",
    "    # label=r\"B-den, $p_0$ prescribed, linear\",\n",
    ")\n",
    "\n",
    "ax1.plot(\n",
    "    z_arr,\n",
    "    rISSImax,\n",
    "    linewidth=0.8,\n",
    "    color=c1,\n",
    ")\n",
    "\n",
    "plt.ylabel(r\"$\\rho$ (kg/$(\\textrm{m}^3))$\")\n",
    "ax1.set_xlabel(r\"z (Mm)\", fontsize=12)\n",
    "plt.legend(frameon=False, fontsize=12)\n",
    "plt.tick_params(direction=\"in\", length=2, width=0.5)\n",
    "plt.xlim([0,4])\n",
    "# plotname = folder + \"/fden_comp.png\"\n",
    "# plt.savefig(plotname, dpi=300, bbox_inches=\"tight\", pad_inches=0.1)\n",
    "plt.show()"
   ]
  },
  {
   "cell_type": "code",
   "execution_count": 119,
   "metadata": {},
   "outputs": [],
   "source": [
    "from mhsflex.metrics import pearson_corr_coeff_issi_2"
   ]
  },
  {
   "cell_type": "code",
   "execution_count": 121,
   "metadata": {},
   "outputs": [
    {
     "name": "stdout",
     "output_type": "stream",
     "text": [
      "Pearson Correlation reference value for pressure  PearsonRResult(statistic=0.9999999999999943, pvalue=0.0)\n",
      "Pearson Correlation reference value for density  PearsonRResult(statistic=0.9999999999999998, pvalue=0.0)\n",
      "Pearson Correlation actual value for pressure  PearsonRResult(statistic=0.5157480357421567, pvalue=0.0)\n",
      "Pearson Correlation actual value for density  PearsonRResult(statistic=0.4700152007545908, pvalue=0.0)\n"
     ]
    }
   ],
   "source": [
    "pearson_corr_coeff_issi_2(fpresISSINormed, fdenISSINormed, data3d, fpresNormed, fdenNormed, heights, temps)"
   ]
  },
  {
   "cell_type": "code",
   "execution_count": 122,
   "metadata": {},
   "outputs": [],
   "source": [
    "from mhsflex.metrics import field_div_metric_fb, field_div_metric_issi"
   ]
  },
  {
   "cell_type": "code",
   "execution_count": 123,
   "metadata": {},
   "outputs": [
    {
     "name": "stderr",
     "output_type": "stream",
     "text": [
      "/Users/lilli/Desktop/mflex/mhsflex/metrics.py:745: RuntimeWarning: invalid value encountered in scalar divide\n",
      "  print(\n",
      "/Users/lilli/Desktop/mflex/mhsflex/metrics.py:745: RuntimeWarning: divide by zero encountered in scalar divide\n",
      "  print(\n"
     ]
    },
    {
     "name": "stdout",
     "output_type": "stream",
     "text": [
      "5202 4518 1507\n"
     ]
    },
    {
     "data": {
      "text/plain": [
       "0.3335546702080567"
      ]
     },
     "execution_count": 123,
     "metadata": {},
     "output_type": "execute_result"
    }
   ],
   "source": [
    "field_div_metric_issi(B_ref, data3d)"
   ]
  },
  {
   "cell_type": "code",
   "execution_count": null,
   "metadata": {},
   "outputs": [],
   "source": []
  },
  {
   "cell_type": "code",
   "execution_count": null,
   "metadata": {},
   "outputs": [],
   "source": []
  }
 ],
 "metadata": {
  "kernelspec": {
   "display_name": "mflex-cNoQEf_u-py3.12",
   "language": "python",
   "name": "python3"
  },
  "language_info": {
   "codemirror_mode": {
    "name": "ipython",
    "version": 3
   },
   "file_extension": ".py",
   "mimetype": "text/x-python",
   "name": "python",
   "nbconvert_exporter": "python",
   "pygments_lexer": "ipython3",
   "version": "3.12.4"
  }
 },
 "nbformat": 4,
 "nbformat_minor": 2
}
