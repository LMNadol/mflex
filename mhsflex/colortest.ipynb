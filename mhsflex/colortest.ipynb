{
 "cells": [
  {
   "cell_type": "code",
   "execution_count": 1,
   "metadata": {},
   "outputs": [],
   "source": [
    "%load_ext autoreload\n",
    "%autoreload 2"
   ]
  },
  {
   "cell_type": "code",
   "execution_count": 2,
   "metadata": {},
   "outputs": [
    {
     "name": "stderr",
     "output_type": "stream",
     "text": [
      "/Users/lilli/Library/Caches/pypoetry/virtualenvs/mflex-cNoQEf_u-py3.12/lib/python3.12/site-packages/tqdm/auto.py:21: TqdmWarning: IProgress not found. Please update jupyter and ipywidgets. See https://ipywidgets.readthedocs.io/en/stable/user_install.html\n",
      "  from .autonotebook import tqdm as notebook_tqdm\n"
     ]
    }
   ],
   "source": [
    "from __future__ import annotations\n",
    "import numpy as np\n",
    "\n",
    "from mflex.simulate.simulate_boundary import dipole\n",
    "\n",
    "from mhsflex.field2d import Field2dData\n",
    "from mhsflex.field3d import Field3dData, calculate_magfield, lf3d, j3d\n",
    "from mhsflex.vis import plot, plot_plasma_parameters\n",
    "from mhsflex.metrics import compare_field3d\n",
    "\n",
    "from matplotlib import rc, colors\n",
    "import matplotlib.pyplot as plt\n",
    "\n",
    "from mflex.model.field.utility.poloidal import (\n",
    "    phi,\n",
    "    phi_low,\n",
    "    phi_hypgeo,\n",
    "    dphidz_hypgeo,\n",
    "    dphidz,\n",
    "    dphidz_low,\n",
    ")\n",
    "\n",
    "rc(\"font\", **{\"family\": \"serif\", \"serif\": [\"Times\"]})\n",
    "rc(\"text\", usetex=True)\n",
    "\n",
    "c4 = (1.000, 0.224, 0.376)\n",
    "c1 = (0.439, 0.788, 1.000)\n",
    "c3 = \"black\"\n",
    "c2 = (0.420, 0.502, 1.000)"
   ]
  },
  {
   "cell_type": "code",
   "execution_count": 40,
   "metadata": {},
   "outputs": [],
   "source": [
    "c5 = (0.784, 0.231, 0.576)\n",
    "c6 = (0.435, 0.651, 0.871)\n",
    "c7 = (0.992, 0.251, 0.733)\n",
    "c8 = (0.867, 0.871, 0.184)\n",
    "c9 = (0.949, 0.922, 0.678)\n",
    "c10 = (0.984, 0.455, 0.231)\n",
    "c11 = (0.765, 0.835, 0.922)\n",
    "c12 = (0.965, 0.694, 0.486)\n",
    "c13 = (0.992, 0.584, 0.820)"
   ]
  },
  {
   "cell_type": "code",
   "execution_count": 48,
   "metadata": {},
   "outputs": [
    {
     "name": "stderr",
     "output_type": "stream",
     "text": [
      "/var/folders/cr/r56x0z910tncp30pdz4343cm0000gn/T/ipykernel_1069/1268363022.py:3: UserWarning: *c* argument looks like a single numeric RGB or RGBA sequence, which should be avoided as value-mapping will have precedence in case its length matches with *x* & *y*.  Please use the *color* keyword-argument or provide a 2D array with a single row if you intend to specify the same RGB or RGBA value for all points.\n",
      "  plt.scatter(1.12, 1.03, s=600, c=c2)\n",
      "/var/folders/cr/r56x0z910tncp30pdz4343cm0000gn/T/ipykernel_1069/1268363022.py:4: UserWarning: *c* argument looks like a single numeric RGB or RGBA sequence, which should be avoided as value-mapping will have precedence in case its length matches with *x* & *y*.  Please use the *color* keyword-argument or provide a 2D array with a single row if you intend to specify the same RGB or RGBA value for all points.\n",
      "  plt.scatter(1.14, 1.03, s=600, c=c1)\n",
      "/var/folders/cr/r56x0z910tncp30pdz4343cm0000gn/T/ipykernel_1069/1268363022.py:5: UserWarning: *c* argument looks like a single numeric RGB or RGBA sequence, which should be avoided as value-mapping will have precedence in case its length matches with *x* & *y*.  Please use the *color* keyword-argument or provide a 2D array with a single row if you intend to specify the same RGB or RGBA value for all points.\n",
      "  plt.scatter(1.16, 1.03, s=600, c=c11)\n",
      "/var/folders/cr/r56x0z910tncp30pdz4343cm0000gn/T/ipykernel_1069/1268363022.py:7: UserWarning: *c* argument looks like a single numeric RGB or RGBA sequence, which should be avoided as value-mapping will have precedence in case its length matches with *x* & *y*.  Please use the *color* keyword-argument or provide a 2D array with a single row if you intend to specify the same RGB or RGBA value for all points.\n",
      "  plt.scatter(1.12, 1.02, s=600, c=c5)\n",
      "/var/folders/cr/r56x0z910tncp30pdz4343cm0000gn/T/ipykernel_1069/1268363022.py:8: UserWarning: *c* argument looks like a single numeric RGB or RGBA sequence, which should be avoided as value-mapping will have precedence in case its length matches with *x* & *y*.  Please use the *color* keyword-argument or provide a 2D array with a single row if you intend to specify the same RGB or RGBA value for all points.\n",
      "  plt.scatter(1.14, 1.02, s=600, c=c7)\n",
      "/var/folders/cr/r56x0z910tncp30pdz4343cm0000gn/T/ipykernel_1069/1268363022.py:9: UserWarning: *c* argument looks like a single numeric RGB or RGBA sequence, which should be avoided as value-mapping will have precedence in case its length matches with *x* & *y*.  Please use the *color* keyword-argument or provide a 2D array with a single row if you intend to specify the same RGB or RGBA value for all points.\n",
      "  plt.scatter(1.16, 1.02, s=600, c=c13)\n",
      "/var/folders/cr/r56x0z910tncp30pdz4343cm0000gn/T/ipykernel_1069/1268363022.py:11: UserWarning: *c* argument looks like a single numeric RGB or RGBA sequence, which should be avoided as value-mapping will have precedence in case its length matches with *x* & *y*.  Please use the *color* keyword-argument or provide a 2D array with a single row if you intend to specify the same RGB or RGBA value for all points.\n",
      "  plt.scatter(1.12, 1.01, s=600, c=c4)\n",
      "/var/folders/cr/r56x0z910tncp30pdz4343cm0000gn/T/ipykernel_1069/1268363022.py:12: UserWarning: *c* argument looks like a single numeric RGB or RGBA sequence, which should be avoided as value-mapping will have precedence in case its length matches with *x* & *y*.  Please use the *color* keyword-argument or provide a 2D array with a single row if you intend to specify the same RGB or RGBA value for all points.\n",
      "  plt.scatter(1.14, 1.01, s=600, c=c10)\n",
      "/var/folders/cr/r56x0z910tncp30pdz4343cm0000gn/T/ipykernel_1069/1268363022.py:13: UserWarning: *c* argument looks like a single numeric RGB or RGBA sequence, which should be avoided as value-mapping will have precedence in case its length matches with *x* & *y*.  Please use the *color* keyword-argument or provide a 2D array with a single row if you intend to specify the same RGB or RGBA value for all points.\n",
      "  plt.scatter(1.16, 1.01, s=600, c=c12)\n",
      "/var/folders/cr/r56x0z910tncp30pdz4343cm0000gn/T/ipykernel_1069/1268363022.py:18: UserWarning: *c* argument looks like a single numeric RGB or RGBA sequence, which should be avoided as value-mapping will have precedence in case its length matches with *x* & *y*.  Please use the *color* keyword-argument or provide a 2D array with a single row if you intend to specify the same RGB or RGBA value for all points.\n",
      "  plt.scatter(1.14, 1.0, s=600, c=c8)\n",
      "/var/folders/cr/r56x0z910tncp30pdz4343cm0000gn/T/ipykernel_1069/1268363022.py:19: UserWarning: *c* argument looks like a single numeric RGB or RGBA sequence, which should be avoided as value-mapping will have precedence in case its length matches with *x* & *y*.  Please use the *color* keyword-argument or provide a 2D array with a single row if you intend to specify the same RGB or RGBA value for all points.\n",
      "  plt.scatter(1.16, 1.0, s=600, c=c9)\n",
      "/var/folders/cr/r56x0z910tncp30pdz4343cm0000gn/T/ipykernel_1069/1268363022.py:22: UserWarning: No artists with labels found to put in legend.  Note that artists whose label start with an underscore are ignored when legend() is called with no argument.\n",
      "  plt.legend(frameon=False)\n"
     ]
    },
    {
     "data": {
      "image/png": "[encoded data removed]",
      "text/plain": [
       "<Figure size 640x480 with 1 Axes>"
      ]
     },
     "metadata": {},
     "output_type": "display_data"
    }
   ],
   "source": [
    "plt.scatter(1.5, 0.9, s=600, c=c3)\n",
    "\n",
    "plt.scatter(1.12, 1.03, s=600, c=c2)\n",
    "plt.scatter(1.14, 1.03, s=600, c=c1)\n",
    "plt.scatter(1.16, 1.03, s=600, c=c11)\n",
    "\n",
    "plt.scatter(1.12, 1.02, s=600, c=c5)\n",
    "plt.scatter(1.14, 1.02, s=600, c=c7)\n",
    "plt.scatter(1.16, 1.02, s=600, c=c13)\n",
    "\n",
    "plt.scatter(1.12, 1.01, s=600, c=c4)\n",
    "plt.scatter(1.14, 1.01, s=600, c=c10)\n",
    "plt.scatter(1.16, 1.01, s=600, c=c12)\n",
    "\n",
    "\n",
    "\n",
    "\n",
    "plt.scatter(1.14, 1.0, s=600, c=c8)\n",
    "plt.scatter(1.16, 1.0, s=600, c=c9)\n",
    "\n",
    "\n",
    "plt.legend(frameon=False)\n",
    "plt.tick_params(direction=\"in\", length=2, width=0.5)\n",
    "plotname = \"/Users/lilli/Desktop/colortest.png\"\n",
    "plt.tick_params(direction=\"in\", length=2, width=0.5)\n",
    "plt.savefig(plotname, dpi=300, bbox_inches=\"tight\", pad_inches=0.1)\n",
    "plt.show()"
   ]
  },
  {
   "cell_type": "code",
   "execution_count": null,
   "metadata": {},
   "outputs": [],
   "source": []
  },
  {
   "cell_type": "code",
   "execution_count": null,
   "metadata": {},
   "outputs": [],
   "source": []
  },
  {
   "cell_type": "code",
   "execution_count": null,
   "metadata": {},
   "outputs": [],
   "source": []
  }
 ],
 "metadata": {
  "kernelspec": {
   "display_name": "mflex-cNoQEf_u-py3.12",
   "language": "python",
   "name": "python3"
  },
  "language_info": {
   "codemirror_mode": {
    "name": "ipython",
    "version": 3
   },
   "file_extension": ".py",
   "mimetype": "text/x-python",
   "name": "python",
   "nbconvert_exporter": "python",
   "pygments_lexer": "ipython3",
   "version": "3.12.4"
  }
 },
 "nbformat": 4,
 "nbformat_minor": 2
}
