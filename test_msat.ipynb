{
 "cells": [
  {
   "cell_type": "code",
   "execution_count": 1,
   "metadata": {},
   "outputs": [],
   "source": [
    "%load_ext autoreload\n",
    "%autoreload 2"
   ]
  },
  {
   "cell_type": "code",
   "execution_count": 4,
   "metadata": {},
   "outputs": [],
   "source": [
    "import numpy as np\n",
    "from mflex.model.field.save import msatformat\n",
    "from mflex.model.field.bfield_model import magnetic_field\n",
    "from mflex.simulate.simulate_boundary import dipole, dalmatian"
   ]
  },
  {
   "cell_type": "code",
   "execution_count": 11,
   "metadata": {},
   "outputs": [
    {
     "name": "stdout",
     "output_type": "stream",
     "text": [
      "0.0 0.0 0.0\n",
      "2.0 2.0 2.0\n",
      "0.01 0.01 0.005\n"
     ]
    }
   ],
   "source": [
    "nresol_x = 200\n",
    "nresol_y = 200\n",
    "nresol_z = 400\n",
    "xmin = 0.0\n",
    "xmax = 2.0  # in units of 10^4 km, therefore corresponds to 20Mm\n",
    "ymin = 0.0\n",
    "ymax = 2.0\n",
    "zmin = 0.0\n",
    "zmax = 2.0\n",
    "pixelsize_x = (xmax - xmin) / nresol_x\n",
    "pixelsize_y = (ymax - ymin) / nresol_y\n",
    "pixelsize_z = (zmax - zmin) / nresol_z\n",
    "nf_max = 200\n",
    "L = 1.0\n",
    "print(xmin, ymin, zmin)\n",
    "print(xmax, ymax, zmax)\n",
    "print(pixelsize_x, pixelsize_y, pixelsize_z)\n",
    "\n",
    "# Background atmosphere parameters\n",
    "z0 = 0.2\n",
    "deltaz = 0.02\n",
    "\n",
    "b = 1.0\n",
    "\n",
    "x_arr = np.arange(nresol_x) * (xmax - xmin) / (nresol_x - 1) + xmin\n",
    "y_arr = np.arange(nresol_y) * (ymax - ymin) / (nresol_y - 1) + ymin\n",
    "z_arr = np.arange(nresol_z) * (zmax - zmin) / (nresol_z - 1) + zmin\n",
    "\n",
    "data_bz = np.zeros((nresol_y, nresol_x))\n",
    "\n",
    "x_plot = np.outer(y_arr, np.ones(nresol_x))\n",
    "y_plot = np.outer(x_arr, np.ones(nresol_y)).T\n",
    "\n",
    "for ix in range(0, nresol_x):\n",
    "    for iy in range(0, nresol_y):\n",
    "        x = x_arr[ix]\n",
    "        y = y_arr[iy]\n",
    "        data_bz[iy, ix] = dipole(x, y)\n"
   ]
  },
  {
   "cell_type": "code",
   "execution_count": 12,
   "metadata": {},
   "outputs": [
    {
     "name": "stdout",
     "output_type": "stream",
     "text": [
      "length scale 2.0\n",
      "length scale x 4.0\n",
      "length scale y 4.0\n",
      "length scale x norm 2.0\n",
      "length scale y norm 2.0\n",
      "xmin, xmax, ymin, ymax, zmin, zmax  0.0 2.0 0.0 2.0 0.0 2.0\n"
     ]
    }
   ],
   "source": [
    "a = 0.0\n",
    "alpha = 0.0\n",
    "\n",
    "mfield, dmfield = magnetic_field(\n",
    "    data_bz,\n",
    "    z0,\n",
    "    deltaz,\n",
    "    a,\n",
    "    b,\n",
    "    alpha,\n",
    "    xmin,\n",
    "    xmax,\n",
    "    ymin,\n",
    "    ymax,\n",
    "    zmin,\n",
    "    zmax,\n",
    "    nresol_x,\n",
    "    nresol_y,\n",
    "    nresol_z,\n",
    "    pixelsize_x,\n",
    "    pixelsize_y,\n",
    "    nf_max,\n",
    "    L,\n",
    ")"
   ]
  },
  {
   "cell_type": "code",
   "execution_count": 24,
   "metadata": {},
   "outputs": [],
   "source": [
    "Bx = mfield[nresol_y:2*nresol_y, nresol_x:2*nresol_x, :, 1]\n",
    "By = mfield[nresol_y:2*nresol_y, nresol_x:2*nresol_x, :, 0]\n",
    "Bz = mfield[nresol_y:2*nresol_y, nresol_x:2*nresol_x, :, 2]"
   ]
  },
  {
   "cell_type": "code",
   "execution_count": 21,
   "metadata": {},
   "outputs": [
    {
     "name": "stdout",
     "output_type": "stream",
     "text": [
      "200 200 400\n"
     ]
    }
   ],
   "source": [
    "print(nresol_x, nresol_y, nresol_z)"
   ]
  },
  {
   "cell_type": "code",
   "execution_count": 22,
   "metadata": {},
   "outputs": [
    {
     "name": "stdout",
     "output_type": "stream",
     "text": [
      "200 200 400\n"
     ]
    }
   ],
   "source": [
    "print(len(x_arr), len(y_arr), len(z_arr))"
   ]
  },
  {
   "cell_type": "code",
   "execution_count": 25,
   "metadata": {},
   "outputs": [
    {
     "name": "stdout",
     "output_type": "stream",
     "text": [
      "(200, 200, 400)\n",
      "(200, 200, 400)\n",
      "(200, 200, 400)\n"
     ]
    }
   ],
   "source": [
    "print(Bx.shape)\n",
    "print(By.shape)\n",
    "print(Bz.shape)"
   ]
  },
  {
   "cell_type": "code",
   "execution_count": 26,
   "metadata": {},
   "outputs": [],
   "source": [
    "filename = \"data/magfield.dat\"\n",
    "\n",
    "msatformat(nresol_x, nresol_y, nresol_z, Bx, By, Bz, x_arr, y_arr, z_arr, filename)"
   ]
  },
  {
   "cell_type": "code",
   "execution_count": 27,
   "metadata": {},
   "outputs": [],
   "source": [
    "import mflex.plot.linetracer.model3d as m3d"
   ]
  },
  {
   "cell_type": "code",
   "execution_count": 28,
   "metadata": {},
   "outputs": [
    {
     "ename": "AttributeError",
     "evalue": "module 'mflex.plot.linetracer' has no attribute 'make'",
     "output_type": "error",
     "traceback": [
      "\u001b[0;31m---------------------------------------------------------------------------\u001b[0m",
      "\u001b[0;31mAttributeError\u001b[0m                            Traceback (most recent call last)",
      "Cell \u001b[0;32mIn[28], line 1\u001b[0m\n\u001b[0;32m----> 1\u001b[0m \u001b[43mm3d\u001b[49m\u001b[38;5;241;43m.\u001b[39;49m\u001b[43mmake\u001b[49m(\u001b[38;5;124m'\u001b[39m\u001b[38;5;124mdata/magfield.dat\u001b[39m\u001b[38;5;124m'\u001b[39m, [\u001b[38;5;124m'\u001b[39m\u001b[38;5;124mnulls\u001b[39m\u001b[38;5;124m'\u001b[39m, \u001b[38;5;124m'\u001b[39m\u001b[38;5;124mseparators\u001b[39m\u001b[38;5;124m'\u001b[39m, \u001b[38;5;124m'\u001b[39m\u001b[38;5;124mspines\u001b[39m\u001b[38;5;124m'\u001b[39m,\u001b[38;5;124m'\u001b[39m\u001b[38;5;124msepsurf\u001b[39m\u001b[38;5;124m'\u001b[39m])\n",
      "\u001b[0;31mAttributeError\u001b[0m: module 'mflex.plot.linetracer' has no attribute 'make'"
     ]
    }
   ],
   "source": [
    "m3d.make('data/magfield.dat', ['nulls', 'separators', 'spines','sepsurf'])"
   ]
  }
 ],
 "metadata": {
  "kernelspec": {
   "display_name": "mflex-cNoQEf_u-py3.12",
   "language": "python",
   "name": "python3"
  },
  "language_info": {
   "codemirror_mode": {
    "name": "ipython",
    "version": 3
   },
   "file_extension": ".py",
   "mimetype": "text/x-python",
   "name": "python",
   "nbconvert_exporter": "python",
   "pygments_lexer": "ipython3",
   "version": "3.12.4"
  }
 },
 "nbformat": 4,
 "nbformat_minor": 2
}
