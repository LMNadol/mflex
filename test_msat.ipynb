{
 "cells": [
  {
   "cell_type": "code",
   "execution_count": 1,
   "metadata": {},
   "outputs": [],
   "source": [
    "%load_ext autoreload\n",
    "%autoreload 2"
   ]
  },
  {
   "cell_type": "code",
   "execution_count": 2,
   "metadata": {},
   "outputs": [],
   "source": [
    "import numpy as np\n",
    "from mflex.model.field.save import msatformat\n",
    "from mflex.model.field.bfield_model import magnetic_field\n",
    "from mflex.simulate.simulate_boundary import dipole, dalmatian"
   ]
  },
  {
   "cell_type": "code",
   "execution_count": 17,
   "metadata": {},
   "outputs": [],
   "source": [
    "nx, ny, nz = 200, 200, 200\n",
    "xmin, xmax, ymin, ymax, zmin, zmax = 0, 2, 0, 2, 0, 2\n",
    "xgrid = np.linspace(xmin, xmax, nx, dtype=np.float64)\n",
    "ygrid = np.linspace(ymin, ymax, ny, dtype=np.float64)\n",
    "zgrid = np.linspace(zmin, zmax, nz, dtype=np.float64)\n",
    "bx = np.zeros((nx, ny, nz), dtype=np.float64)\n",
    "by = np.zeros((nx, ny, nz), dtype=np.float64)\n",
    "bz = np.zeros((nx, ny, nz), dtype=np.float64)\n",
    "\n",
    "for ix, x in enumerate(xgrid):\n",
    "    for iy, y in enumerate(ygrid):\n",
    "        for iz, z in enumerate(zgrid):\n",
    "            bx[ix, iy, iz] = -x + 1\n",
    "            by[ix, iy, iz] = -y + 1\n",
    "            bz[ix, iy, iz] = 2 * z - 2\n",
    "\n",
    "\n",
    "with open(\"/Users/lilli/Desktop/mflex/data/magfield.dat\", \"wb\") as datafile:\n",
    "    np.array([nx, ny, nz], dtype=np.int32).tofile(datafile)\n",
    "    bx.T.tofile(datafile)\n",
    "    by.T.tofile(datafile)\n",
    "    bz.T.tofile(datafile)\n",
    "    xgrid.tofile(datafile)\n",
    "    ygrid.tofile(datafile)\n",
    "    zgrid.tofile(datafile)"
   ]
  },
  {
   "cell_type": "code",
   "execution_count": 22,
   "metadata": {},
   "outputs": [],
   "source": [
    "nx, ny, nz = 200, 200, 200\n",
    "xmin, xmax, ymin, ymax, zmin, zmax = -1, 1, -1, 1, -1, 1\n",
    "xgrid = np.linspace(xmin, xmax, nx, dtype=np.float64)\n",
    "ygrid = np.linspace(ymin, ymax, ny, dtype=np.float64)\n",
    "zgrid = np.linspace(zmin, zmax, nz, dtype=np.float64)\n",
    "x, y, z = np.meshgrid(xgrid, ygrid, zgrid, indexing='ij')\n",
    "p, q, jpar, jperp = 1, 0, 1, 0\n",
    "bx = x + (q - jpar)*y/2\n",
    "by = (q + jpar)*x/2 + p*y\n",
    "bz = jperp*y - (p + 1)*z\n",
    "\n",
    "with open('/Users/lilli/Desktop/mflex/data/magfield.dat', 'wb') as datafile:\n",
    "    np.array([nx, ny, nz], dtype=np.int32).tofile(datafile)\n",
    "    bx.T.tofile(datafile)\n",
    "    by.T.tofile(datafile)\n",
    "    bz.T.tofile(datafile)\n",
    "    xgrid.tofile(datafile)\n",
    "    ygrid.tofile(datafile)\n",
    "    zgrid.tofile(datafile)"
   ]
  },
  {
   "cell_type": "code",
   "execution_count": 11,
   "metadata": {},
   "outputs": [],
   "source": [
    "from msat.pyvis.model3d import Model3D\n",
    "import mayavi.mlab as ml"
   ]
  },
  {
   "cell_type": "code",
   "execution_count": 21,
   "metadata": {},
   "outputs": [
    {
     "name": "stdout",
     "output_type": "stream",
     "text": [
      "Using cartesian coordinates\n",
      "Adding nulls\n",
      "Adding spines\n"
     ]
    },
    {
     "ename": "ValueError",
     "evalue": "not enough values to unpack (expected 1, got 0)",
     "output_type": "error",
     "traceback": [
      "\u001b[0;31m---------------------------------------------------------------------------\u001b[0m",
      "\u001b[0;31mValueError\u001b[0m                                Traceback (most recent call last)",
      "Cell \u001b[0;32mIn[21], line 1\u001b[0m\n\u001b[0;32m----> 1\u001b[0m model \u001b[38;5;241m=\u001b[39m \u001b[43mModel3D\u001b[49m\u001b[43m(\u001b[49m\n\u001b[1;32m      2\u001b[0m \u001b[43m    \u001b[49m\u001b[38;5;124;43m\"\u001b[39;49m\u001b[38;5;124;43m/Users/lilli/Desktop/mflex/data/magfield.dat\u001b[39;49m\u001b[38;5;124;43m\"\u001b[39;49m\u001b[43m,\u001b[49m\n\u001b[1;32m      3\u001b[0m \u001b[43m    \u001b[49m\u001b[43m[\u001b[49m\u001b[38;5;124;43m\"\u001b[39;49m\u001b[38;5;124;43mnulls\u001b[39;49m\u001b[38;5;124;43m\"\u001b[39;49m\u001b[43m,\u001b[49m\u001b[43m \u001b[49m\u001b[38;5;124;43m\"\u001b[39;49m\u001b[38;5;124;43mspines\u001b[39;49m\u001b[38;5;124;43m\"\u001b[39;49m\u001b[43m]\u001b[49m\u001b[43m,\u001b[49m\n\u001b[1;32m      4\u001b[0m \u001b[43m    \u001b[49m\u001b[43moutdir\u001b[49m\u001b[38;5;241;43m=\u001b[39;49m\u001b[38;5;124;43m\"\u001b[39;49m\u001b[38;5;124;43m/Users/lilli/Desktop/mflex/output\u001b[39;49m\u001b[38;5;124;43m\"\u001b[39;49m\u001b[43m,\u001b[49m\n\u001b[1;32m      5\u001b[0m \u001b[43m)\u001b[49m\n",
      "File \u001b[0;32m~/Desktop/mflex/msat/pyvis/model3d.py:130\u001b[0m, in \u001b[0;36mModel3D.__init__\u001b[0;34m(self, filename, addlist, null_list, box, fieldlines, linecolor, nskip, nullrad, nfanlines, nring, coordsystem, no_nulls, sun, axes, outdir, periodicity, only_nf)\u001b[0m\n\u001b[1;32m    127\u001b[0m     \u001b[38;5;28mself\u001b[39m\u001b[38;5;241m.\u001b[39mnulldata \u001b[38;5;241m=\u001b[39m rd\u001b[38;5;241m.\u001b[39mnulls(filename, simple\u001b[38;5;241m=\u001b[39m\u001b[38;5;28;01mTrue\u001b[39;00m)\n\u001b[1;32m    128\u001b[0m     \u001b[38;5;28mself\u001b[39m\u001b[38;5;241m.\u001b[39mset_null_list(null_list)\n\u001b[0;32m--> 130\u001b[0m \u001b[38;5;28;43mself\u001b[39;49m\u001b[38;5;241;43m.\u001b[39;49m\u001b[43madd_structures\u001b[49m\u001b[43m(\u001b[49m\u001b[38;5;241;43m*\u001b[39;49m\u001b[43maddlist\u001b[49m\u001b[43m,\u001b[49m\u001b[43m \u001b[49m\u001b[43mnullrad\u001b[49m\u001b[38;5;241;43m=\u001b[39;49m\u001b[43mnullrad\u001b[49m\u001b[43m,\u001b[49m\u001b[43m \u001b[49m\u001b[43mnfanlines\u001b[49m\u001b[38;5;241;43m=\u001b[39;49m\u001b[43mnfanlines\u001b[49m\u001b[43m,\u001b[49m\u001b[43m \u001b[49m\u001b[43mnring\u001b[49m\u001b[38;5;241;43m=\u001b[39;49m\u001b[43mnring\u001b[49m\u001b[43m)\u001b[49m\n\u001b[1;32m    132\u001b[0m \u001b[38;5;28;01mif\u001b[39;00m \u001b[38;5;28mself\u001b[39m\u001b[38;5;241m.\u001b[39mcoordsystem \u001b[38;5;241m==\u001b[39m \u001b[38;5;124m\"\u001b[39m\u001b[38;5;124mspherical\u001b[39m\u001b[38;5;124m\"\u001b[39m:\n\u001b[1;32m    133\u001b[0m     \u001b[38;5;28;01mif\u001b[39;00m sun:\n",
      "File \u001b[0;32m~/Desktop/mflex/msat/pyvis/model3d.py:160\u001b[0m, in \u001b[0;36mModel3D.add_structures\u001b[0;34m(self, *args, **kwargs)\u001b[0m\n\u001b[1;32m    156\u001b[0m     \u001b[38;5;28mself\u001b[39m\u001b[38;5;241m.\u001b[39madd_sepsurf(\n\u001b[1;32m    157\u001b[0m         draw\u001b[38;5;241m=\u001b[39m\u001b[38;5;124m\"\u001b[39m\u001b[38;5;124mfieldlines\u001b[39m\u001b[38;5;124m\"\u001b[39m, nlines\u001b[38;5;241m=\u001b[39mkwargs[\u001b[38;5;124m\"\u001b[39m\u001b[38;5;124mnfanlines\u001b[39m\u001b[38;5;124m\"\u001b[39m], nring\u001b[38;5;241m=\u001b[39mkwargs[\u001b[38;5;124m\"\u001b[39m\u001b[38;5;124mnring\u001b[39m\u001b[38;5;124m\"\u001b[39m]\n\u001b[1;32m    158\u001b[0m     )\n\u001b[1;32m    159\u001b[0m \u001b[38;5;28;01mif\u001b[39;00m \u001b[38;5;124m\"\u001b[39m\u001b[38;5;124mspines\u001b[39m\u001b[38;5;124m\"\u001b[39m \u001b[38;5;129;01min\u001b[39;00m args:\n\u001b[0;32m--> 160\u001b[0m     \u001b[38;5;28;43mself\u001b[39;49m\u001b[38;5;241;43m.\u001b[39;49m\u001b[43madd_spines\u001b[49m\u001b[43m(\u001b[49m\u001b[43m)\u001b[49m\n\u001b[1;32m    161\u001b[0m \u001b[38;5;28;01mif\u001b[39;00m \u001b[38;5;124m\"\u001b[39m\u001b[38;5;124msepsurf_rings\u001b[39m\u001b[38;5;124m\"\u001b[39m \u001b[38;5;129;01min\u001b[39;00m args:\n\u001b[1;32m    162\u001b[0m     \u001b[38;5;28mself\u001b[39m\u001b[38;5;241m.\u001b[39madd_sepsurf()\n",
      "File \u001b[0;32m~/Desktop/mflex/msat/pyvis/model3d.py:686\u001b[0m, in \u001b[0;36mModel3D.add_spines\u001b[0;34m(self)\u001b[0m\n\u001b[1;32m    676\u001b[0m \u001b[38;5;28mprint\u001b[39m(\u001b[38;5;124m\"\u001b[39m\u001b[38;5;124mAdding spines\u001b[39m\u001b[38;5;124m\"\u001b[39m)\n\u001b[1;32m    678\u001b[0m cols \u001b[38;5;241m=\u001b[39m {\n\u001b[1;32m    679\u001b[0m     \u001b[38;5;241m-\u001b[39m\u001b[38;5;241m2\u001b[39m: (\u001b[38;5;241m0.5\u001b[39m, \u001b[38;5;241m0\u001b[39m, \u001b[38;5;241m0.5\u001b[39m),\n\u001b[1;32m    680\u001b[0m     \u001b[38;5;241m-\u001b[39m\u001b[38;5;241m1\u001b[39m: (\u001b[38;5;241m0\u001b[39m, \u001b[38;5;241m0\u001b[39m, \u001b[38;5;241m1\u001b[39m),\n\u001b[0;32m   (...)\u001b[0m\n\u001b[1;32m    683\u001b[0m     \u001b[38;5;241m2\u001b[39m: (\u001b[38;5;241m1\u001b[39m, \u001b[38;5;241m165\u001b[39m \u001b[38;5;241m/\u001b[39m \u001b[38;5;241m255\u001b[39m, \u001b[38;5;241m0\u001b[39m),\n\u001b[1;32m    684\u001b[0m }\n\u001b[0;32m--> 686\u001b[0m spines \u001b[38;5;241m=\u001b[39m \u001b[43mrd\u001b[49m\u001b[38;5;241;43m.\u001b[39;49m\u001b[43mspines\u001b[49m\u001b[43m(\u001b[49m\u001b[38;5;28;43mself\u001b[39;49m\u001b[38;5;241;43m.\u001b[39;49m\u001b[43mfilename\u001b[49m\u001b[43m,\u001b[49m\u001b[43m \u001b[49m\u001b[43mnull_list\u001b[49m\u001b[38;5;241;43m=\u001b[39;49m\u001b[38;5;28;43mself\u001b[39;49m\u001b[38;5;241;43m.\u001b[39;49m\u001b[43mnulllist\u001b[49m\u001b[43m)\u001b[49m\n\u001b[1;32m    688\u001b[0m nulls \u001b[38;5;241m=\u001b[39m \u001b[38;5;28mself\u001b[39m\u001b[38;5;241m.\u001b[39mnulldata[\u001b[38;5;28mself\u001b[39m\u001b[38;5;241m.\u001b[39mnulllist \u001b[38;5;241m-\u001b[39m \u001b[38;5;241m1\u001b[39m]\n\u001b[1;32m    690\u001b[0m \u001b[38;5;66;03m# very similar to ring algorithm without breaks\u001b[39;00m\n",
      "File \u001b[0;32m~/Desktop/mflex/msat/pyvis/read.py:152\u001b[0m, in \u001b[0;36mspines\u001b[0;34m(filename, null_list)\u001b[0m\n\u001b[1;32m    150\u001b[0m spinelisti \u001b[38;5;241m=\u001b[39m []\n\u001b[1;32m    151\u001b[0m \u001b[38;5;28;01mfor\u001b[39;00m _ \u001b[38;5;129;01min\u001b[39;00m \u001b[38;5;28mrange\u001b[39m(\u001b[38;5;241m2\u001b[39m): \u001b[38;5;66;03m# spine in each direction\u001b[39;00m\n\u001b[0;32m--> 152\u001b[0m     length, \u001b[38;5;241m=\u001b[39m np\u001b[38;5;241m.\u001b[39mfromfile(spinefile, dtype\u001b[38;5;241m=\u001b[39mnp\u001b[38;5;241m.\u001b[39mint32, count\u001b[38;5;241m=\u001b[39m\u001b[38;5;241m1\u001b[39m)\n\u001b[1;32m    153\u001b[0m     \u001b[38;5;28;01mif\u001b[39;00m inull \u001b[38;5;129;01min\u001b[39;00m null_list:\n\u001b[1;32m    154\u001b[0m         spinelisti\u001b[38;5;241m.\u001b[39mappend(np\u001b[38;5;241m.\u001b[39mfromfile(spinefile, dtype\u001b[38;5;241m=\u001b[39mnp\u001b[38;5;241m.\u001b[39mfloat64, count\u001b[38;5;241m=\u001b[39m\u001b[38;5;241m3\u001b[39m\u001b[38;5;241m*\u001b[39mlength)\u001b[38;5;241m.\u001b[39mreshape(\u001b[38;5;241m-\u001b[39m\u001b[38;5;241m1\u001b[39m, \u001b[38;5;241m3\u001b[39m))\n",
      "\u001b[0;31mValueError\u001b[0m: not enough values to unpack (expected 1, got 0)"
     ]
    }
   ],
   "source": [
    "model = Model3D(\n",
    "    \"/Users/lilli/Desktop/mflex/data/magfield.dat\",\n",
    "    [\"nulls\", \"spines\"],\n",
    "    outdir=\"/Users/lilli/Desktop/mflex/output\",\n",
    ")"
   ]
  },
  {
   "cell_type": "code",
   "execution_count": null,
   "metadata": {},
   "outputs": [],
   "source": []
  }
 ],
 "metadata": {
  "kernelspec": {
   "display_name": "mflex-cNoQEf_u-py3.12",
   "language": "python",
   "name": "python3"
  },
  "language_info": {
   "codemirror_mode": {
    "name": "ipython",
    "version": 3
   },
   "file_extension": ".py",
   "mimetype": "text/x-python",
   "name": "python",
   "nbconvert_exporter": "python",
   "pygments_lexer": "ipython3",
   "version": "3.12.4"
  }
 },
 "nbformat": 4,
 "nbformat_minor": 2
}
